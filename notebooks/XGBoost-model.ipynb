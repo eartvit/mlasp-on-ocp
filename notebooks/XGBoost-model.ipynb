{
 "cells": [
  {
   "cell_type": "code",
   "execution_count": null,
   "id": "11b62804-325e-48f9-9fee-e4b8f2d26d66",
   "metadata": {},
   "outputs": [],
   "source": [
    "!pip3 install pandas==1.3.3\n",
    "!pip3 install numpy==1.19.5\n",
    "!pip3 install xgboost==1.4.2\n",
    "!pip3 install scikit-learn==0.24.2\n",
    "!pip3 install matplotlib"
   ]
  },
  {
   "cell_type": "code",
   "execution_count": null,
   "id": "7449aba8-9b91-4265-8406-b34bca561a9c",
   "metadata": {},
   "outputs": [],
   "source": [
    "from sklearn import metrics\n",
    "import xgboost as xgb\n",
    "import joblib"
   ]
  },
  {
   "cell_type": "code",
   "execution_count": null,
   "id": "d2145b03-45c8-435c-918d-f94d23d6c91b",
   "metadata": {},
   "outputs": [],
   "source": [
    "xgbModel = xgb.XGBRegressor(objective=\"reg:squarederror\", random_state=42, n_estimators=400)"
   ]
  },
  {
   "cell_type": "code",
   "execution_count": null,
   "id": "f5698b57-2887-4b51-a8e7-8c7aa8514ece",
   "metadata": {},
   "outputs": [],
   "source": [
    "import pandas as pd\n",
    "import numpy as np\n",
    "import matplotlib.pyplot as plt\n",
    "%matplotlib inline"
   ]
  },
  {
   "cell_type": "code",
   "execution_count": null,
   "id": "ac816ae9-57fe-443b-a298-411395db32b5",
   "metadata": {},
   "outputs": [],
   "source": [
    "import pytz\n",
    "from datetime import timedelta, datetime\n",
    "local_tz = pytz.timezone('America/Toronto') # Set local timezone for InfluxDB based times calculations\n",
    "today=datetime.today().strftime('%Y-%m-%d')"
   ]
  },
  {
   "cell_type": "markdown",
   "id": "c7839bf0-de93-4191-bb7b-04f426be3a6b",
   "metadata": {},
   "source": [
    "#### Note: if you did not create new data for the model training, a sample is provided in this repository. \n",
    "#### To use it, ensure that in the next cell the instruction with the file name lt_results_2022-10-01.csv in it is executed and not the one using \"today's\" date"
   ]
  },
  {
   "cell_type": "code",
   "execution_count": null,
   "id": "44351c78-7bd2-4ffc-8029-f971e62d6e09",
   "metadata": {},
   "outputs": [],
   "source": [
    "data = pd.read_csv('lt_results_'+today+'.csv', index_col='DateTime', parse_dates=True, infer_datetime_format=True)\n",
    "#data = pd.read_csv('lt_results_2022-10-01.csv', index_col='DateTime', parse_dates=True, infer_datetime_format=True)"
   ]
  },
  {
   "cell_type": "code",
   "execution_count": null,
   "id": "d1f3eaae-82c8-4c5b-976f-705aedf80ba4",
   "metadata": {},
   "outputs": [],
   "source": [
    "data.head()"
   ]
  },
  {
   "cell_type": "code",
   "execution_count": null,
   "id": "2435b5e3-39c5-4066-b449-1854f7479d37",
   "metadata": {},
   "outputs": [],
   "source": [
    "data = data.drop(columns=['req2xx', 'testDurationSeconds'])"
   ]
  },
  {
   "cell_type": "code",
   "execution_count": null,
   "id": "451236eb-36ce-4da6-b805-7d43345c50a0",
   "metadata": {},
   "outputs": [],
   "source": [
    "from sklearn.model_selection import train_test_split\n",
    "\n",
    "X_train, X_test, y_train, y_test = train_test_split(data, data.mean_tps,\n",
    "                                                    test_size=0.1,\n",
    "                                                    random_state=0) # we are setting the seed here\n",
    "X_train.shape, X_test.shape"
   ]
  },
  {
   "cell_type": "code",
   "execution_count": null,
   "id": "3db82e83-775c-4ed9-bb92-33eb69eba066",
   "metadata": {},
   "outputs": [],
   "source": [
    "target_var = 'mean_tps'\n",
    "X_train = X_train.drop(target_var, axis=1)\n",
    "X_test = X_test.drop(target_var, axis=1)"
   ]
  },
  {
   "cell_type": "code",
   "execution_count": null,
   "id": "bbc5b348-e5cc-4b58-bd0b-414b6b785a9b",
   "metadata": {},
   "outputs": [],
   "source": [
    "evalset = [(X_train, y_train), (X_test, y_test)]"
   ]
  },
  {
   "cell_type": "code",
   "execution_count": null,
   "id": "66ca337d-6594-43a8-841b-996fb9328d73",
   "metadata": {},
   "outputs": [],
   "source": [
    "xgbModel.fit(X_train, y_train, eval_set=evalset ,  eval_metric=['mae', 'rmse'], verbose=False)"
   ]
  },
  {
   "cell_type": "code",
   "execution_count": null,
   "id": "84569bcd-2d55-4975-b226-905e72b1b6ce",
   "metadata": {},
   "outputs": [],
   "source": [
    "y_pred = xgbModel.predict(X_test)"
   ]
  },
  {
   "cell_type": "code",
   "execution_count": null,
   "id": "dc7159a8-a1c5-4311-9986-289142124a0f",
   "metadata": {},
   "outputs": [],
   "source": [
    "results = xgbModel.evals_result()"
   ]
  },
  {
   "cell_type": "code",
   "execution_count": null,
   "id": "32553b75-ce09-44bd-bf90-53e04dc537b6",
   "metadata": {},
   "outputs": [],
   "source": [
    "plt.figure(figsize=(20,10))\n",
    "plt.rcParams.update({'font.size': 20})\n",
    "plt.plot(results['validation_0']['rmse'])\n",
    "plt.plot(results['validation_1']['rmse'])\n",
    "plt.title('Validation vs Train loss')\n",
    "plt.ylabel('Loss')\n",
    "plt.xlabel('Estimators')\n",
    "plt.legend(['train', 'validation'], loc='upper right')\n",
    "plt.show()"
   ]
  },
  {
   "cell_type": "code",
   "execution_count": null,
   "id": "cb24e016-1e56-4b9f-9110-7fc0fd0abeee",
   "metadata": {},
   "outputs": [],
   "source": [
    "mae = metrics.mean_absolute_error(y_test, y_pred)\n",
    "R2 = metrics.r2_score(y_test, y_pred)\n",
    "mse = metrics.mean_squared_error(y_test, y_pred)\n",
    "mape = metrics.mean_absolute_percentage_error(y_test, y_pred)\n",
    "print(f'MAE = {mae} \\nRMSE = {np.sqrt(mse)} \\nR2 = {R2} \\nMAPE = {mape*100:.2f} %')"
   ]
  },
  {
   "cell_type": "code",
   "execution_count": null,
   "id": "c3a53529-b2b1-45df-a14a-989686e17ed8",
   "metadata": {},
   "outputs": [],
   "source": [
    "# Plot prediction vs original\n",
    "plt.figure(figsize=(20,10))\n",
    "plt.scatter(range(y_test.shape[0]),y_test,label=\"Original Data\", alpha=0.6, c='black')\n",
    "plt.scatter(range(y_pred.shape[0]),y_pred,label=\"Predicted Data\", \n",
    "            alpha=0.6, c='red')\n",
    "plt.ylabel('Mean TPS')\n",
    "plt.xlabel('Test Records')\n",
    "plt.title('XGBoost prediction vs original')\n",
    "plt.legend()\n",
    "plt.show()"
   ]
  },
  {
   "cell_type": "code",
   "execution_count": null,
   "id": "8c882733-9dae-4e47-a95c-ed9ea6d98840",
   "metadata": {},
   "outputs": [],
   "source": [
    "xgb.plot_importance(xgbModel);"
   ]
  },
  {
   "cell_type": "code",
   "execution_count": null,
   "id": "168e7a27-4151-4b8e-bcba-f288f632d376",
   "metadata": {},
   "outputs": [],
   "source": [
    "X_test.columns"
   ]
  },
  {
   "cell_type": "code",
   "execution_count": null,
   "id": "4d8b24e8-a8e9-4a95-b7e8-46ba09ad38af",
   "metadata": {},
   "outputs": [],
   "source": [
    "record = [[True, 21, 277, 1712, 262, 7, 31, 5]]"
   ]
  },
  {
   "cell_type": "code",
   "execution_count": null,
   "id": "e0f1bc71-9337-49b2-b031-54bf39169a08",
   "metadata": {},
   "outputs": [],
   "source": [
    "test_rec = pd.DataFrame(record, columns=X_train.columns)"
   ]
  },
  {
   "cell_type": "code",
   "execution_count": null,
   "id": "ff8e6273-16be-4a4e-ba84-da3454406c97",
   "metadata": {},
   "outputs": [],
   "source": [
    "xgbModel.predict(test_rec)"
   ]
  },
  {
   "cell_type": "code",
   "execution_count": null,
   "id": "ebb89038-4611-4d1d-afb4-63d017c8931e",
   "metadata": {},
   "outputs": [],
   "source": [
    "joblib.dump(xgbModel, 'xgbModel.pkl')"
   ]
  },
  {
   "cell_type": "code",
   "execution_count": null,
   "id": "1db0615f-c5f6-4afa-92db-f13aa6e36d2a",
   "metadata": {},
   "outputs": [],
   "source": [
    "record = [[1, 21, 277, 1712, 262, 7, 31, 5]]"
   ]
  },
  {
   "cell_type": "code",
   "execution_count": null,
   "id": "cd50bc33-ebc6-4aaf-8d23-e4c9e13d1eef",
   "metadata": {},
   "outputs": [],
   "source": [
    "test_rec = pd.DataFrame(record, columns=X_train.columns)"
   ]
  },
  {
   "cell_type": "code",
   "execution_count": null,
   "id": "b74932c3-fb42-4bd4-ac61-84bd814da0b5",
   "metadata": {},
   "outputs": [],
   "source": [
    "xgbModel.predict(test_rec)"
   ]
  },
  {
   "cell_type": "code",
   "execution_count": null,
   "id": "a39f2c8c-1d8a-4e8e-9c38-c072b81b166b",
   "metadata": {},
   "outputs": [],
   "source": []
  }
 ],
 "metadata": {
  "kernelspec": {
   "display_name": "Python 3",
   "language": "python",
   "name": "python3"
  },
  "language_info": {
   "codemirror_mode": {
    "name": "ipython",
    "version": 3
   },
   "file_extension": ".py",
   "mimetype": "text/x-python",
   "name": "python",
   "nbconvert_exporter": "python",
   "pygments_lexer": "ipython3",
   "version": "3.8.6"
  }
 },
 "nbformat": 4,
 "nbformat_minor": 5
}
