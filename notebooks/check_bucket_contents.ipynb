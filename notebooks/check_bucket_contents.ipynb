{
 "cells": [
  {
   "cell_type": "code",
   "execution_count": null,
   "id": "f4a8b390-e3db-45f7-9f97-ba31c8d51c33",
   "metadata": {
    "tags": []
   },
   "outputs": [],
   "source": [
    "import boto3\n",
    "import botocore\n",
    "import os"
   ]
  },
  {
   "cell_type": "code",
   "execution_count": null,
   "id": "054cf2bb-6e5d-4116-967b-435c29dc4284",
   "metadata": {},
   "outputs": [],
   "source": [
    "aws_access_key_id = os.environ[\"AWS_ACCESS_KEY_ID\"]\n",
    "aws_secret_access_key = os.environ[\"AWS_SECRET_ACCESS_KEY\"]\n",
    "endpoint_url = os.environ[\"AWS_S3_ENDPOINT\"]\n",
    "bucket_name = os.environ[\"AWS_S3_BUCKET\"]\n",
    "region_name = os.environ[\"AWS_DEFAULT_REGION\"]"
   ]
  },
  {
   "cell_type": "code",
   "execution_count": null,
   "id": "cc047981-7464-407f-a706-f024745cbcb4",
   "metadata": {},
   "outputs": [],
   "source": [
    "s3_resource = boto3.resource(service_name= 's3',\n",
    "                             endpoint_url = endpoint_url,\n",
    "                             aws_access_key_id = aws_access_key_id,\n",
    "                             aws_secret_access_key = aws_secret_access_key,\n",
    "                             region_name = region_name,\n",
    "                             #config=botocore.client.Config(signature_version = 's3')\n",
    "                            )"
   ]
  },
  {
   "cell_type": "code",
   "execution_count": null,
   "id": "cff44656-7b39-4005-bf78-a7e7bb9b171b",
   "metadata": {},
   "outputs": [],
   "source": [
    "my_bucket = s3_resource.Bucket(bucket_name)\n",
    "\n",
    "for my_bucket_object in my_bucket.objects.all():\n",
    "    print(my_bucket_object.key)"
   ]
  },
  {
   "cell_type": "code",
   "execution_count": null,
   "id": "1a9d376a-6a5e-4d69-a53b-a1e53a2e0862",
   "metadata": {},
   "outputs": [],
   "source": []
  }
 ],
 "metadata": {
  "kernelspec": {
   "display_name": "Python 3",
   "language": "python",
   "name": "python3"
  },
  "language_info": {
   "codemirror_mode": {
    "name": "ipython",
    "version": 3
   },
   "file_extension": ".py",
   "mimetype": "text/x-python",
   "name": "python",
   "nbconvert_exporter": "python",
   "pygments_lexer": "ipython3",
   "version": "3.8.13"
  }
 },
 "nbformat": 4,
 "nbformat_minor": 5
}
