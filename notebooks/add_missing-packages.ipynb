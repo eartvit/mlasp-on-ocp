{
 "cells": [
  {
   "cell_type": "code",
   "execution_count": null,
   "id": "379099a5-8f79-482c-9498-28b6c426c81b",
   "metadata": {},
   "outputs": [],
   "source": [
    "# For RHOAI add this Notebook image quay.io/opendatahub/workbench-images:cuda-jupyter-tensorflow-ubi9-python-3.9-2023a-20240513\n",
    "# and then use it for the notebooks (install the below dependencies firts)"
   ]
  },
  {
   "cell_type": "code",
   "execution_count": null,
   "id": "f06a9bc3-baa5-41dc-a935-cd9ecc94e08c",
   "metadata": {},
   "outputs": [],
   "source": [
    "!pip install -q influxdb"
   ]
  },
  {
   "cell_type": "code",
   "execution_count": null,
   "id": "d81b958b-aed1-4a06-a956-f9d40e2635fb",
   "metadata": {},
   "outputs": [],
   "source": [
    "!pip install -q prometheus-api"
   ]
  },
  {
   "cell_type": "code",
   "execution_count": null,
   "id": "84984547-8816-46b8-bd52-1a9309f4a080",
   "metadata": {},
   "outputs": [],
   "source": [
    "!pip install -q prometheus-api-client prometheus-client"
   ]
  },
  {
   "cell_type": "code",
   "execution_count": null,
   "id": "92ba2980-aeab-4def-97f5-c67909a1ec2c",
   "metadata": {
    "tags": []
   },
   "outputs": [],
   "source": [
    "#!pip install -q codeflare-sdk\n",
    "!pip install -q codeflare-sdk==0.17.0"
   ]
  },
  {
   "cell_type": "code",
   "execution_count": null,
   "id": "bd2f8bd5-cd9e-46d4-9c5d-259b29153dbd",
   "metadata": {},
   "outputs": [],
   "source": [
    "!pip install -q ray==\"2.6.3\""
   ]
  },
  {
   "cell_type": "code",
   "execution_count": null,
   "id": "e0bd9f6b-fa72-4651-92da-7a1817f30ffa",
   "metadata": {},
   "outputs": [],
   "source": [
    "!pip install -q mlflow==\"2.6.0\""
   ]
  },
  {
   "cell_type": "code",
   "execution_count": null,
   "id": "57ff7ab3-dd43-42a3-89cd-ab85bcbe2a1c",
   "metadata": {},
   "outputs": [],
   "source": []
  }
 ],
 "metadata": {
  "kernelspec": {
   "display_name": "Python 3 (ipykernel)",
   "language": "python",
   "name": "python3"
  },
  "language_info": {
   "codemirror_mode": {
    "name": "ipython",
    "version": 3
   },
   "file_extension": ".py",
   "mimetype": "text/x-python",
   "name": "python",
   "nbconvert_exporter": "python",
   "pygments_lexer": "ipython3",
   "version": "3.10.12"
  }
 },
 "nbformat": 4,
 "nbformat_minor": 5
}
