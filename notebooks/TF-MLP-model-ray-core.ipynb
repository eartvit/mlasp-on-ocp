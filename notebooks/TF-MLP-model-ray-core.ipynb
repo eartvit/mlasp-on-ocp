{
 "cells": [
  {
   "cell_type": "code",
   "execution_count": 1,
   "id": "7449aba8-9b91-4265-8406-b34bca561a9c",
   "metadata": {},
   "outputs": [],
   "source": [
    "from sklearn import metrics\n",
    "import joblib"
   ]
  },
  {
   "cell_type": "code",
   "execution_count": 2,
   "id": "f5698b57-2887-4b51-a8e7-8c7aa8514ece",
   "metadata": {},
   "outputs": [],
   "source": [
    "import pandas as pd\n",
    "import numpy as np\n",
    "import matplotlib.pyplot as plt\n",
    "%matplotlib inline"
   ]
  },
  {
   "cell_type": "code",
   "execution_count": 3,
   "id": "34794a03",
   "metadata": {},
   "outputs": [],
   "source": [
    "from numpy.random import seed\n",
    "seed(42)\n",
    "import tensorflow as tf"
   ]
  },
  {
   "cell_type": "code",
   "execution_count": 4,
   "id": "ac816ae9-57fe-443b-a298-411395db32b5",
   "metadata": {},
   "outputs": [],
   "source": [
    "import pytz\n",
    "from datetime import timedelta, datetime\n",
    "local_tz = pytz.timezone('America/Toronto') # Set local timezone for InfluxDB based times calculations\n",
    "today=datetime.today().strftime('%Y-%m-%d')"
   ]
  },
  {
   "cell_type": "markdown",
   "id": "c7839bf0-de93-4191-bb7b-04f426be3a6b",
   "metadata": {},
   "source": [
    "#### Note: if you did not create new data for the model training, a sample is provided in this repository. \n",
    "#### To use it, ensure that in the next cell the instruction with the file name lt_results_2022-10-01.csv in it is executed and not the one using \"today's\" date"
   ]
  },
  {
   "cell_type": "code",
   "execution_count": 5,
   "id": "44351c78-7bd2-4ffc-8029-f971e62d6e09",
   "metadata": {},
   "outputs": [],
   "source": [
    "#data = pd.read_csv('lt_results_'+today+'.csv', index_col='DateTime', parse_dates=True, infer_datetime_format=True)\n",
    "data = pd.read_csv('lt_results_2022-10-01.csv', index_col='DateTime', parse_dates=True, infer_datetime_format=True)"
   ]
  },
  {
   "cell_type": "code",
   "execution_count": 6,
   "id": "d1f3eaae-82c8-4c5b-976f-705aedf80ba4",
   "metadata": {},
   "outputs": [
    {
     "data": {
      "text/html": [
       "<div>\n",
       "<style scoped>\n",
       "    .dataframe tbody tr th:only-of-type {\n",
       "        vertical-align: middle;\n",
       "    }\n",
       "\n",
       "    .dataframe tbody tr th {\n",
       "        vertical-align: top;\n",
       "    }\n",
       "\n",
       "    .dataframe thead th {\n",
       "        text-align: right;\n",
       "    }\n",
       "</style>\n",
       "<table border=\"1\" class=\"dataframe\">\n",
       "  <thead>\n",
       "    <tr style=\"text-align: right;\">\n",
       "      <th></th>\n",
       "      <th>asyncResp</th>\n",
       "      <th>asyncRespThreads</th>\n",
       "      <th>cThreads</th>\n",
       "      <th>jacptQSize</th>\n",
       "      <th>jacptThreads</th>\n",
       "      <th>ltTargetSize</th>\n",
       "      <th>mean_tps</th>\n",
       "      <th>numConnections</th>\n",
       "      <th>req2xx</th>\n",
       "      <th>testDurationSeconds</th>\n",
       "      <th>timeoutSeconds</th>\n",
       "    </tr>\n",
       "    <tr>\n",
       "      <th>DateTime</th>\n",
       "      <th></th>\n",
       "      <th></th>\n",
       "      <th></th>\n",
       "      <th></th>\n",
       "      <th></th>\n",
       "      <th></th>\n",
       "      <th></th>\n",
       "      <th></th>\n",
       "      <th></th>\n",
       "      <th></th>\n",
       "      <th></th>\n",
       "    </tr>\n",
       "  </thead>\n",
       "  <tbody>\n",
       "    <tr>\n",
       "      <th>2022-09-28 15:25:25+00:00</th>\n",
       "      <td>True</td>\n",
       "      <td>21.0</td>\n",
       "      <td>277.0</td>\n",
       "      <td>1712.0</td>\n",
       "      <td>262.0</td>\n",
       "      <td>7.0</td>\n",
       "      <td>307.015227</td>\n",
       "      <td>31.0</td>\n",
       "      <td>50679.0</td>\n",
       "      <td>165.0</td>\n",
       "      <td>5.0</td>\n",
       "    </tr>\n",
       "    <tr>\n",
       "      <th>2022-09-28 15:34:42+00:00</th>\n",
       "      <td>True</td>\n",
       "      <td>30.0</td>\n",
       "      <td>173.0</td>\n",
       "      <td>2788.0</td>\n",
       "      <td>158.0</td>\n",
       "      <td>1.0</td>\n",
       "      <td>347.427221</td>\n",
       "      <td>35.0</td>\n",
       "      <td>146793.0</td>\n",
       "      <td>423.0</td>\n",
       "      <td>5.0</td>\n",
       "    </tr>\n",
       "    <tr>\n",
       "      <th>2022-09-28 15:47:10+00:00</th>\n",
       "      <td>True</td>\n",
       "      <td>28.0</td>\n",
       "      <td>125.0</td>\n",
       "      <td>1411.0</td>\n",
       "      <td>110.0</td>\n",
       "      <td>15.0</td>\n",
       "      <td>138.693699</td>\n",
       "      <td>14.0</td>\n",
       "      <td>84757.0</td>\n",
       "      <td>611.0</td>\n",
       "      <td>5.0</td>\n",
       "    </tr>\n",
       "    <tr>\n",
       "      <th>2022-09-28 15:56:35+00:00</th>\n",
       "      <td>True</td>\n",
       "      <td>14.0</td>\n",
       "      <td>115.0</td>\n",
       "      <td>1176.0</td>\n",
       "      <td>100.0</td>\n",
       "      <td>12.0</td>\n",
       "      <td>158.212165</td>\n",
       "      <td>16.0</td>\n",
       "      <td>68515.0</td>\n",
       "      <td>433.0</td>\n",
       "      <td>5.0</td>\n",
       "    </tr>\n",
       "    <tr>\n",
       "      <th>2022-09-28 16:01:09+00:00</th>\n",
       "      <td>True</td>\n",
       "      <td>30.0</td>\n",
       "      <td>226.0</td>\n",
       "      <td>2296.0</td>\n",
       "      <td>211.0</td>\n",
       "      <td>12.0</td>\n",
       "      <td>245.806605</td>\n",
       "      <td>25.0</td>\n",
       "      <td>34173.0</td>\n",
       "      <td>139.0</td>\n",
       "      <td>5.0</td>\n",
       "    </tr>\n",
       "  </tbody>\n",
       "</table>\n",
       "</div>"
      ],
      "text/plain": [
       "                           asyncResp  asyncRespThreads  cThreads  jacptQSize  \\\n",
       "DateTime                                                                       \n",
       "2022-09-28 15:25:25+00:00       True              21.0     277.0      1712.0   \n",
       "2022-09-28 15:34:42+00:00       True              30.0     173.0      2788.0   \n",
       "2022-09-28 15:47:10+00:00       True              28.0     125.0      1411.0   \n",
       "2022-09-28 15:56:35+00:00       True              14.0     115.0      1176.0   \n",
       "2022-09-28 16:01:09+00:00       True              30.0     226.0      2296.0   \n",
       "\n",
       "                           jacptThreads  ltTargetSize    mean_tps  \\\n",
       "DateTime                                                            \n",
       "2022-09-28 15:25:25+00:00         262.0           7.0  307.015227   \n",
       "2022-09-28 15:34:42+00:00         158.0           1.0  347.427221   \n",
       "2022-09-28 15:47:10+00:00         110.0          15.0  138.693699   \n",
       "2022-09-28 15:56:35+00:00         100.0          12.0  158.212165   \n",
       "2022-09-28 16:01:09+00:00         211.0          12.0  245.806605   \n",
       "\n",
       "                           numConnections    req2xx  testDurationSeconds  \\\n",
       "DateTime                                                                   \n",
       "2022-09-28 15:25:25+00:00            31.0   50679.0                165.0   \n",
       "2022-09-28 15:34:42+00:00            35.0  146793.0                423.0   \n",
       "2022-09-28 15:47:10+00:00            14.0   84757.0                611.0   \n",
       "2022-09-28 15:56:35+00:00            16.0   68515.0                433.0   \n",
       "2022-09-28 16:01:09+00:00            25.0   34173.0                139.0   \n",
       "\n",
       "                           timeoutSeconds  \n",
       "DateTime                                   \n",
       "2022-09-28 15:25:25+00:00             5.0  \n",
       "2022-09-28 15:34:42+00:00             5.0  \n",
       "2022-09-28 15:47:10+00:00             5.0  \n",
       "2022-09-28 15:56:35+00:00             5.0  \n",
       "2022-09-28 16:01:09+00:00             5.0  "
      ]
     },
     "execution_count": 6,
     "metadata": {},
     "output_type": "execute_result"
    }
   ],
   "source": [
    "data.head()"
   ]
  },
  {
   "cell_type": "code",
   "execution_count": 7,
   "id": "2435b5e3-39c5-4066-b449-1854f7479d37",
   "metadata": {},
   "outputs": [],
   "source": [
    "data = data.drop(columns=['req2xx', 'testDurationSeconds'])"
   ]
  },
  {
   "cell_type": "code",
   "execution_count": 8,
   "id": "451236eb-36ce-4da6-b805-7d43345c50a0",
   "metadata": {},
   "outputs": [
    {
     "data": {
      "text/plain": [
       "((74, 9), (9, 9))"
      ]
     },
     "execution_count": 8,
     "metadata": {},
     "output_type": "execute_result"
    }
   ],
   "source": [
    "from sklearn.model_selection import train_test_split\n",
    "\n",
    "X_train, X_test, y_train, y_test = train_test_split(data, data.mean_tps,\n",
    "                                                    test_size=0.1,\n",
    "                                                    random_state=0) # we are setting the seed here\n",
    "X_train.shape, X_test.shape"
   ]
  },
  {
   "cell_type": "code",
   "execution_count": 9,
   "id": "3db82e83-775c-4ed9-bb92-33eb69eba066",
   "metadata": {},
   "outputs": [],
   "source": [
    "target_var = 'mean_tps'\n",
    "X_train = X_train.drop(target_var, axis=1)\n",
    "X_test = X_test.drop(target_var, axis=1)"
   ]
  },
  {
   "cell_type": "code",
   "execution_count": 10,
   "id": "8af28291",
   "metadata": {},
   "outputs": [],
   "source": [
    "from sklearn.preprocessing import StandardScaler"
   ]
  },
  {
   "cell_type": "code",
   "execution_count": 11,
   "id": "4d8f4eab",
   "metadata": {},
   "outputs": [],
   "source": [
    "stdScaler = StandardScaler()\n",
    "targetStdScaler = StandardScaler()"
   ]
  },
  {
   "cell_type": "code",
   "execution_count": 12,
   "id": "a7763e0d",
   "metadata": {},
   "outputs": [],
   "source": [
    "X_train_scaled = stdScaler.fit_transform(X_train.values)\n",
    "y_train_scaled = targetStdScaler.fit_transform(y_train.values.reshape(-1,1))"
   ]
  },
  {
   "cell_type": "code",
   "execution_count": 13,
   "id": "1441a568",
   "metadata": {},
   "outputs": [],
   "source": [
    "X_test_scaled = stdScaler.transform(X_test.values)\n",
    "y_test_scaled = targetStdScaler.transform(y_test.values.reshape(-1,1))"
   ]
  },
  {
   "cell_type": "code",
   "execution_count": 14,
   "id": "bf5f2608",
   "metadata": {},
   "outputs": [],
   "source": [
    "# Neural Nets imports\n",
    "from tensorflow.keras.models import Sequential, load_model, save_model\n",
    "from tensorflow.keras.layers import Dense, Dropout, BatchNormalization \n",
    "from tensorflow.keras.optimizers import Adam\n",
    "from tensorflow.keras.callbacks import ReduceLROnPlateau, ModelCheckpoint\n",
    "from tensorflow.keras.regularizers import l1, l2, l1_l2"
   ]
  },
  {
   "cell_type": "code",
   "execution_count": 15,
   "id": "f6a21de7",
   "metadata": {},
   "outputs": [],
   "source": [
    "import ray"
   ]
  },
  {
   "cell_type": "code",
   "execution_count": 16,
   "id": "4cbe9011",
   "metadata": {},
   "outputs": [],
   "source": [
    "ray.shutdown()"
   ]
  },
  {
   "cell_type": "code",
   "execution_count": 17,
   "id": "65445577-1974-4e01-988c-90fdfe3bc93d",
   "metadata": {},
   "outputs": [],
   "source": [
    "ray_endpoint = 'ray://raycluster-complete-head-svc.raycluster.svc.cluster.local:10001'"
   ]
  },
  {
   "cell_type": "code",
   "execution_count": 18,
   "id": "5a7b5b4b-5c0a-46c1-8fbe-a4e6c627d104",
   "metadata": {},
   "outputs": [],
   "source": [
    "import os"
   ]
  },
  {
   "cell_type": "code",
   "execution_count": 19,
   "id": "5fa7afdc-69cc-4197-ac03-fd1f03535653",
   "metadata": {},
   "outputs": [],
   "source": [
    "#Retrieve AWS access from the data connection attached to the workbench\n",
    "aws_access_key_id = os.environ[\"AWS_ACCESS_KEY_ID\"]\n",
    "aws_secret_access_key = os.environ[\"AWS_SECRET_ACCESS_KEY\"]\n",
    "endpoint_url = os.environ[\"AWS_S3_ENDPOINT\"]\n",
    "bucket_name = os.environ[\"AWS_S3_BUCKET\"]\n",
    "region_name = os.environ[\"AWS_DEFAULT_REGION\"]"
   ]
  },
  {
   "cell_type": "code",
   "execution_count": 20,
   "id": "bf7111cd",
   "metadata": {},
   "outputs": [
    {
     "data": {
      "text/html": [
       "<div>\n",
       "    <div style=\"margin-left: 50px;display: flex;flex-direction: row;align-items: center\">\n",
       "        <h3 style=\"color: var(--jp-ui-font-color0)\">Ray</h3>\n",
       "        <svg version=\"1.1\" id=\"ray\" width=\"3em\" viewBox=\"0 0 144.5 144.6\" style=\"margin-left: 3em;margin-right: 3em\">\n",
       "            <g id=\"layer-1\">\n",
       "                <path fill=\"#00a2e9\" class=\"st0\" d=\"M97.3,77.2c-3.8-1.1-6.2,0.9-8.3,5.1c-3.5,6.8-9.9,9.9-17.4,9.6S58,88.1,54.8,81.2c-1.4-3-3-4-6.3-4.1\n",
       "                    c-5.6-0.1-9.9,0.1-13.1,6.4c-3.8,7.6-13.6,10.2-21.8,7.6C5.2,88.4-0.4,80.5,0,71.7c0.1-8.4,5.7-15.8,13.8-18.2\n",
       "                    c8.4-2.6,17.5,0.7,22.3,8c1.3,1.9,1.3,5.2,3.6,5.6c3.9,0.6,8,0.2,12,0.2c1.8,0,1.9-1.6,2.4-2.8c3.5-7.8,9.7-11.8,18-11.9\n",
       "                    c8.2-0.1,14.4,3.9,17.8,11.4c1.3,2.8,2.9,3.6,5.7,3.3c1-0.1,2,0.1,3,0c2.8-0.5,6.4,1.7,8.1-2.7s-2.3-5.5-4.1-7.5\n",
       "                    c-5.1-5.7-10.9-10.8-16.1-16.3C84,38,81.9,37.1,78,38.3C66.7,42,56.2,35.7,53,24.1C50.3,14,57.3,2.8,67.7,0.5\n",
       "                    C78.4-2,89,4.7,91.5,15.3c0.1,0.3,0.1,0.5,0.2,0.8c0.7,3.4,0.7,6.9-0.8,9.8c-1.7,3.2-0.8,5,1.5,7.2c6.7,6.5,13.3,13,19.8,19.7\n",
       "                    c1.8,1.8,3,2.1,5.5,1.2c9.1-3.4,17.9-0.6,23.4,7c4.8,6.9,4.6,16.1-0.4,22.9c-5.4,7.2-14.2,9.9-23.1,6.5c-2.3-0.9-3.5-0.6-5.1,1.1\n",
       "                    c-6.7,6.9-13.6,13.7-20.5,20.4c-1.8,1.8-2.5,3.2-1.4,5.9c3.5,8.7,0.3,18.6-7.7,23.6c-7.9,5-18.2,3.8-24.8-2.9\n",
       "                    c-6.4-6.4-7.4-16.2-2.5-24.3c4.9-7.8,14.5-11,23.1-7.8c3,1.1,4.7,0.5,6.9-1.7C91.7,98.4,98,92.3,104.2,86c1.6-1.6,4.1-2.7,2.6-6.2\n",
       "                    c-1.4-3.3-3.8-2.5-6.2-2.6C99.8,77.2,98.9,77.2,97.3,77.2z M72.1,29.7c5.5,0.1,9.9-4.3,10-9.8c0-0.1,0-0.2,0-0.3\n",
       "                    C81.8,14,77,9.8,71.5,10.2c-5,0.3-9,4.2-9.3,9.2c-0.2,5.5,4,10.1,9.5,10.3C71.8,29.7,72,29.7,72.1,29.7z M72.3,62.3\n",
       "                    c-5.4-0.1-9.9,4.2-10.1,9.7c0,0.2,0,0.3,0,0.5c0.2,5.4,4.5,9.7,9.9,10c5.1,0.1,9.9-4.7,10.1-9.8c0.2-5.5-4-10-9.5-10.3\n",
       "                    C72.6,62.3,72.4,62.3,72.3,62.3z M115,72.5c0.1,5.4,4.5,9.7,9.8,9.9c5.6-0.2,10-4.8,10-10.4c-0.2-5.4-4.6-9.7-10-9.7\n",
       "                    c-5.3-0.1-9.8,4.2-9.9,9.5C115,72.1,115,72.3,115,72.5z M19.5,62.3c-5.4,0.1-9.8,4.4-10,9.8c-0.1,5.1,5.2,10.4,10.2,10.3\n",
       "                    c5.6-0.2,10-4.9,9.8-10.5c-0.1-5.4-4.5-9.7-9.9-9.6C19.6,62.3,19.5,62.3,19.5,62.3z M71.8,134.6c5.9,0.2,10.3-3.9,10.4-9.6\n",
       "                    c0.5-5.5-3.6-10.4-9.1-10.8c-5.5-0.5-10.4,3.6-10.8,9.1c0,0.5,0,0.9,0,1.4c-0.2,5.3,4,9.8,9.3,10\n",
       "                    C71.6,134.6,71.7,134.6,71.8,134.6z\"/>\n",
       "            </g>\n",
       "        </svg>\n",
       "        <table>\n",
       "            <tr>\n",
       "                <td style=\"text-align: left\"><b>Python version:</b></td>\n",
       "                <td style=\"text-align: left\"><b>3.8.13</b></td>\n",
       "            </tr>\n",
       "            <tr>\n",
       "                <td style=\"text-align: left\"><b>Ray version:</b></td>\n",
       "                <td style=\"text-align: left\"><b> 2.4.0</b></td>\n",
       "            </tr>\n",
       "            <tr>\n",
       "    <td style=\"text-align: left\"><b>Dashboard:</b></td>\n",
       "    <td style=\"text-align: left\"><b><a href=\"http://10.131.0.84:8265\" target=\"_blank\">http://10.131.0.84:8265</a></b></td>\n",
       "</tr>\n",
       "\n",
       "        </table>\n",
       "    </div>\n",
       "</div>\n"
      ],
      "text/plain": [
       "ClientContext(dashboard_url='10.131.0.84:8265', python_version='3.8.13', ray_version='2.4.0', ray_commit='4479f66d4db967d3c9dd0af2572061276ba926ba', protocol_version='2022-12-06', _num_clients=1, _context_to_restore=<ray.util.client._ClientContext object at 0x7fe2fca9ce20>)"
      ]
     },
     "execution_count": 20,
     "metadata": {},
     "output_type": "execute_result"
    }
   ],
   "source": [
    "ray.init(address=ray_endpoint)"
   ]
  },
  {
   "cell_type": "code",
   "execution_count": 21,
   "id": "66ca337d-6594-43a8-841b-996fb9328d73",
   "metadata": {},
   "outputs": [],
   "source": [
    "verboseLevel=0\n",
    "validationSplit=0.2\n",
    "batchSize=30\n",
    "epochs=1000"
   ]
  },
  {
   "cell_type": "code",
   "execution_count": 22,
   "id": "6cd199ae",
   "metadata": {},
   "outputs": [],
   "source": [
    "# callback preparation\n",
    "reduce_lr = ReduceLROnPlateau(monitor='val_loss',\n",
    "                              factor=0.5,\n",
    "                              patience=2,\n",
    "                              verbose=verboseLevel,\n",
    "                              mode='min',\n",
    "                              min_lr=0.001)"
   ]
  },
  {
   "cell_type": "code",
   "execution_count": 23,
   "id": "d827c120",
   "metadata": {},
   "outputs": [],
   "source": [
    "inputSize = X_train_scaled.shape[1]\n",
    "colList = ['HiddenLayers', 'R2Score', 'MAE', 'MSE', 'MAPE', 'H5FileName', 'TrainHistory', 'TrainPredictions']"
   ]
  },
  {
   "cell_type": "code",
   "execution_count": 24,
   "id": "efb72f95",
   "metadata": {},
   "outputs": [],
   "source": [
    "target_loss = 'mae'\n",
    "#loss = 'mse'\n",
    "measure_metrics = ['mae', 'mse']\n",
    "#measure_metrics = ['mae']"
   ]
  },
  {
   "cell_type": "code",
   "execution_count": 25,
   "id": "d15c8a6f",
   "metadata": {},
   "outputs": [],
   "source": [
    "# This function is the reference for creating and training the models inside the Jupyter notebook pod. We will evaluate it against the Ray cluster distributed one\n",
    "def createModel(testResultsFrame, layerSize, loops, target_loss, measure_metrics,\n",
    "                y_train, X_train, y_test, X_test, targetScaler, labelSet):\n",
    "    print(f'Creating model using layer size = {layerSize} on set = {labelSet}.\\n')\n",
    "    for i in range(loops):\n",
    "        print(f'Training on {i} hidden layers\\n')\n",
    "        model = Sequential()\n",
    "        model.add(Dense(layerSize, kernel_initializer='normal',\n",
    "                        #kernel_regularizer=l1(0.01), bias_regularizer=l1(0.01),\n",
    "                        #kernel_regularizer=l2(0.01), bias_regularizer=l2(0.01),\n",
    "                        #kernel_regularizer=l1_l2(0.01), bias_regularizer=l1_l2(0.01),\n",
    "                        input_dim=inputSize, activation='relu'))\n",
    "        for j in range(i):\n",
    "            model.add(Dense(layerSize, \n",
    "                            #kernel_regularizer=l1(0.01), bias_regularizer=l1(0.01),\n",
    "                            #kernel_regularizer=l2(0.01), bias_regularizer=l2(0.01),\n",
    "                            #kernel_regularizer=l1_l2(0.01), bias_regularizer=l1_l2(0.01),\n",
    "                            kernel_initializer='normal', activation='relu'))\n",
    "        model.add(BatchNormalization())\n",
    "        model.add(Dense(1, kernel_initializer='normal', \n",
    "                        #kernel_regularizer=l1(0.01), bias_regularizer=l1(0.01),\n",
    "                        #kernel_regularizer=l2(0.01), bias_regularizer=l2(0.01),\n",
    "                        #kernel_regularizer=l1_l2(0.01), bias_regularizer=l1_l2(0.01),\n",
    "                        activation='linear'))\n",
    "\n",
    "        optmzr=Adam(learning_rate=0.001)    \n",
    "        model.compile(optimizer=optmzr, loss=target_loss, metrics=measure_metrics)\n",
    "\n",
    "        model_h5_name = 'mlp_' + str(layerSize)+ '_' + str(i) + '_model_std_' + labelSet + '.h5'\n",
    "        checkpoint_nn_std = ModelCheckpoint(model_h5_name,\n",
    "                                 monitor='val_loss',\n",
    "                                 verbose=verboseLevel,\n",
    "                                 save_best_only=True,\n",
    "                                 mode='min')\n",
    "        callbacks_list_nn_std = [checkpoint_nn_std, reduce_lr]\n",
    "\n",
    "        history_MLP_std = model.fit(X_train, y_train,\n",
    "                                    batch_size=batchSize, \n",
    "                                    validation_split=validationSplit, \n",
    "                                    epochs=epochs, verbose=verboseLevel,\n",
    "                                    callbacks=callbacks_list_nn_std)\n",
    "\n",
    "        #reload the best model!\n",
    "        model_new = load_model(model_h5_name)\n",
    "        #Predict\n",
    "        y_pred_scaled = model_new.predict(X_test)\n",
    "        #Evaluate metrics\n",
    "        y_pred = targetScaler.inverse_transform(y_pred_scaled)\n",
    "        r2_score = metrics.r2_score(y_test, y_pred)\n",
    "        mae = metrics.mean_absolute_error(y_test, y_pred)\n",
    "        mse = metrics.mean_squared_error(y_test, y_pred)\n",
    "        mape = metrics.mean_absolute_percentage_error(y_test, y_pred)\n",
    "        #store values\n",
    "        row = [i, r2_score, mae, mse, mape, model_h5_name, history_MLP_std, y_pred]\n",
    "        df = pd.DataFrame(np.array(row, dtype=object).reshape(1, len(colList)), columns=colList)\n",
    "        testResultsFrame = testResultsFrame.append(df, ignore_index=True)\n",
    "\n",
    "        tf.keras.backend.clear_session()\n",
    "        del(model)\n",
    "        del(model_new)\n",
    "        \n",
    "    return testResultsFrame\n"
   ]
  },
  {
   "cell_type": "code",
   "execution_count": 26,
   "id": "7815b44b",
   "metadata": {},
   "outputs": [],
   "source": [
    "@ray.remote\n",
    "def createRemoteModel(layerSize, loops, target_loss, measure_metrics,\n",
    "                y_train, X_train, y_test, X_test, targetScaler, labelSet):\n",
    "    print(f'Creating model using {loops} hidden layers of size = {layerSize} on set = {labelSet}.\\n')\n",
    "    model = Sequential()\n",
    "    model.add(Dense(layerSize, kernel_initializer='normal',\n",
    "                    #kernel_regularizer=l1(0.01), bias_regularizer=l1(0.01),\n",
    "                    #kernel_regularizer=l2(0.01), bias_regularizer=l2(0.01),\n",
    "                    #kernel_regularizer=l1_l2(0.01), bias_regularizer=l1_l2(0.01),\n",
    "                    input_dim=inputSize, activation='relu'))\n",
    "    for j in range(loops):\n",
    "        model.add(Dense(layerSize, \n",
    "                        #kernel_regularizer=l1(0.01), bias_regularizer=l1(0.01),\n",
    "                        #kernel_regularizer=l2(0.01), bias_regularizer=l2(0.01),\n",
    "                        #kernel_regularizer=l1_l2(0.01), bias_regularizer=l1_l2(0.01),\n",
    "                        kernel_initializer='normal', activation='relu'))\n",
    "    model.add(BatchNormalization())\n",
    "    model.add(Dense(1, kernel_initializer='normal', \n",
    "                    #kernel_regularizer=l1(0.01), bias_regularizer=l1(0.01),\n",
    "                    #kernel_regularizer=l2(0.01), bias_regularizer=l2(0.01),\n",
    "                    #kernel_regularizer=l1_l2(0.01), bias_regularizer=l1_l2(0.01),\n",
    "                    activation='linear'))\n",
    "\n",
    "    optmzr=Adam(learning_rate=0.001)    \n",
    "    model.compile(optimizer=optmzr, loss=target_loss, metrics=measure_metrics)\n",
    "\n",
    "    model_h5_name = 'mlp_' + str(layerSize)+ '_' + str(loops) + '_model_std_' + labelSet + '.h5'\n",
    "    checkpoint_nn_std = ModelCheckpoint(model_h5_name,\n",
    "                             monitor='val_loss',\n",
    "                             verbose=verboseLevel,\n",
    "                             save_best_only=True,\n",
    "                             mode='min')\n",
    "    callbacks_list_nn_std = [checkpoint_nn_std, reduce_lr]\n",
    "\n",
    "    history_MLP_std = model.fit(X_train, y_train,\n",
    "                                batch_size=batchSize, \n",
    "                                validation_split=validationSplit, \n",
    "                                epochs=epochs, verbose=verboseLevel,\n",
    "                                callbacks=callbacks_list_nn_std)\n",
    "\n",
    "    #reload the best model!\n",
    "    model_new = load_model(model_h5_name)\n",
    "    #Predict\n",
    "    y_pred_scaled = model_new.predict(X_test)\n",
    "    #Evaluate metrics\n",
    "    y_pred = targetScaler.inverse_transform(y_pred_scaled)\n",
    "    r2_score = metrics.r2_score(y_test, y_pred)\n",
    "    mae = metrics.mean_absolute_error(y_test, y_pred)\n",
    "    mse = metrics.mean_squared_error(y_test, y_pred)\n",
    "    mape = metrics.mean_absolute_percentage_error(y_test, y_pred)\n",
    "    #store values\n",
    "    row = [loops, r2_score, mae, mse, mape, model_h5_name, history_MLP_std, y_pred]\n",
    "    #df = pd.DataFrame(np.array(row, dtype=object).reshape(1, len(colList)), columns=colList)\n",
    "    #testResultsFrame = testResultsFrame.append(df, ignore_index=True)\n",
    "\n",
    "    #tf.keras.backend.clear_session()\n",
    "    #del(model)\n",
    "    #del(model_new)\n",
    "        \n",
    "    #return testResultsFrame\n",
    "    return row\n"
   ]
  },
  {
   "cell_type": "code",
   "execution_count": 27,
   "id": "ca4b99c9-801d-471d-a895-0925874c85e1",
   "metadata": {},
   "outputs": [],
   "source": [
    "import warnings\n",
    "warnings.simplefilter('ignore')\n",
    "warnings.filterwarnings('ignore')"
   ]
  },
  {
   "cell_type": "code",
   "execution_count": 28,
   "id": "c96f914d",
   "metadata": {
    "scrolled": true
   },
   "outputs": [
    {
     "name": "stdout",
     "output_type": "stream",
     "text": [
      "Creating model using layer size = 64 on set = all.\n",
      "\n",
      "Training on 0 hidden layers\n",
      "\n",
      "Training on 1 hidden layers\n",
      "\n",
      "Training on 2 hidden layers\n",
      "\n",
      "Training on 3 hidden layers\n",
      "\n",
      "Training on 4 hidden layers\n",
      "\n",
      "WARNING:tensorflow:5 out of the last 5 calls to <function Model.make_predict_function.<locals>.predict_function at 0x7fe298054e50> triggered tf.function retracing. Tracing is expensive and the excessive number of tracings could be due to (1) creating @tf.function repeatedly in a loop, (2) passing tensors with different shapes, (3) passing Python objects instead of tensors. For (1), please define your @tf.function outside of the loop. For (2), @tf.function has experimental_relax_shapes=True option that relaxes argument shapes that can avoid unnecessary retracing. For (3), please refer to https://www.tensorflow.org/guide/function#controlling_retracing and https://www.tensorflow.org/api_docs/python/tf/function for  more details.\n",
      "Training on 5 hidden layers\n",
      "\n",
      "WARNING:tensorflow:6 out of the last 6 calls to <function Model.make_predict_function.<locals>.predict_function at 0x7fe298606e50> triggered tf.function retracing. Tracing is expensive and the excessive number of tracings could be due to (1) creating @tf.function repeatedly in a loop, (2) passing tensors with different shapes, (3) passing Python objects instead of tensors. For (1), please define your @tf.function outside of the loop. For (2), @tf.function has experimental_relax_shapes=True option that relaxes argument shapes that can avoid unnecessary retracing. For (3), please refer to https://www.tensorflow.org/guide/function#controlling_retracing and https://www.tensorflow.org/api_docs/python/tf/function for  more details.\n",
      "Training on 6 hidden layers\n",
      "\n",
      "Training on 7 hidden layers\n",
      "\n",
      "Training on 8 hidden layers\n",
      "\n",
      "Training on 9 hidden layers\n",
      "\n",
      "Training on 10 hidden layers\n",
      "\n",
      "Training on 11 hidden layers\n",
      "\n",
      "Training on 12 hidden layers\n",
      "\n",
      "Training on 13 hidden layers\n",
      "\n",
      "Training on 14 hidden layers\n",
      "\n",
      "CPU times: user 10min 45s, sys: 2min 25s, total: 13min 11s\n",
      "Wall time: 10min 21s\n"
     ]
    }
   ],
   "source": [
    "%%time\n",
    "testResDataFrame = pd.DataFrame(columns=colList)\n",
    "layerSize = 64\n",
    "loops = 15\n",
    "testResDataFrame = createModel(testResDataFrame, layerSize, loops, \n",
    "                        target_loss, measure_metrics,\n",
    "                        y_train_scaled, X_train_scaled,\n",
    "                        y_test, X_test_scaled, \n",
    "                        targetStdScaler, 'all')\n"
   ]
  },
  {
   "cell_type": "code",
   "execution_count": 29,
   "id": "c376c98e",
   "metadata": {},
   "outputs": [
    {
     "name": "stdout",
     "output_type": "stream",
     "text": [
      "INFO:tensorflow:Assets written to: ram://a5bda550-bcaf-46dd-96b8-1aaca37abd3f/assets\n"
     ]
    },
    {
     "name": "stderr",
     "output_type": "stream",
     "text": [
      "\u001b[2m\u001b[36m(pid=222, ip=10.131.0.86)\u001b[0m 2023-08-04 06:25:08.169751: I tensorflow/core/platform/cpu_feature_guard.cc:151] This TensorFlow binary is optimized with oneAPI Deep Neural Network Library (oneDNN) to use the following CPU instructions in performance-critical operations:  AVX2 FMA\n",
      "\u001b[2m\u001b[36m(pid=222, ip=10.131.0.86)\u001b[0m To enable them in other operations, rebuild TensorFlow with the appropriate compiler flags.\n",
      "\u001b[2m\u001b[36m(pid=222, ip=10.131.0.85)\u001b[0m 2023-08-04 06:25:08.096793: I tensorflow/core/platform/cpu_feature_guard.cc:151] This TensorFlow binary is optimized with oneAPI Deep Neural Network Library (oneDNN) to use the following CPU instructions in performance-critical operations:  AVX2 FMA\n",
      "\u001b[2m\u001b[36m(pid=222, ip=10.131.0.85)\u001b[0m To enable them in other operations, rebuild TensorFlow with the appropriate compiler flags.\n",
      "\u001b[2m\u001b[36m(pid=778)\u001b[0m 2023-08-04 06:25:08.400637: I tensorflow/core/platform/cpu_feature_guard.cc:151] This TensorFlow binary is optimized with oneAPI Deep Neural Network Library (oneDNN) to use the following CPU instructions in performance-critical operations:  AVX2 FMA\n",
      "\u001b[2m\u001b[36m(pid=778)\u001b[0m To enable them in other operations, rebuild TensorFlow with the appropriate compiler flags.\n",
      "\u001b[2m\u001b[36m(pid=286, ip=10.131.0.86)\u001b[0m 2023-08-04 06:25:08.913094: I tensorflow/core/platform/cpu_feature_guard.cc:151] This TensorFlow binary is optimized with oneAPI Deep Neural Network Library (oneDNN) to use the following CPU instructions in performance-critical operations:  AVX2 FMA\n",
      "\u001b[2m\u001b[36m(pid=286, ip=10.131.0.86)\u001b[0m To enable them in other operations, rebuild TensorFlow with the appropriate compiler flags.\n",
      "\u001b[2m\u001b[36m(pid=844)\u001b[0m 2023-08-04 06:25:09.111523: I tensorflow/core/platform/cpu_feature_guard.cc:151] This TensorFlow binary is optimized with oneAPI Deep Neural Network Library (oneDNN) to use the following CPU instructions in performance-critical operations:  AVX2 FMA\n",
      "\u001b[2m\u001b[36m(pid=844)\u001b[0m To enable them in other operations, rebuild TensorFlow with the appropriate compiler flags.\n"
     ]
    },
    {
     "name": "stdout",
     "output_type": "stream",
     "text": [
      "\u001b[2m\u001b[36m(createRemoteModel pid=222, ip=10.131.0.85)\u001b[0m Creating model using 4 hidden layers of size = 64 on set = all_ray.\n",
      "\u001b[2m\u001b[36m(createRemoteModel pid=222, ip=10.131.0.85)\u001b[0m \n",
      "\u001b[2m\u001b[36m(createRemoteModel pid=222, ip=10.131.0.86)\u001b[0m Creating model using 2 hidden layers of size = 64 on set = all_ray.\n",
      "\u001b[2m\u001b[36m(createRemoteModel pid=222, ip=10.131.0.86)\u001b[0m \n",
      "\u001b[2m\u001b[36m(createRemoteModel pid=778)\u001b[0m Creating model using 10 hidden layers of size = 64 on set = all_ray.\n",
      "\u001b[2m\u001b[36m(createRemoteModel pid=778)\u001b[0m \n",
      "\u001b[2m\u001b[36m(createRemoteModel pid=286, ip=10.131.0.86)\u001b[0m Creating model using 12 hidden layers of size = 64 on set = all_ray.\n",
      "\u001b[2m\u001b[36m(createRemoteModel pid=286, ip=10.131.0.86)\u001b[0m \n",
      "\u001b[2m\u001b[36m(createRemoteModel pid=844)\u001b[0m Creating model using 14 hidden layers of size = 64 on set = all_ray.\n",
      "\u001b[2m\u001b[36m(createRemoteModel pid=844)\u001b[0m \n"
     ]
    },
    {
     "name": "stderr",
     "output_type": "stream",
     "text": [
      "\u001b[2m\u001b[36m(pid=223, ip=10.129.0.38)\u001b[0m 2023-08-04 06:25:11.179191: I tensorflow/core/platform/cpu_feature_guard.cc:151] This TensorFlow binary is optimized with oneAPI Deep Neural Network Library (oneDNN) to use the following CPU instructions in performance-critical operations:  AVX2 FMA\n",
      "\u001b[2m\u001b[36m(pid=223, ip=10.129.0.38)\u001b[0m To enable them in other operations, rebuild TensorFlow with the appropriate compiler flags.\n",
      "\u001b[2m\u001b[36m(pid=223, ip=10.129.0.37)\u001b[0m 2023-08-04 06:25:11.179219: I tensorflow/core/platform/cpu_feature_guard.cc:151] This TensorFlow binary is optimized with oneAPI Deep Neural Network Library (oneDNN) to use the following CPU instructions in performance-critical operations:  AVX2 FMA\n",
      "\u001b[2m\u001b[36m(pid=223, ip=10.129.0.37)\u001b[0m To enable them in other operations, rebuild TensorFlow with the appropriate compiler flags.\n",
      "\u001b[2m\u001b[36m(pid=223, ip=10.128.2.74)\u001b[0m 2023-08-04 06:25:11.327122: I tensorflow/core/platform/cpu_feature_guard.cc:151] This TensorFlow binary is optimized with oneAPI Deep Neural Network Library (oneDNN) to use the following CPU instructions in performance-critical operations:  AVX2 FMA\n",
      "\u001b[2m\u001b[36m(pid=223, ip=10.128.2.74)\u001b[0m To enable them in other operations, rebuild TensorFlow with the appropriate compiler flags.\n",
      "\u001b[2m\u001b[36m(pid=224, ip=10.128.2.76)\u001b[0m 2023-08-04 06:25:11.324493: I tensorflow/core/platform/cpu_feature_guard.cc:151] This TensorFlow binary is optimized with oneAPI Deep Neural Network Library (oneDNN) to use the following CPU instructions in performance-critical operations:  AVX2 FMA\n",
      "\u001b[2m\u001b[36m(pid=224, ip=10.128.2.76)\u001b[0m To enable them in other operations, rebuild TensorFlow with the appropriate compiler flags.\n",
      "\u001b[2m\u001b[36m(pid=224, ip=10.128.2.75)\u001b[0m 2023-08-04 06:25:11.327122: I tensorflow/core/platform/cpu_feature_guard.cc:151] This TensorFlow binary is optimized with oneAPI Deep Neural Network Library (oneDNN) to use the following CPU instructions in performance-critical operations:  AVX2 FMA\n",
      "\u001b[2m\u001b[36m(pid=224, ip=10.128.2.75)\u001b[0m To enable them in other operations, rebuild TensorFlow with the appropriate compiler flags.\n"
     ]
    },
    {
     "name": "stdout",
     "output_type": "stream",
     "text": [
      "\u001b[2m\u001b[36m(createRemoteModel pid=223, ip=10.129.0.37)\u001b[0m Creating model using 6 hidden layers of size = 64 on set = all_ray.\n",
      "\u001b[2m\u001b[36m(createRemoteModel pid=223, ip=10.129.0.37)\u001b[0m \n",
      "\u001b[2m\u001b[36m(createRemoteModel pid=223, ip=10.129.0.38)\u001b[0m Creating model using 3 hidden layers of size = 64 on set = all_ray.\n",
      "\u001b[2m\u001b[36m(createRemoteModel pid=223, ip=10.129.0.38)\u001b[0m \n"
     ]
    },
    {
     "name": "stderr",
     "output_type": "stream",
     "text": [
      "\u001b[2m\u001b[36m(pid=224, ip=10.130.0.56)\u001b[0m 2023-08-04 06:25:13.071523: I tensorflow/core/platform/cpu_feature_guard.cc:151] This TensorFlow binary is optimized with oneAPI Deep Neural Network Library (oneDNN) to use the following CPU instructions in performance-critical operations:  AVX2 FMA\n",
      "\u001b[2m\u001b[36m(pid=224, ip=10.130.0.56)\u001b[0m To enable them in other operations, rebuild TensorFlow with the appropriate compiler flags.\n",
      "\u001b[2m\u001b[36m(pid=225, ip=10.130.0.58)\u001b[0m 2023-08-04 06:25:13.071149: I tensorflow/core/platform/cpu_feature_guard.cc:151] This TensorFlow binary is optimized with oneAPI Deep Neural Network Library (oneDNN) to use the following CPU instructions in performance-critical operations:  AVX2 FMA\n",
      "\u001b[2m\u001b[36m(pid=225, ip=10.130.0.58)\u001b[0m To enable them in other operations, rebuild TensorFlow with the appropriate compiler flags.\n",
      "\u001b[2m\u001b[36m(pid=224, ip=10.130.0.58)\u001b[0m 2023-08-04 06:25:13.071134: I tensorflow/core/platform/cpu_feature_guard.cc:151] This TensorFlow binary is optimized with oneAPI Deep Neural Network Library (oneDNN) to use the following CPU instructions in performance-critical operations:  AVX2 FMA\n",
      "\u001b[2m\u001b[36m(pid=224, ip=10.130.0.58)\u001b[0m To enable them in other operations, rebuild TensorFlow with the appropriate compiler flags.\n",
      "\u001b[2m\u001b[36m(pid=223, ip=10.130.0.57)\u001b[0m 2023-08-04 06:25:13.079671: I tensorflow/core/platform/cpu_feature_guard.cc:151] This TensorFlow binary is optimized with oneAPI Deep Neural Network Library (oneDNN) to use the following CPU instructions in performance-critical operations:  AVX2 FMA\n",
      "\u001b[2m\u001b[36m(pid=223, ip=10.130.0.57)\u001b[0m To enable them in other operations, rebuild TensorFlow with the appropriate compiler flags.\n",
      "\u001b[2m\u001b[36m(pid=307, ip=10.130.0.57)\u001b[0m 2023-08-04 06:25:13.071492: I tensorflow/core/platform/cpu_feature_guard.cc:151] This TensorFlow binary is optimized with oneAPI Deep Neural Network Library (oneDNN) to use the following CPU instructions in performance-critical operations:  AVX2 FMA\n",
      "\u001b[2m\u001b[36m(pid=307, ip=10.130.0.57)\u001b[0m To enable them in other operations, rebuild TensorFlow with the appropriate compiler flags.\n"
     ]
    },
    {
     "name": "stdout",
     "output_type": "stream",
     "text": [
      "\u001b[2m\u001b[36m(createRemoteModel pid=223, ip=10.128.2.74)\u001b[0m Creating model using 11 hidden layers of size = 64 on set = all_ray.\n",
      "\u001b[2m\u001b[36m(createRemoteModel pid=223, ip=10.128.2.74)\u001b[0m \n",
      "\u001b[2m\u001b[36m(createRemoteModel pid=224, ip=10.128.2.76)\u001b[0m Creating model using 1 hidden layers of size = 64 on set = all_ray.\n",
      "\u001b[2m\u001b[36m(createRemoteModel pid=224, ip=10.128.2.76)\u001b[0m \n",
      "\u001b[2m\u001b[36m(createRemoteModel pid=224, ip=10.128.2.75)\u001b[0m Creating model using 0 hidden layers of size = 64 on set = all_ray.\n",
      "\u001b[2m\u001b[36m(createRemoteModel pid=224, ip=10.128.2.75)\u001b[0m \n",
      "\u001b[2m\u001b[36m(createRemoteModel pid=223, ip=10.130.0.57)\u001b[0m Creating model using 9 hidden layers of size = 64 on set = all_ray.\n",
      "\u001b[2m\u001b[36m(createRemoteModel pid=223, ip=10.130.0.57)\u001b[0m \n",
      "\u001b[2m\u001b[36m(createRemoteModel pid=307, ip=10.130.0.57)\u001b[0m Creating model using 13 hidden layers of size = 64 on set = all_ray.\n",
      "\u001b[2m\u001b[36m(createRemoteModel pid=307, ip=10.130.0.57)\u001b[0m \n",
      "\u001b[2m\u001b[36m(createRemoteModel pid=224, ip=10.130.0.56)\u001b[0m Creating model using 5 hidden layers of size = 64 on set = all_ray.\n",
      "\u001b[2m\u001b[36m(createRemoteModel pid=224, ip=10.130.0.56)\u001b[0m \n",
      "\u001b[2m\u001b[36m(createRemoteModel pid=225, ip=10.130.0.58)\u001b[0m Creating model using 8 hidden layers of size = 64 on set = all_ray.\n",
      "\u001b[2m\u001b[36m(createRemoteModel pid=225, ip=10.130.0.58)\u001b[0m \n",
      "\u001b[2m\u001b[36m(createRemoteModel pid=224, ip=10.130.0.58)\u001b[0m Creating model using 7 hidden layers of size = 64 on set = all_ray.\n",
      "\u001b[2m\u001b[36m(createRemoteModel pid=224, ip=10.130.0.58)\u001b[0m \n"
     ]
    },
    {
     "name": "stderr",
     "output_type": "stream",
     "text": [
      "\u001b[2m\u001b[36m(createRemoteModel pid=223, ip=10.129.0.38)\u001b[0m 2023-08-04 06:25:52.743562: W tensorflow/python/util/util.cc:368] Sets are not currently considered sequences, but this may change in the future, so consider avoiding using them.\n",
      "\u001b[2m\u001b[36m(createRemoteModel pid=224, ip=10.128.2.75)\u001b[0m 2023-08-04 06:25:52.792966: W tensorflow/python/util/util.cc:368] Sets are not currently considered sequences, but this may change in the future, so consider avoiding using them.\n",
      "\u001b[2m\u001b[36m(createRemoteModel pid=223, ip=10.129.0.37)\u001b[0m 2023-08-04 06:25:54.013186: W tensorflow/python/util/util.cc:368] Sets are not currently considered sequences, but this may change in the future, so consider avoiding using them.\n",
      "\u001b[2m\u001b[36m(createRemoteModel pid=224, ip=10.128.2.76)\u001b[0m 2023-08-04 06:25:54.379104: W tensorflow/python/util/util.cc:368] Sets are not currently considered sequences, but this may change in the future, so consider avoiding using them.\n",
      "\u001b[2m\u001b[36m(createRemoteModel pid=222, ip=10.131.0.85)\u001b[0m 2023-08-04 06:25:55.029562: W tensorflow/python/util/util.cc:368] Sets are not currently considered sequences, but this may change in the future, so consider avoiding using them.\n",
      "\u001b[2m\u001b[36m(createRemoteModel pid=223, ip=10.128.2.74)\u001b[0m 2023-08-04 06:25:58.386844: W tensorflow/python/util/util.cc:368] Sets are not currently considered sequences, but this may change in the future, so consider avoiding using them.\n",
      "\u001b[2m\u001b[36m(createRemoteModel pid=224, ip=10.130.0.56)\u001b[0m 2023-08-04 06:26:02.616943: W tensorflow/python/util/util.cc:368] Sets are not currently considered sequences, but this may change in the future, so consider avoiding using them.\n",
      "\u001b[2m\u001b[36m(createRemoteModel pid=222, ip=10.131.0.86)\u001b[0m 2023-08-04 06:26:03.005229: W tensorflow/python/util/util.cc:368] Sets are not currently considered sequences, but this may change in the future, so consider avoiding using them.\n",
      "\u001b[2m\u001b[36m(createRemoteModel pid=286, ip=10.131.0.86)\u001b[0m 2023-08-04 06:26:08.924096: W tensorflow/python/util/util.cc:368] Sets are not currently considered sequences, but this may change in the future, so consider avoiding using them.\n",
      "\u001b[2m\u001b[36m(createRemoteModel pid=224, ip=10.130.0.58)\u001b[0m 2023-08-04 06:26:11.029468: W tensorflow/python/util/util.cc:368] Sets are not currently considered sequences, but this may change in the future, so consider avoiding using them.\n",
      "\u001b[2m\u001b[36m(createRemoteModel pid=225, ip=10.130.0.58)\u001b[0m 2023-08-04 06:26:11.633733: W tensorflow/python/util/util.cc:368] Sets are not currently considered sequences, but this may change in the future, so consider avoiding using them.\n",
      "\u001b[2m\u001b[36m(createRemoteModel pid=844)\u001b[0m 2023-08-04 06:26:12.985556: W tensorflow/python/util/util.cc:368] Sets are not currently considered sequences, but this may change in the future, so consider avoiding using them.\n",
      "\u001b[2m\u001b[36m(createRemoteModel pid=778)\u001b[0m 2023-08-04 06:26:13.320568: W tensorflow/python/util/util.cc:368] Sets are not currently considered sequences, but this may change in the future, so consider avoiding using them.\n",
      "\u001b[2m\u001b[36m(createRemoteModel pid=223, ip=10.130.0.57)\u001b[0m 2023-08-04 06:26:14.567540: W tensorflow/python/util/util.cc:368] Sets are not currently considered sequences, but this may change in the future, so consider avoiding using them.\n",
      "\u001b[2m\u001b[36m(createRemoteModel pid=307, ip=10.130.0.57)\u001b[0m 2023-08-04 06:26:15.040059: W tensorflow/python/util/util.cc:368] Sets are not currently considered sequences, but this may change in the future, so consider avoiding using them.\n"
     ]
    },
    {
     "name": "stdout",
     "output_type": "stream",
     "text": [
      "CPU times: user 16.5 s, sys: 3.83 s, total: 20.3 s\n",
      "Wall time: 2min 19s\n"
     ]
    }
   ],
   "source": [
    "%%time\n",
    "\n",
    "testResDataFrame2 = []\n",
    "layerSize = 64\n",
    "loops = 15\n",
    "\n",
    "\n",
    "for i in range(loops):\n",
    "    rowResult = createRemoteModel.remote(layerSize, i, \n",
    "                        target_loss, measure_metrics,\n",
    "                        y_train_scaled, X_train_scaled,\n",
    "                        y_test, X_test_scaled, \n",
    "                        targetStdScaler, 'all_ray')\n",
    "    testResDataFrame2.append(rowResult)\n",
    "\n",
    "\n",
    "tResDF2 = ray.get(testResDataFrame2)"
   ]
  },
  {
   "cell_type": "code",
   "execution_count": 30,
   "id": "4f47a97e-eda0-482c-b0d3-7a4b4c3991c5",
   "metadata": {},
   "outputs": [
    {
     "name": "stdout",
     "output_type": "stream",
     "text": [
      "CPU times: user 11.9 s, sys: 2.03 s, total: 13.9 s\n",
      "Wall time: 49.9 s\n"
     ]
    }
   ],
   "source": [
    "%%time\n",
    "\n",
    "tResDF2 = ray.get(testResDataFrame2)"
   ]
  },
  {
   "cell_type": "markdown",
   "id": "87fbf6be-17af-4037-88da-87068b278cf4",
   "metadata": {},
   "source": [
    "As you can see the ray.get() is a blocking function so it waits until all the tasks for the current job on the ray cluster have completed (in our case the 15 models training).\n",
    "This method then retrieves the results from the tasks and provides the final result. \n",
    "As you can see this takes about 50 seconds, and as the same instruction is present in the ray job cell which completed in 2 min 13s, we can deduct this time and see that the actual training time on the Ray cluster was 1min 23s (vs 10min 24s the training within the notebook image). These values apply to the type of physical resources available in this cluster (your cluster results may differ)."
   ]
  },
  {
   "cell_type": "code",
   "execution_count": 31,
   "id": "9f183e78",
   "metadata": {},
   "outputs": [],
   "source": [
    "df = pd.DataFrame(tResDF2, columns=colList)"
   ]
  },
  {
   "cell_type": "code",
   "execution_count": 32,
   "id": "a9748269",
   "metadata": {},
   "outputs": [
    {
     "data": {
      "text/html": [
       "<div>\n",
       "<style scoped>\n",
       "    .dataframe tbody tr th:only-of-type {\n",
       "        vertical-align: middle;\n",
       "    }\n",
       "\n",
       "    .dataframe tbody tr th {\n",
       "        vertical-align: top;\n",
       "    }\n",
       "\n",
       "    .dataframe thead th {\n",
       "        text-align: right;\n",
       "    }\n",
       "</style>\n",
       "<table border=\"1\" class=\"dataframe\">\n",
       "  <thead>\n",
       "    <tr style=\"text-align: right;\">\n",
       "      <th></th>\n",
       "      <th>HiddenLayers</th>\n",
       "      <th>R2Score</th>\n",
       "      <th>MAE</th>\n",
       "      <th>MSE</th>\n",
       "      <th>MAPE</th>\n",
       "      <th>H5FileName</th>\n",
       "      <th>TrainHistory</th>\n",
       "      <th>TrainPredictions</th>\n",
       "    </tr>\n",
       "  </thead>\n",
       "  <tbody>\n",
       "    <tr>\n",
       "      <th>0</th>\n",
       "      <td>0</td>\n",
       "      <td>0.996515</td>\n",
       "      <td>4.966991</td>\n",
       "      <td>29.048945</td>\n",
       "      <td>0.023903</td>\n",
       "      <td>mlp_64_0_model_std_all_ray.h5</td>\n",
       "      <td>&lt;keras.callbacks.History object at 0x7fe2daa15...</td>\n",
       "      <td>[[243.55884], [105.24606], [278.90875], [131.6...</td>\n",
       "    </tr>\n",
       "    <tr>\n",
       "      <th>1</th>\n",
       "      <td>1</td>\n",
       "      <td>0.993965</td>\n",
       "      <td>5.855881</td>\n",
       "      <td>50.304637</td>\n",
       "      <td>0.028498</td>\n",
       "      <td>mlp_64_1_model_std_all_ray.h5</td>\n",
       "      <td>&lt;keras.callbacks.History object at 0x7fe23ba9d...</td>\n",
       "      <td>[[252.63795], [100.17087], [288.81482], [138.3...</td>\n",
       "    </tr>\n",
       "    <tr>\n",
       "      <th>2</th>\n",
       "      <td>2</td>\n",
       "      <td>0.998342</td>\n",
       "      <td>3.103025</td>\n",
       "      <td>13.816360</td>\n",
       "      <td>0.014899</td>\n",
       "      <td>mlp_64_2_model_std_all_ray.h5</td>\n",
       "      <td>&lt;keras.callbacks.History object at 0x7fe2389b0...</td>\n",
       "      <td>[[243.90535], [103.150635], [271.70428], [140....</td>\n",
       "    </tr>\n",
       "    <tr>\n",
       "      <th>3</th>\n",
       "      <td>3</td>\n",
       "      <td>0.997865</td>\n",
       "      <td>3.348683</td>\n",
       "      <td>17.798799</td>\n",
       "      <td>0.019976</td>\n",
       "      <td>mlp_64_3_model_std_all_ray.h5</td>\n",
       "      <td>&lt;keras.callbacks.History object at 0x7fe238595...</td>\n",
       "      <td>[[240.33984], [100.75966], [275.08728], [144.7...</td>\n",
       "    </tr>\n",
       "    <tr>\n",
       "      <th>4</th>\n",
       "      <td>4</td>\n",
       "      <td>0.994921</td>\n",
       "      <td>5.237687</td>\n",
       "      <td>42.335525</td>\n",
       "      <td>0.028356</td>\n",
       "      <td>mlp_64_4_model_std_all_ray.h5</td>\n",
       "      <td>&lt;keras.callbacks.History object at 0x7fe23836f...</td>\n",
       "      <td>[[250.76656], [96.218765], [282.81223], [139.0...</td>\n",
       "    </tr>\n",
       "    <tr>\n",
       "      <th>5</th>\n",
       "      <td>5</td>\n",
       "      <td>0.990685</td>\n",
       "      <td>7.169225</td>\n",
       "      <td>77.642690</td>\n",
       "      <td>0.026746</td>\n",
       "      <td>mlp_64_5_model_std_all_ray.h5</td>\n",
       "      <td>&lt;keras.callbacks.History object at 0x7fe238082...</td>\n",
       "      <td>[[253.07698], [108.66411], [286.52985], [141.4...</td>\n",
       "    </tr>\n",
       "    <tr>\n",
       "      <th>6</th>\n",
       "      <td>6</td>\n",
       "      <td>0.996574</td>\n",
       "      <td>4.048770</td>\n",
       "      <td>28.557215</td>\n",
       "      <td>0.019072</td>\n",
       "      <td>mlp_64_6_model_std_all_ray.h5</td>\n",
       "      <td>&lt;keras.callbacks.History object at 0x7fe21fd8f...</td>\n",
       "      <td>[[244.05765], [104.25451], [282.08176], [139.3...</td>\n",
       "    </tr>\n",
       "    <tr>\n",
       "      <th>7</th>\n",
       "      <td>7</td>\n",
       "      <td>0.991756</td>\n",
       "      <td>6.531748</td>\n",
       "      <td>68.716428</td>\n",
       "      <td>0.041941</td>\n",
       "      <td>mlp_64_7_model_std_all_ray.h5</td>\n",
       "      <td>&lt;keras.callbacks.History object at 0x7fe21fa93...</td>\n",
       "      <td>[[240.3879], [91.309845], [279.78415], [127.85...</td>\n",
       "    </tr>\n",
       "    <tr>\n",
       "      <th>8</th>\n",
       "      <td>8</td>\n",
       "      <td>0.993736</td>\n",
       "      <td>5.114268</td>\n",
       "      <td>52.216329</td>\n",
       "      <td>0.019522</td>\n",
       "      <td>mlp_64_8_model_std_all_ray.h5</td>\n",
       "      <td>&lt;keras.callbacks.History object at 0x7fe21f7b7...</td>\n",
       "      <td>[[247.06674], [104.94549], [279.9435], [136.34...</td>\n",
       "    </tr>\n",
       "    <tr>\n",
       "      <th>9</th>\n",
       "      <td>9</td>\n",
       "      <td>0.994247</td>\n",
       "      <td>6.165572</td>\n",
       "      <td>47.954822</td>\n",
       "      <td>0.029198</td>\n",
       "      <td>mlp_64_9_model_std_all_ray.h5</td>\n",
       "      <td>&lt;keras.callbacks.History object at 0x7fe21f41e...</td>\n",
       "      <td>[[254.93166], [104.1271], [288.5054], [133.489...</td>\n",
       "    </tr>\n",
       "    <tr>\n",
       "      <th>10</th>\n",
       "      <td>10</td>\n",
       "      <td>0.994962</td>\n",
       "      <td>4.600365</td>\n",
       "      <td>41.989318</td>\n",
       "      <td>0.017291</td>\n",
       "      <td>mlp_64_10_model_std_all_ray.h5</td>\n",
       "      <td>&lt;keras.callbacks.History object at 0x7fe21f0ae...</td>\n",
       "      <td>[[240.12479], [108.060356], [276.97223], [137....</td>\n",
       "    </tr>\n",
       "    <tr>\n",
       "      <th>11</th>\n",
       "      <td>11</td>\n",
       "      <td>0.989918</td>\n",
       "      <td>5.505497</td>\n",
       "      <td>84.035103</td>\n",
       "      <td>0.017082</td>\n",
       "      <td>mlp_64_11_model_std_all_ray.h5</td>\n",
       "      <td>&lt;keras.callbacks.History object at 0x7fe21ec82...</td>\n",
       "      <td>[[242.8071], [108.6256], [285.51636], [138.380...</td>\n",
       "    </tr>\n",
       "    <tr>\n",
       "      <th>12</th>\n",
       "      <td>12</td>\n",
       "      <td>0.995936</td>\n",
       "      <td>4.736848</td>\n",
       "      <td>33.870999</td>\n",
       "      <td>0.027143</td>\n",
       "      <td>mlp_64_12_model_std_all_ray.h5</td>\n",
       "      <td>&lt;keras.callbacks.History object at 0x7fe21e88a...</td>\n",
       "      <td>[[247.91484], [99.8336], [281.2366], [133.0529...</td>\n",
       "    </tr>\n",
       "    <tr>\n",
       "      <th>13</th>\n",
       "      <td>13</td>\n",
       "      <td>0.993148</td>\n",
       "      <td>4.758053</td>\n",
       "      <td>57.116332</td>\n",
       "      <td>0.016582</td>\n",
       "      <td>mlp_64_13_model_std_all_ray.h5</td>\n",
       "      <td>&lt;keras.callbacks.History object at 0x7fe21e4b6...</td>\n",
       "      <td>[[253.74031], [109.03934], [281.7908], [137.68...</td>\n",
       "    </tr>\n",
       "    <tr>\n",
       "      <th>14</th>\n",
       "      <td>14</td>\n",
       "      <td>0.996960</td>\n",
       "      <td>4.334416</td>\n",
       "      <td>25.336431</td>\n",
       "      <td>0.021489</td>\n",
       "      <td>mlp_64_14_model_std_all_ray.h5</td>\n",
       "      <td>&lt;keras.callbacks.History object at 0x7fe21e01b...</td>\n",
       "      <td>[[248.97987], [102.69047], [282.12796], [136.1...</td>\n",
       "    </tr>\n",
       "  </tbody>\n",
       "</table>\n",
       "</div>"
      ],
      "text/plain": [
       "    HiddenLayers   R2Score       MAE        MSE      MAPE  \\\n",
       "0              0  0.996515  4.966991  29.048945  0.023903   \n",
       "1              1  0.993965  5.855881  50.304637  0.028498   \n",
       "2              2  0.998342  3.103025  13.816360  0.014899   \n",
       "3              3  0.997865  3.348683  17.798799  0.019976   \n",
       "4              4  0.994921  5.237687  42.335525  0.028356   \n",
       "5              5  0.990685  7.169225  77.642690  0.026746   \n",
       "6              6  0.996574  4.048770  28.557215  0.019072   \n",
       "7              7  0.991756  6.531748  68.716428  0.041941   \n",
       "8              8  0.993736  5.114268  52.216329  0.019522   \n",
       "9              9  0.994247  6.165572  47.954822  0.029198   \n",
       "10            10  0.994962  4.600365  41.989318  0.017291   \n",
       "11            11  0.989918  5.505497  84.035103  0.017082   \n",
       "12            12  0.995936  4.736848  33.870999  0.027143   \n",
       "13            13  0.993148  4.758053  57.116332  0.016582   \n",
       "14            14  0.996960  4.334416  25.336431  0.021489   \n",
       "\n",
       "                        H5FileName  \\\n",
       "0    mlp_64_0_model_std_all_ray.h5   \n",
       "1    mlp_64_1_model_std_all_ray.h5   \n",
       "2    mlp_64_2_model_std_all_ray.h5   \n",
       "3    mlp_64_3_model_std_all_ray.h5   \n",
       "4    mlp_64_4_model_std_all_ray.h5   \n",
       "5    mlp_64_5_model_std_all_ray.h5   \n",
       "6    mlp_64_6_model_std_all_ray.h5   \n",
       "7    mlp_64_7_model_std_all_ray.h5   \n",
       "8    mlp_64_8_model_std_all_ray.h5   \n",
       "9    mlp_64_9_model_std_all_ray.h5   \n",
       "10  mlp_64_10_model_std_all_ray.h5   \n",
       "11  mlp_64_11_model_std_all_ray.h5   \n",
       "12  mlp_64_12_model_std_all_ray.h5   \n",
       "13  mlp_64_13_model_std_all_ray.h5   \n",
       "14  mlp_64_14_model_std_all_ray.h5   \n",
       "\n",
       "                                         TrainHistory  \\\n",
       "0   <keras.callbacks.History object at 0x7fe2daa15...   \n",
       "1   <keras.callbacks.History object at 0x7fe23ba9d...   \n",
       "2   <keras.callbacks.History object at 0x7fe2389b0...   \n",
       "3   <keras.callbacks.History object at 0x7fe238595...   \n",
       "4   <keras.callbacks.History object at 0x7fe23836f...   \n",
       "5   <keras.callbacks.History object at 0x7fe238082...   \n",
       "6   <keras.callbacks.History object at 0x7fe21fd8f...   \n",
       "7   <keras.callbacks.History object at 0x7fe21fa93...   \n",
       "8   <keras.callbacks.History object at 0x7fe21f7b7...   \n",
       "9   <keras.callbacks.History object at 0x7fe21f41e...   \n",
       "10  <keras.callbacks.History object at 0x7fe21f0ae...   \n",
       "11  <keras.callbacks.History object at 0x7fe21ec82...   \n",
       "12  <keras.callbacks.History object at 0x7fe21e88a...   \n",
       "13  <keras.callbacks.History object at 0x7fe21e4b6...   \n",
       "14  <keras.callbacks.History object at 0x7fe21e01b...   \n",
       "\n",
       "                                     TrainPredictions  \n",
       "0   [[243.55884], [105.24606], [278.90875], [131.6...  \n",
       "1   [[252.63795], [100.17087], [288.81482], [138.3...  \n",
       "2   [[243.90535], [103.150635], [271.70428], [140....  \n",
       "3   [[240.33984], [100.75966], [275.08728], [144.7...  \n",
       "4   [[250.76656], [96.218765], [282.81223], [139.0...  \n",
       "5   [[253.07698], [108.66411], [286.52985], [141.4...  \n",
       "6   [[244.05765], [104.25451], [282.08176], [139.3...  \n",
       "7   [[240.3879], [91.309845], [279.78415], [127.85...  \n",
       "8   [[247.06674], [104.94549], [279.9435], [136.34...  \n",
       "9   [[254.93166], [104.1271], [288.5054], [133.489...  \n",
       "10  [[240.12479], [108.060356], [276.97223], [137....  \n",
       "11  [[242.8071], [108.6256], [285.51636], [138.380...  \n",
       "12  [[247.91484], [99.8336], [281.2366], [133.0529...  \n",
       "13  [[253.74031], [109.03934], [281.7908], [137.68...  \n",
       "14  [[248.97987], [102.69047], [282.12796], [136.1...  "
      ]
     },
     "execution_count": 32,
     "metadata": {},
     "output_type": "execute_result"
    }
   ],
   "source": [
    "df"
   ]
  },
  {
   "cell_type": "code",
   "execution_count": 33,
   "id": "56145d76",
   "metadata": {},
   "outputs": [
    {
     "data": {
      "image/png": "[encoded data removed]",
      "text/plain": [
       "<Figure size 1440x720 with 1 Axes>"
      ]
     },
     "metadata": {
      "needs_background": "light"
     },
     "output_type": "display_data"
    }
   ],
   "source": [
    "#Plot train vs validation\n",
    "plt.figure(figsize=(20,10))\n",
    "#plt.plot(testResDataFrame['R2Score'])\n",
    "plt.plot(testResDataFrame['MAE'])\n",
    "#plt.plot(testResDataFrame['MSE'])\n",
    "plt.title('Training Scores MLP')\n",
    "plt.ylabel('Score')\n",
    "plt.xlabel('Iteration')\n",
    "plt.legend(['MAE'], loc='upper right')\n",
    "plt.show()"
   ]
  },
  {
   "cell_type": "code",
   "execution_count": 34,
   "id": "0c07e0cd",
   "metadata": {},
   "outputs": [
    {
     "data": {
      "image/png": "[encoded data removed]",
      "text/plain": [
       "<Figure size 1440x720 with 1 Axes>"
      ]
     },
     "metadata": {
      "needs_background": "light"
     },
     "output_type": "display_data"
    }
   ],
   "source": [
    "#Plot train vs validation\n",
    "plt.figure(figsize=(20,10))\n",
    "#plt.plot(df['R2Score'])\n",
    "plt.plot(df['MAE'])\n",
    "#plt.plot(df['MSE'])\n",
    "plt.title('Training Scores MLP')\n",
    "plt.ylabel('Score')\n",
    "plt.xlabel('Iteration')\n",
    "plt.legend(['MAE'], loc='upper right')\n",
    "plt.show()"
   ]
  },
  {
   "cell_type": "code",
   "execution_count": 35,
   "id": "707005cb",
   "metadata": {},
   "outputs": [],
   "source": [
    "# Determine the IDX value where the MAE is smallest\n",
    "minMaeIDX = testResDataFrame.loc[testResDataFrame['MAE']==testResDataFrame['MAE'].min()].index[0]"
   ]
  },
  {
   "cell_type": "code",
   "execution_count": 36,
   "id": "fac3e691",
   "metadata": {},
   "outputs": [
    {
     "data": {
      "text/plain": [
       "HiddenLayers                                                       10\n",
       "R2Score                                                      0.999297\n",
       "MAE                                                          1.991544\n",
       "MSE                                                          5.861188\n",
       "MAPE                                                         0.009898\n",
       "H5FileName                                 mlp_64_10_model_std_all.h5\n",
       "TrainHistory        <keras.callbacks.History object at 0x7fe25842b...\n",
       "TrainPredictions    [[244.72168], [104.9576], [275.94086], [138.05...\n",
       "Name: 10, dtype: object"
      ]
     },
     "execution_count": 36,
     "metadata": {},
     "output_type": "execute_result"
    }
   ],
   "source": [
    "testResDataFrame.iloc[minMaeIDX]"
   ]
  },
  {
   "cell_type": "code",
   "execution_count": 37,
   "id": "2285238e",
   "metadata": {},
   "outputs": [],
   "source": [
    "minMaeIDX_ray = df.loc[df['MAE']==df['MAE'].min()].index[0]"
   ]
  },
  {
   "cell_type": "code",
   "execution_count": 38,
   "id": "078966bc",
   "metadata": {},
   "outputs": [
    {
     "data": {
      "text/plain": [
       "HiddenLayers                                                        2\n",
       "R2Score                                                      0.998342\n",
       "MAE                                                          3.103025\n",
       "MSE                                                          13.81636\n",
       "MAPE                                                         0.014899\n",
       "H5FileName                              mlp_64_2_model_std_all_ray.h5\n",
       "TrainHistory        <keras.callbacks.History object at 0x7fe2389b0...\n",
       "TrainPredictions    [[243.90535], [103.150635], [271.70428], [140....\n",
       "Name: 2, dtype: object"
      ]
     },
     "execution_count": 38,
     "metadata": {},
     "output_type": "execute_result"
    }
   ],
   "source": [
    "df.iloc[minMaeIDX_ray]"
   ]
  },
  {
   "cell_type": "code",
   "execution_count": 39,
   "id": "25a5642f",
   "metadata": {},
   "outputs": [
    {
     "data": {
      "image/png": "[encoded data removed]",
      "text/plain": [
       "<Figure size 1440x720 with 1 Axes>"
      ]
     },
     "metadata": {
      "needs_background": "light"
     },
     "output_type": "display_data"
    }
   ],
   "source": [
    "y_pred_MLP_std = testResDataFrame['TrainPredictions'][minMaeIDX]\n",
    "# Plot prediction vs original\n",
    "plt.figure(figsize=(20,10))\n",
    "plt.scatter(range(y_test.shape[0]),y_test,label=\"Original Data\", alpha=0.6, c='red')\n",
    "plt.scatter(range(y_pred_MLP_std.shape[0]),y_pred_MLP_std,label=\"Predicted Data\", \n",
    "            alpha=0.6, c='black')\n",
    "plt.ylabel('Mean TPS')\n",
    "plt.xlabel('Test Records')\n",
    "plt.title('MLP Std Model for X_test dataset prediction vs original')\n",
    "plt.legend()\n",
    "plt.show()"
   ]
  },
  {
   "cell_type": "code",
   "execution_count": 40,
   "id": "cfe24f8f",
   "metadata": {},
   "outputs": [
    {
     "data": {
      "image/png": "[encoded data removed]",
      "text/plain": [
       "<Figure size 1440x720 with 1 Axes>"
      ]
     },
     "metadata": {
      "needs_background": "light"
     },
     "output_type": "display_data"
    }
   ],
   "source": [
    "y_pred_MLP_std = df['TrainPredictions'][minMaeIDX_ray]\n",
    "# Plot prediction vs original\n",
    "plt.figure(figsize=(20,10))\n",
    "plt.scatter(range(y_test.shape[0]),y_test,label=\"Original Data\", alpha=0.6, c='red')\n",
    "plt.scatter(range(y_pred_MLP_std.shape[0]),y_pred_MLP_std,label=\"Predicted Data\", \n",
    "            alpha=0.6, c='black')\n",
    "plt.ylabel('Mean TPS')\n",
    "plt.xlabel('Test Records')\n",
    "plt.title('MLP Std Model for X_test dataset prediction vs original (on Ray)')\n",
    "plt.legend()\n",
    "plt.show()"
   ]
  },
  {
   "cell_type": "code",
   "execution_count": 41,
   "id": "fc04a934",
   "metadata": {},
   "outputs": [
    {
     "data": {
      "text/plain": [
       "Index(['asyncResp', 'asyncRespThreads', 'cThreads', 'jacptQSize',\n",
       "       'jacptThreads', 'ltTargetSize', 'numConnections', 'timeoutSeconds'],\n",
       "      dtype='object')"
      ]
     },
     "execution_count": 41,
     "metadata": {},
     "output_type": "execute_result"
    }
   ],
   "source": [
    "X_test.columns"
   ]
  },
  {
   "cell_type": "code",
   "execution_count": 42,
   "id": "168e7a27-4151-4b8e-bcba-f288f632d376",
   "metadata": {},
   "outputs": [
    {
     "data": {
      "text/html": [
       "<div>\n",
       "<style scoped>\n",
       "    .dataframe tbody tr th:only-of-type {\n",
       "        vertical-align: middle;\n",
       "    }\n",
       "\n",
       "    .dataframe tbody tr th {\n",
       "        vertical-align: top;\n",
       "    }\n",
       "\n",
       "    .dataframe thead th {\n",
       "        text-align: right;\n",
       "    }\n",
       "</style>\n",
       "<table border=\"1\" class=\"dataframe\">\n",
       "  <thead>\n",
       "    <tr style=\"text-align: right;\">\n",
       "      <th></th>\n",
       "      <th>asyncResp</th>\n",
       "      <th>asyncRespThreads</th>\n",
       "      <th>cThreads</th>\n",
       "      <th>jacptQSize</th>\n",
       "      <th>jacptThreads</th>\n",
       "      <th>ltTargetSize</th>\n",
       "      <th>mean_tps</th>\n",
       "      <th>numConnections</th>\n",
       "      <th>timeoutSeconds</th>\n",
       "    </tr>\n",
       "    <tr>\n",
       "      <th>DateTime</th>\n",
       "      <th></th>\n",
       "      <th></th>\n",
       "      <th></th>\n",
       "      <th></th>\n",
       "      <th></th>\n",
       "      <th></th>\n",
       "      <th></th>\n",
       "      <th></th>\n",
       "      <th></th>\n",
       "    </tr>\n",
       "  </thead>\n",
       "  <tbody>\n",
       "    <tr>\n",
       "      <th>2022-09-28 15:25:25+00:00</th>\n",
       "      <td>True</td>\n",
       "      <td>21.0</td>\n",
       "      <td>277.0</td>\n",
       "      <td>1712.0</td>\n",
       "      <td>262.0</td>\n",
       "      <td>7.0</td>\n",
       "      <td>307.015227</td>\n",
       "      <td>31.0</td>\n",
       "      <td>5.0</td>\n",
       "    </tr>\n",
       "  </tbody>\n",
       "</table>\n",
       "</div>"
      ],
      "text/plain": [
       "                           asyncResp  asyncRespThreads  cThreads  jacptQSize  \\\n",
       "DateTime                                                                       \n",
       "2022-09-28 15:25:25+00:00       True              21.0     277.0      1712.0   \n",
       "\n",
       "                           jacptThreads  ltTargetSize    mean_tps  \\\n",
       "DateTime                                                            \n",
       "2022-09-28 15:25:25+00:00         262.0           7.0  307.015227   \n",
       "\n",
       "                           numConnections  timeoutSeconds  \n",
       "DateTime                                                   \n",
       "2022-09-28 15:25:25+00:00            31.0             5.0  "
      ]
     },
     "execution_count": 42,
     "metadata": {},
     "output_type": "execute_result"
    }
   ],
   "source": [
    "data.head(1)"
   ]
  },
  {
   "cell_type": "code",
   "execution_count": 43,
   "id": "4d8b24e8-a8e9-4a95-b7e8-46ba09ad38af",
   "metadata": {},
   "outputs": [],
   "source": [
    "record = [[True, 21, 277, 1712, 262, 7, 31, 5]]"
   ]
  },
  {
   "cell_type": "code",
   "execution_count": 44,
   "id": "f1546087",
   "metadata": {},
   "outputs": [],
   "source": [
    "test_rec = stdScaler.transform(record)"
   ]
  },
  {
   "cell_type": "code",
   "execution_count": 45,
   "id": "ccf21aff",
   "metadata": {},
   "outputs": [
    {
     "data": {
      "text/plain": [
       "array([[ 0.34815531, -0.16614866,  1.14391569, -0.53671704,  1.14391569,\n",
       "        -0.29012346,  0.90504761,  0.30039875]])"
      ]
     },
     "execution_count": 45,
     "metadata": {},
     "output_type": "execute_result"
    }
   ],
   "source": [
    "test_rec"
   ]
  },
  {
   "cell_type": "code",
   "execution_count": 46,
   "id": "a50cf02a",
   "metadata": {},
   "outputs": [],
   "source": [
    "test_model = load_model(testResDataFrame['H5FileName'][minMaeIDX])"
   ]
  },
  {
   "cell_type": "code",
   "execution_count": 47,
   "id": "ff8e6273-16be-4a4e-ba84-da3454406c97",
   "metadata": {},
   "outputs": [],
   "source": [
    "test_pred = test_model.predict(test_rec)"
   ]
  },
  {
   "cell_type": "code",
   "execution_count": 48,
   "id": "ff876c31",
   "metadata": {},
   "outputs": [
    {
     "data": {
      "text/plain": [
       "array([[0.8993267]], dtype=float32)"
      ]
     },
     "execution_count": 48,
     "metadata": {},
     "output_type": "execute_result"
    }
   ],
   "source": [
    "test_pred"
   ]
  },
  {
   "cell_type": "code",
   "execution_count": 49,
   "id": "e1ccfdec",
   "metadata": {},
   "outputs": [
    {
     "data": {
      "text/plain": [
       "array([[306.28903]], dtype=float32)"
      ]
     },
     "execution_count": 49,
     "metadata": {},
     "output_type": "execute_result"
    }
   ],
   "source": [
    "targetStdScaler.inverse_transform(test_pred)"
   ]
  },
  {
   "cell_type": "markdown",
   "id": "d285a26a-d409-4565-a0c4-f78088b1bede",
   "metadata": {},
   "source": [
    "### Save the scalers for the inference calls"
   ]
  },
  {
   "cell_type": "code",
   "execution_count": 50,
   "id": "50071874",
   "metadata": {},
   "outputs": [
    {
     "data": {
      "text/plain": [
       "['target_scaler.pkl']"
      ]
     },
     "execution_count": 50,
     "metadata": {},
     "output_type": "execute_result"
    }
   ],
   "source": [
    "joblib.dump(targetStdScaler,'target_scaler.pkl')"
   ]
  },
  {
   "cell_type": "code",
   "execution_count": 51,
   "id": "8986b775",
   "metadata": {},
   "outputs": [
    {
     "data": {
      "text/plain": [
       "['standard_scaler.pkl']"
      ]
     },
     "execution_count": 51,
     "metadata": {},
     "output_type": "execute_result"
    }
   ],
   "source": [
    "joblib.dump(stdScaler,'standard_scaler.pkl')"
   ]
  },
  {
   "cell_type": "markdown",
   "id": "f194a30d-e138-4560-b138-be1350e48f72",
   "metadata": {},
   "source": [
    "### Export to ONNX to run on the RHODS model server"
   ]
  },
  {
   "cell_type": "code",
   "execution_count": 52,
   "id": "a6c6f414-42d3-4b93-bb3d-eb2066301234",
   "metadata": {},
   "outputs": [
    {
     "name": "stdout",
     "output_type": "stream",
     "text": [
      "Collecting protobuf==4.23.4\n",
      "  Downloading protobuf-4.23.4-cp37-abi3-manylinux2014_x86_64.whl (304 kB)\n",
      "\u001b[2K     \u001b[90m━━━━━━━━━━━━━━━━━━━━━━━━━━━━━━━━━━━━━━\u001b[0m \u001b[32m304.5/304.5 kB\u001b[0m \u001b[31m35.7 MB/s\u001b[0m eta \u001b[36m0:00:00\u001b[0m\n",
      "\u001b[?25hInstalling collected packages: protobuf\n",
      "  Attempting uninstall: protobuf\n",
      "    Found existing installation: protobuf 3.19.6\n",
      "    Uninstalling protobuf-3.19.6:\n",
      "      Successfully uninstalled protobuf-3.19.6\n",
      "\u001b[31mERROR: pip's dependency resolver does not currently take into account all the packages that are installed. This behaviour is the source of the following dependency conflicts.\n",
      "tensorflow-gpu 2.7.4 requires protobuf<3.20,>=3.9.2, but you have protobuf 4.23.4 which is incompatible.\n",
      "tensorboard 2.6.0 requires google-auth<2,>=1.6.3, but you have google-auth 2.22.0 which is incompatible.\n",
      "kfp 1.8.22 requires protobuf<4,>=3.13.0, but you have protobuf 4.23.4 which is incompatible.\n",
      "kfp-pipeline-spec 0.1.16 requires protobuf<4,>=3.13.0, but you have protobuf 4.23.4 which is incompatible.\u001b[0m\u001b[31m\n",
      "\u001b[0mSuccessfully installed protobuf-4.23.4\n",
      "\n",
      "\u001b[1m[\u001b[0m\u001b[34;49mnotice\u001b[0m\u001b[1;39;49m]\u001b[0m\u001b[39;49m A new release of pip available: \u001b[0m\u001b[31;49m22.3\u001b[0m\u001b[39;49m -> \u001b[0m\u001b[32;49m23.2.1\u001b[0m\n",
      "\u001b[1m[\u001b[0m\u001b[34;49mnotice\u001b[0m\u001b[1;39;49m]\u001b[0m\u001b[39;49m To update, run: \u001b[0m\u001b[32;49mpip install --upgrade pip\u001b[0m\n"
     ]
    }
   ],
   "source": [
    "!pip install protobuf==\"4.23.4\""
   ]
  },
  {
   "cell_type": "code",
   "execution_count": 53,
   "id": "ea08a5d2",
   "metadata": {},
   "outputs": [],
   "source": [
    "import tf2onnx"
   ]
  },
  {
   "cell_type": "code",
   "execution_count": 54,
   "id": "02097f7d",
   "metadata": {},
   "outputs": [],
   "source": [
    "model_onnx, _ = tf2onnx.convert.from_keras(test_model, output_path='tf_mlasp.onnx')"
   ]
  },
  {
   "cell_type": "code",
   "execution_count": 55,
   "id": "16832384-42c1-4a35-912c-e3e8099e741d",
   "metadata": {},
   "outputs": [
    {
     "name": "stdout",
     "output_type": "stream",
     "text": [
      "Collecting protobuf==3.19.6\n",
      "  Downloading protobuf-3.19.6-cp38-cp38-manylinux_2_17_x86_64.manylinux2014_x86_64.whl (1.1 MB)\n",
      "\u001b[2K     \u001b[90m━━━━━━━━━━━━━━━━━━━━━━━━━━━━━━━━━━━━━━━━\u001b[0m \u001b[32m1.1/1.1 MB\u001b[0m \u001b[31m56.1 MB/s\u001b[0m eta \u001b[36m0:00:00\u001b[0m\n",
      "\u001b[?25hInstalling collected packages: protobuf\n",
      "  Attempting uninstall: protobuf\n",
      "    Found existing installation: protobuf 4.23.4\n",
      "    Uninstalling protobuf-4.23.4:\n",
      "      Successfully uninstalled protobuf-4.23.4\n",
      "\u001b[31mERROR: pip's dependency resolver does not currently take into account all the packages that are installed. This behaviour is the source of the following dependency conflicts.\n",
      "tensorboard 2.6.0 requires google-auth<2,>=1.6.3, but you have google-auth 2.22.0 which is incompatible.\n",
      "onnx 1.14.0 requires protobuf>=3.20.2, but you have protobuf 3.19.6 which is incompatible.\u001b[0m\u001b[31m\n",
      "\u001b[0mSuccessfully installed protobuf-3.19.6\n",
      "\n",
      "\u001b[1m[\u001b[0m\u001b[34;49mnotice\u001b[0m\u001b[1;39;49m]\u001b[0m\u001b[39;49m A new release of pip available: \u001b[0m\u001b[31;49m22.3\u001b[0m\u001b[39;49m -> \u001b[0m\u001b[32;49m23.2.1\u001b[0m\n",
      "\u001b[1m[\u001b[0m\u001b[34;49mnotice\u001b[0m\u001b[1;39;49m]\u001b[0m\u001b[39;49m To update, run: \u001b[0m\u001b[32;49mpip install --upgrade pip\u001b[0m\n"
     ]
    }
   ],
   "source": [
    "!pip install protobuf==\"3.19.6\""
   ]
  },
  {
   "cell_type": "markdown",
   "id": "f8893b44-8218-4c4a-83ee-7953c889344b",
   "metadata": {},
   "source": [
    "### Upload model to S3 bucket"
   ]
  },
  {
   "cell_type": "code",
   "execution_count": 56,
   "id": "3aacaca1-4b2e-4ed9-a4d1-156cb31477a1",
   "metadata": {},
   "outputs": [],
   "source": [
    "import boto3\n",
    "import botocore"
   ]
  },
  {
   "cell_type": "code",
   "execution_count": 57,
   "id": "18a16a30-4dc3-44e6-97b3-b5223e1a1825",
   "metadata": {},
   "outputs": [],
   "source": [
    "#S3 ODF GW client\n",
    "s3_odf = boto3.client(service_name = 's3',\n",
    "                      aws_access_key_id = aws_access_key_id,\n",
    "                      aws_secret_access_key = aws_secret_access_key,\n",
    "                      region_name = 'default',\n",
    "                      endpoint_url = endpoint_url,\n",
    "                      config = botocore.client.Config(signature_version = 's3'))"
   ]
  },
  {
   "cell_type": "code",
   "execution_count": 58,
   "id": "281f506d-4b61-4fbd-96b7-1ddc766aefa5",
   "metadata": {},
   "outputs": [],
   "source": [
    "s3_odf.upload_file('tf_mlasp.onnx', bucket_name, 'models/tf_mlasp.onnx')"
   ]
  },
  {
   "cell_type": "code",
   "execution_count": 59,
   "id": "b66b3213",
   "metadata": {},
   "outputs": [],
   "source": [
    "ray.shutdown()"
   ]
  },
  {
   "cell_type": "code",
   "execution_count": 60,
   "id": "88393ea4",
   "metadata": {},
   "outputs": [],
   "source": [
    "s3_odf.upload_file('lt_results_2022-10-01.csv', bucket_name, 'data/lt_results_2022-10-01.csv')"
   ]
  },
  {
   "cell_type": "code",
   "execution_count": null,
   "id": "879b4ff2-5eac-40f6-acc2-135b42ab52b4",
   "metadata": {},
   "outputs": [],
   "source": []
  }
 ],
 "metadata": {
  "kernelspec": {
   "display_name": "Python 3",
   "language": "python",
   "name": "python3"
  },
  "language_info": {
   "codemirror_mode": {
    "name": "ipython",
    "version": 3
   },
   "file_extension": ".py",
   "mimetype": "text/x-python",
   "name": "python",
   "nbconvert_exporter": "python",
   "pygments_lexer": "ipython3",
   "version": "3.8.13"
  }
 },
 "nbformat": 4,
 "nbformat_minor": 5
}
