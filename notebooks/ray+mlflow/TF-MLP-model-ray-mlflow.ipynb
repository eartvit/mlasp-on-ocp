{
 "cells": [
  {
   "cell_type": "code",
   "execution_count": 1,
   "id": "7449aba8-9b91-4265-8406-b34bca561a9c",
   "metadata": {},
   "outputs": [],
   "source": [
    "from sklearn import metrics\n",
    "import joblib"
   ]
  },
  {
   "cell_type": "code",
   "execution_count": 2,
   "id": "f5698b57-2887-4b51-a8e7-8c7aa8514ece",
   "metadata": {},
   "outputs": [],
   "source": [
    "import pandas as pd\n",
    "import numpy as np\n",
    "import matplotlib.pyplot as plt\n",
    "%matplotlib inline"
   ]
  },
  {
   "cell_type": "code",
   "execution_count": 3,
   "id": "ca4b99c9-801d-471d-a895-0925874c85e1",
   "metadata": {},
   "outputs": [],
   "source": [
    "import warnings\n",
    "warnings.simplefilter('ignore')\n",
    "warnings.filterwarnings('ignore')"
   ]
  },
  {
   "cell_type": "code",
   "execution_count": 4,
   "id": "34794a03",
   "metadata": {},
   "outputs": [
    {
     "name": "stderr",
     "output_type": "stream",
     "text": [
      "2025-05-02 19:14:18.424764: I tensorflow/core/platform/cpu_feature_guard.cc:193] This TensorFlow binary is optimized with oneAPI Deep Neural Network Library (oneDNN) to use the following CPU instructions in performance-critical operations:  AVX2 AVX512F AVX512_VNNI AVX512_BF16 FMA\n",
      "To enable them in other operations, rebuild TensorFlow with the appropriate compiler flags.\n",
      "2025-05-02 19:14:18.691445: I tensorflow/core/util/port.cc:104] oneDNN custom operations are on. You may see slightly different numerical results due to floating-point round-off errors from different computation orders. To turn them off, set the environment variable `TF_ENABLE_ONEDNN_OPTS=0`.\n",
      "2025-05-02 19:14:19.676701: W tensorflow/compiler/xla/stream_executor/platform/default/dso_loader.cc:64] Could not load dynamic library 'libnvinfer.so.7'; dlerror: libnvinfer.so.7: cannot open shared object file: No such file or directory; LD_LIBRARY_PATH: /usr/local/nvidia/lib:/usr/local/nvidia/lib64\n",
      "2025-05-02 19:14:19.676882: W tensorflow/compiler/xla/stream_executor/platform/default/dso_loader.cc:64] Could not load dynamic library 'libnvinfer_plugin.so.7'; dlerror: libnvinfer_plugin.so.7: cannot open shared object file: No such file or directory; LD_LIBRARY_PATH: /usr/local/nvidia/lib:/usr/local/nvidia/lib64\n",
      "2025-05-02 19:14:19.676892: W tensorflow/compiler/tf2tensorrt/utils/py_utils.cc:38] TF-TRT Warning: Cannot dlopen some TensorRT libraries. If you would like to use Nvidia GPU with TensorRT, please make sure the missing libraries mentioned above are installed properly.\n"
     ]
    }
   ],
   "source": [
    "from numpy.random import seed\n",
    "seed(42)\n",
    "import tensorflow as tf\n",
    "tf.get_logger().setLevel('ERROR')"
   ]
  },
  {
   "cell_type": "code",
   "execution_count": 5,
   "id": "ac816ae9-57fe-443b-a298-411395db32b5",
   "metadata": {},
   "outputs": [],
   "source": [
    "import pytz\n",
    "from datetime import timedelta, datetime\n",
    "local_tz = pytz.timezone('America/Toronto') # Set local timezone for InfluxDB based times calculations\n",
    "today=datetime.today().strftime('%Y-%m-%d')"
   ]
  },
  {
   "cell_type": "markdown",
   "id": "c7839bf0-de93-4191-bb7b-04f426be3a6b",
   "metadata": {},
   "source": [
    "#### Note: if you did not create new data for the model training, a sample is provided in this repository. \n",
    "#### To use it, ensure that in the next cell the instruction with the file name lt_results_2022-10-01.csv in it is executed and not the one using \"today's\" date"
   ]
  },
  {
   "cell_type": "code",
   "execution_count": 6,
   "id": "44351c78-7bd2-4ffc-8029-f971e62d6e09",
   "metadata": {},
   "outputs": [],
   "source": [
    "#data = pd.read_csv('lt_results_'+today+'.csv', index_col='DateTime', parse_dates=True, infer_datetime_format=True)\n",
    "data = pd.read_csv('lt_results_2022-10-01.csv', index_col='DateTime', parse_dates=True, infer_datetime_format=True)"
   ]
  },
  {
   "cell_type": "code",
   "execution_count": 7,
   "id": "d1f3eaae-82c8-4c5b-976f-705aedf80ba4",
   "metadata": {},
   "outputs": [
    {
     "data": {
      "text/html": [
       "<div>\n",
       "<style scoped>\n",
       "    .dataframe tbody tr th:only-of-type {\n",
       "        vertical-align: middle;\n",
       "    }\n",
       "\n",
       "    .dataframe tbody tr th {\n",
       "        vertical-align: top;\n",
       "    }\n",
       "\n",
       "    .dataframe thead th {\n",
       "        text-align: right;\n",
       "    }\n",
       "</style>\n",
       "<table border=\"1\" class=\"dataframe\">\n",
       "  <thead>\n",
       "    <tr style=\"text-align: right;\">\n",
       "      <th></th>\n",
       "      <th>asyncResp</th>\n",
       "      <th>asyncRespThreads</th>\n",
       "      <th>cThreads</th>\n",
       "      <th>jacptQSize</th>\n",
       "      <th>jacptThreads</th>\n",
       "      <th>ltTargetSize</th>\n",
       "      <th>mean_tps</th>\n",
       "      <th>numConnections</th>\n",
       "      <th>req2xx</th>\n",
       "      <th>testDurationSeconds</th>\n",
       "      <th>timeoutSeconds</th>\n",
       "    </tr>\n",
       "    <tr>\n",
       "      <th>DateTime</th>\n",
       "      <th></th>\n",
       "      <th></th>\n",
       "      <th></th>\n",
       "      <th></th>\n",
       "      <th></th>\n",
       "      <th></th>\n",
       "      <th></th>\n",
       "      <th></th>\n",
       "      <th></th>\n",
       "      <th></th>\n",
       "      <th></th>\n",
       "    </tr>\n",
       "  </thead>\n",
       "  <tbody>\n",
       "    <tr>\n",
       "      <th>2022-09-28 15:25:25+00:00</th>\n",
       "      <td>True</td>\n",
       "      <td>21.0</td>\n",
       "      <td>277.0</td>\n",
       "      <td>1712.0</td>\n",
       "      <td>262.0</td>\n",
       "      <td>7.0</td>\n",
       "      <td>307.015227</td>\n",
       "      <td>31.0</td>\n",
       "      <td>50679.0</td>\n",
       "      <td>165.0</td>\n",
       "      <td>5.0</td>\n",
       "    </tr>\n",
       "    <tr>\n",
       "      <th>2022-09-28 15:34:42+00:00</th>\n",
       "      <td>True</td>\n",
       "      <td>30.0</td>\n",
       "      <td>173.0</td>\n",
       "      <td>2788.0</td>\n",
       "      <td>158.0</td>\n",
       "      <td>1.0</td>\n",
       "      <td>347.427221</td>\n",
       "      <td>35.0</td>\n",
       "      <td>146793.0</td>\n",
       "      <td>423.0</td>\n",
       "      <td>5.0</td>\n",
       "    </tr>\n",
       "    <tr>\n",
       "      <th>2022-09-28 15:47:10+00:00</th>\n",
       "      <td>True</td>\n",
       "      <td>28.0</td>\n",
       "      <td>125.0</td>\n",
       "      <td>1411.0</td>\n",
       "      <td>110.0</td>\n",
       "      <td>15.0</td>\n",
       "      <td>138.693699</td>\n",
       "      <td>14.0</td>\n",
       "      <td>84757.0</td>\n",
       "      <td>611.0</td>\n",
       "      <td>5.0</td>\n",
       "    </tr>\n",
       "    <tr>\n",
       "      <th>2022-09-28 15:56:35+00:00</th>\n",
       "      <td>True</td>\n",
       "      <td>14.0</td>\n",
       "      <td>115.0</td>\n",
       "      <td>1176.0</td>\n",
       "      <td>100.0</td>\n",
       "      <td>12.0</td>\n",
       "      <td>158.212165</td>\n",
       "      <td>16.0</td>\n",
       "      <td>68515.0</td>\n",
       "      <td>433.0</td>\n",
       "      <td>5.0</td>\n",
       "    </tr>\n",
       "    <tr>\n",
       "      <th>2022-09-28 16:01:09+00:00</th>\n",
       "      <td>True</td>\n",
       "      <td>30.0</td>\n",
       "      <td>226.0</td>\n",
       "      <td>2296.0</td>\n",
       "      <td>211.0</td>\n",
       "      <td>12.0</td>\n",
       "      <td>245.806605</td>\n",
       "      <td>25.0</td>\n",
       "      <td>34173.0</td>\n",
       "      <td>139.0</td>\n",
       "      <td>5.0</td>\n",
       "    </tr>\n",
       "  </tbody>\n",
       "</table>\n",
       "</div>"
      ],
      "text/plain": [
       "                           asyncResp  asyncRespThreads  cThreads  jacptQSize  \\\n",
       "DateTime                                                                       \n",
       "2022-09-28 15:25:25+00:00       True              21.0     277.0      1712.0   \n",
       "2022-09-28 15:34:42+00:00       True              30.0     173.0      2788.0   \n",
       "2022-09-28 15:47:10+00:00       True              28.0     125.0      1411.0   \n",
       "2022-09-28 15:56:35+00:00       True              14.0     115.0      1176.0   \n",
       "2022-09-28 16:01:09+00:00       True              30.0     226.0      2296.0   \n",
       "\n",
       "                           jacptThreads  ltTargetSize    mean_tps  \\\n",
       "DateTime                                                            \n",
       "2022-09-28 15:25:25+00:00         262.0           7.0  307.015227   \n",
       "2022-09-28 15:34:42+00:00         158.0           1.0  347.427221   \n",
       "2022-09-28 15:47:10+00:00         110.0          15.0  138.693699   \n",
       "2022-09-28 15:56:35+00:00         100.0          12.0  158.212165   \n",
       "2022-09-28 16:01:09+00:00         211.0          12.0  245.806605   \n",
       "\n",
       "                           numConnections    req2xx  testDurationSeconds  \\\n",
       "DateTime                                                                   \n",
       "2022-09-28 15:25:25+00:00            31.0   50679.0                165.0   \n",
       "2022-09-28 15:34:42+00:00            35.0  146793.0                423.0   \n",
       "2022-09-28 15:47:10+00:00            14.0   84757.0                611.0   \n",
       "2022-09-28 15:56:35+00:00            16.0   68515.0                433.0   \n",
       "2022-09-28 16:01:09+00:00            25.0   34173.0                139.0   \n",
       "\n",
       "                           timeoutSeconds  \n",
       "DateTime                                   \n",
       "2022-09-28 15:25:25+00:00             5.0  \n",
       "2022-09-28 15:34:42+00:00             5.0  \n",
       "2022-09-28 15:47:10+00:00             5.0  \n",
       "2022-09-28 15:56:35+00:00             5.0  \n",
       "2022-09-28 16:01:09+00:00             5.0  "
      ]
     },
     "execution_count": 7,
     "metadata": {},
     "output_type": "execute_result"
    }
   ],
   "source": [
    "data.head()"
   ]
  },
  {
   "cell_type": "code",
   "execution_count": 8,
   "id": "2435b5e3-39c5-4066-b449-1854f7479d37",
   "metadata": {},
   "outputs": [],
   "source": [
    "data = data.drop(columns=['req2xx', 'testDurationSeconds'])"
   ]
  },
  {
   "cell_type": "code",
   "execution_count": 9,
   "id": "451236eb-36ce-4da6-b805-7d43345c50a0",
   "metadata": {},
   "outputs": [
    {
     "data": {
      "text/plain": [
       "((74, 9), (9, 9))"
      ]
     },
     "execution_count": 9,
     "metadata": {},
     "output_type": "execute_result"
    }
   ],
   "source": [
    "from sklearn.model_selection import train_test_split\n",
    "\n",
    "X_train, X_test, y_train, y_test = train_test_split(data, data.mean_tps,\n",
    "                                                    test_size=0.1,\n",
    "                                                    random_state=0) # we are setting the seed here\n",
    "X_train.shape, X_test.shape"
   ]
  },
  {
   "cell_type": "code",
   "execution_count": 10,
   "id": "3db82e83-775c-4ed9-bb92-33eb69eba066",
   "metadata": {},
   "outputs": [],
   "source": [
    "target_var = 'mean_tps'\n",
    "X_train = X_train.drop(target_var, axis=1)\n",
    "X_test = X_test.drop(target_var, axis=1)"
   ]
  },
  {
   "cell_type": "code",
   "execution_count": 11,
   "id": "8af28291",
   "metadata": {},
   "outputs": [],
   "source": [
    "from sklearn.preprocessing import StandardScaler"
   ]
  },
  {
   "cell_type": "code",
   "execution_count": 12,
   "id": "4d8f4eab",
   "metadata": {},
   "outputs": [],
   "source": [
    "stdScaler = StandardScaler()\n",
    "targetStdScaler = StandardScaler()"
   ]
  },
  {
   "cell_type": "code",
   "execution_count": 13,
   "id": "a7763e0d",
   "metadata": {},
   "outputs": [],
   "source": [
    "X_train_scaled = stdScaler.fit_transform(X_train.values)\n",
    "y_train_scaled = targetStdScaler.fit_transform(y_train.values.reshape(-1,1))"
   ]
  },
  {
   "cell_type": "code",
   "execution_count": 14,
   "id": "1441a568",
   "metadata": {},
   "outputs": [],
   "source": [
    "X_test_scaled = stdScaler.transform(X_test.values)\n",
    "y_test_scaled = targetStdScaler.transform(y_test.values.reshape(-1,1))"
   ]
  },
  {
   "cell_type": "code",
   "execution_count": 15,
   "id": "bf5f2608",
   "metadata": {},
   "outputs": [],
   "source": [
    "# Neural Nets imports\n",
    "from tensorflow.keras.models import Sequential, load_model, save_model\n",
    "from tensorflow.keras.layers import Dense, Dropout, BatchNormalization \n",
    "from tensorflow.keras.optimizers import Adam\n",
    "from tensorflow.keras.callbacks import ReduceLROnPlateau, ModelCheckpoint\n",
    "from tensorflow.keras.regularizers import l1, l2, l1_l2"
   ]
  },
  {
   "cell_type": "code",
   "execution_count": 16,
   "id": "5a7b5b4b-5c0a-46c1-8fbe-a4e6c627d104",
   "metadata": {},
   "outputs": [],
   "source": [
    "import os"
   ]
  },
  {
   "cell_type": "code",
   "execution_count": 17,
   "id": "5fa7afdc-69cc-4197-ac03-fd1f03535653",
   "metadata": {},
   "outputs": [],
   "source": [
    "#Retrieve AWS access from the data connection attached to the workbench\n",
    "aws_access_key_id = os.environ[\"AWS_ACCESS_KEY_ID\"]\n",
    "aws_secret_access_key = os.environ[\"AWS_SECRET_ACCESS_KEY\"]\n",
    "endpoint_url = os.environ[\"AWS_S3_ENDPOINT\"]\n",
    "bucket_name = os.environ[\"AWS_S3_BUCKET\"]\n",
    "region_name = os.environ[\"AWS_DEFAULT_REGION\"]"
   ]
  },
  {
   "cell_type": "code",
   "execution_count": 18,
   "id": "66ca337d-6594-43a8-841b-996fb9328d73",
   "metadata": {},
   "outputs": [],
   "source": [
    "verboseLevel=0\n",
    "validationSplit=0.2\n",
    "batchSize=30\n",
    "epochs=1000"
   ]
  },
  {
   "cell_type": "code",
   "execution_count": 19,
   "id": "6cd199ae",
   "metadata": {},
   "outputs": [],
   "source": [
    "# callback preparation\n",
    "reduce_lr = ReduceLROnPlateau(monitor='val_loss',\n",
    "                              factor=0.5,\n",
    "                              patience=2,\n",
    "                              verbose=verboseLevel,\n",
    "                              mode='min',\n",
    "                              min_lr=0.001)"
   ]
  },
  {
   "cell_type": "code",
   "execution_count": 20,
   "id": "d827c120",
   "metadata": {},
   "outputs": [],
   "source": [
    "inputSize = X_train_scaled.shape[1]\n",
    "colList = ['HiddenLayers', 'R2Score', 'MAE', 'MSE', 'MAPE', 'H5FileName', 'TrainHistory', 'TrainPredictions']"
   ]
  },
  {
   "cell_type": "code",
   "execution_count": 21,
   "id": "efb72f95",
   "metadata": {},
   "outputs": [],
   "source": [
    "target_loss = 'mae'\n",
    "#loss = 'mse'\n",
    "measure_metrics = ['mae', 'mse']\n",
    "#measure_metrics = ['mae']"
   ]
  },
  {
   "cell_type": "code",
   "execution_count": 22,
   "id": "d15c8a6f",
   "metadata": {},
   "outputs": [],
   "source": [
    "# This function is the reference for creating and training the models inside the Jupyter notebook pod. We will evaluate it against the Ray cluster distributed one\n",
    "def createModel(testResultsFrame, layerSize, loops, target_loss, measure_metrics,\n",
    "                y_train, X_train, y_test, X_test, targetScaler, labelSet):\n",
    "    print(f'Creating model using layer size = {layerSize} on set = {labelSet}.\\n')\n",
    "    for i in range(loops):\n",
    "        print(f'Training on {i} hidden layers\\n')\n",
    "        model = Sequential()\n",
    "        model.add(Dense(layerSize, kernel_initializer='normal',\n",
    "                        input_dim=inputSize, activation='relu'))\n",
    "        for j in range(i):\n",
    "            model.add(Dense(layerSize, \n",
    "                            kernel_initializer='normal', activation='relu'))\n",
    "        model.add(BatchNormalization())\n",
    "        model.add(Dense(1, kernel_initializer='normal', \n",
    "                        activation='linear'))\n",
    "\n",
    "        optmzr=Adam(learning_rate=0.001)    \n",
    "        model.compile(optimizer=optmzr, loss=target_loss, metrics=measure_metrics)\n",
    "\n",
    "        model_h5_name = 'mlp_' + str(layerSize)+ '_' + str(i) + '_model_std_' + labelSet + '.keras'\n",
    "        checkpoint_nn_std = ModelCheckpoint(model_h5_name,\n",
    "                                 monitor='val_loss',\n",
    "                                 verbose=verboseLevel,\n",
    "                                 save_best_only=True,\n",
    "                                 mode='min')\n",
    "        callbacks_list_nn_std = [checkpoint_nn_std, reduce_lr]\n",
    "\n",
    "        history_MLP_std = model.fit(X_train, y_train,\n",
    "                                    batch_size=batchSize, \n",
    "                                    validation_split=validationSplit, \n",
    "                                    epochs=epochs, verbose=verboseLevel,\n",
    "                                    callbacks=callbacks_list_nn_std)\n",
    "\n",
    "        #reload the best model!\n",
    "        model_new = load_model(model_h5_name)\n",
    "        #Predict\n",
    "        y_pred_scaled = model_new.predict(X_test)\n",
    "        #Evaluate metrics\n",
    "        y_pred = targetScaler.inverse_transform(y_pred_scaled)\n",
    "        r2_score = metrics.r2_score(y_test, y_pred)\n",
    "        mae = metrics.mean_absolute_error(y_test, y_pred)\n",
    "        mse = metrics.mean_squared_error(y_test, y_pred)\n",
    "        mape = metrics.mean_absolute_percentage_error(y_test, y_pred)\n",
    "        #store values\n",
    "        row = [i, r2_score, mae, mse, mape, model_h5_name, history_MLP_std, y_pred]\n",
    "        df = pd.DataFrame(np.array(row, dtype=object).reshape(1, len(colList)), columns=colList)\n",
    "        testResultsFrame = testResultsFrame.append(df, ignore_index=True)\n",
    "\n",
    "        tf.keras.backend.clear_session()\n",
    "        del(model)\n",
    "        del(model_new)\n",
    "        \n",
    "    return testResultsFrame\n"
   ]
  },
  {
   "cell_type": "code",
   "execution_count": 23,
   "id": "c96f914d",
   "metadata": {
    "scrolled": true
   },
   "outputs": [
    {
     "name": "stdout",
     "output_type": "stream",
     "text": [
      "Creating model using layer size = 64 on set = all.\n",
      "\n",
      "Training on 0 hidden layers\n",
      "\n"
     ]
    },
    {
     "name": "stderr",
     "output_type": "stream",
     "text": [
      "2025-05-01 01:18:59.179727: W tensorflow/compiler/xla/stream_executor/platform/default/dso_loader.cc:64] Could not load dynamic library 'libcuda.so.1'; dlerror: libcuda.so.1: cannot open shared object file: No such file or directory; LD_LIBRARY_PATH: /usr/local/nvidia/lib:/usr/local/nvidia/lib64\n",
      "2025-05-01 01:18:59.179769: W tensorflow/compiler/xla/stream_executor/cuda/cuda_driver.cc:265] failed call to cuInit: UNKNOWN ERROR (303)\n",
      "2025-05-01 01:18:59.179812: I tensorflow/compiler/xla/stream_executor/cuda/cuda_diagnostics.cc:156] kernel driver does not appear to be running on this host (mlasp-workbench-0): /proc/driver/nvidia/version does not exist\n",
      "2025-05-01 01:18:59.180039: I tensorflow/core/platform/cpu_feature_guard.cc:193] This TensorFlow binary is optimized with oneAPI Deep Neural Network Library (oneDNN) to use the following CPU instructions in performance-critical operations:  AVX2 AVX512F AVX512_VNNI AVX512_BF16 FMA\n",
      "To enable them in other operations, rebuild TensorFlow with the appropriate compiler flags.\n"
     ]
    },
    {
     "name": "stdout",
     "output_type": "stream",
     "text": [
      "1/1 [==============================] - 0s 49ms/step\n",
      "Training on 1 hidden layers\n",
      "\n",
      "1/1 [==============================] - 0s 32ms/step\n",
      "Training on 2 hidden layers\n",
      "\n",
      "1/1 [==============================] - 0s 39ms/step\n",
      "Training on 3 hidden layers\n",
      "\n",
      "1/1 [==============================] - 0s 39ms/step\n",
      "Training on 4 hidden layers\n",
      "\n",
      "1/1 [==============================] - 0s 40ms/step\n",
      "Training on 5 hidden layers\n",
      "\n",
      "1/1 [==============================] - 0s 46ms/step\n",
      "Training on 6 hidden layers\n",
      "\n",
      "1/1 [==============================] - 0s 45ms/step\n",
      "Training on 7 hidden layers\n",
      "\n",
      "1/1 [==============================] - 0s 48ms/step\n",
      "Training on 8 hidden layers\n",
      "\n",
      "1/1 [==============================] - 0s 53ms/step\n",
      "Training on 9 hidden layers\n",
      "\n",
      "1/1 [==============================] - 0s 265ms/step\n",
      "Training on 10 hidden layers\n",
      "\n",
      "1/1 [==============================] - 0s 54ms/step\n",
      "Training on 11 hidden layers\n",
      "\n",
      "1/1 [==============================] - 0s 69ms/step\n",
      "Training on 12 hidden layers\n",
      "\n",
      "1/1 [==============================] - 0s 68ms/step\n",
      "Training on 13 hidden layers\n",
      "\n",
      "1/1 [==============================] - 0s 65ms/step\n",
      "Training on 14 hidden layers\n",
      "\n",
      "1/1 [==============================] - 0s 77ms/step\n",
      "CPU times: user 5min 49s, sys: 2min 13s, total: 8min 2s\n",
      "Wall time: 6min 39s\n"
     ]
    }
   ],
   "source": [
    "%%time\n",
    "testResDataFrame = pd.DataFrame(columns=colList)\n",
    "layerSize = 64\n",
    "loops = 15\n",
    "testResDataFrame = createModel(testResDataFrame, layerSize, loops, \n",
    "                        target_loss, measure_metrics,\n",
    "                        y_train_scaled, X_train_scaled,\n",
    "                        y_test, X_test_scaled, \n",
    "                        targetStdScaler, 'all')\n"
   ]
  },
  {
   "cell_type": "code",
   "execution_count": 24,
   "id": "56145d76",
   "metadata": {
    "tags": []
   },
   "outputs": [
    {
     "data": {
      "image/png": "[encoded data removed]",
      "text/plain": [
       "<Figure size 2000x1000 with 1 Axes>"
      ]
     },
     "metadata": {},
     "output_type": "display_data"
    }
   ],
   "source": [
    "#Plot train vs validation\n",
    "plt.figure(figsize=(20,10))\n",
    "#plt.plot(testResDataFrame['R2Score'])\n",
    "plt.plot(testResDataFrame['MAE'])\n",
    "#plt.plot(testResDataFrame['MSE'])\n",
    "plt.title('Training Scores MLP')\n",
    "plt.ylabel('Score')\n",
    "plt.xlabel('Iteration')\n",
    "plt.legend(['MAE'], loc='upper right')\n",
    "plt.show()"
   ]
  },
  {
   "cell_type": "code",
   "execution_count": 25,
   "id": "707005cb",
   "metadata": {},
   "outputs": [],
   "source": [
    "# Determine the IDX value where the MAE is smallest\n",
    "minMaeIDX = testResDataFrame.loc[testResDataFrame['MAE']==testResDataFrame['MAE'].min()].index[0]"
   ]
  },
  {
   "cell_type": "code",
   "execution_count": 26,
   "id": "fac3e691",
   "metadata": {},
   "outputs": [
    {
     "data": {
      "text/plain": [
       "HiddenLayers                                                       11\n",
       "R2Score                                                      0.998093\n",
       "MAE                                                          2.862667\n",
       "MSE                                                         15.898268\n",
       "MAPE                                                         0.011398\n",
       "H5FileName                              mlp_64_11_model_std_all.keras\n",
       "TrainHistory        <keras.callbacks.History object at 0x7f59f77ba...\n",
       "TrainPredictions    [[248.11607], [107.996895], [273.0367], [140.4...\n",
       "Name: 11, dtype: object"
      ]
     },
     "execution_count": 26,
     "metadata": {},
     "output_type": "execute_result"
    }
   ],
   "source": [
    "testResDataFrame.iloc[minMaeIDX]"
   ]
  },
  {
   "cell_type": "code",
   "execution_count": 27,
   "id": "25a5642f",
   "metadata": {},
   "outputs": [
    {
     "data": {
      "image/png": "[encoded data removed]",
      "text/plain": [
       "<Figure size 2000x1000 with 1 Axes>"
      ]
     },
     "metadata": {},
     "output_type": "display_data"
    }
   ],
   "source": [
    "y_pred_MLP_std = testResDataFrame['TrainPredictions'][minMaeIDX]\n",
    "# Plot prediction vs original\n",
    "plt.figure(figsize=(20,10))\n",
    "plt.scatter(range(y_test.shape[0]),y_test,label=\"Original Data\", alpha=0.6, c='red')\n",
    "plt.scatter(range(y_pred_MLP_std.shape[0]),y_pred_MLP_std,label=\"Predicted Data\", \n",
    "            alpha=0.6, c='black')\n",
    "plt.ylabel('Mean TPS')\n",
    "plt.xlabel('Test Records')\n",
    "plt.title('MLP Std Model for X_test dataset prediction vs original')\n",
    "plt.legend()\n",
    "plt.show()"
   ]
  },
  {
   "cell_type": "code",
   "execution_count": 40,
   "id": "67ef764d-a830-4793-aca4-b860a9cbf6dc",
   "metadata": {},
   "outputs": [],
   "source": [
    "MLFLOW_URI='http://mlflow-server.mlflow-server.svc.cluster.local:8080/'"
   ]
  },
  {
   "cell_type": "code",
   "execution_count": 41,
   "id": "a77202e7-ccd2-4ad7-86c0-bca5e87f99c6",
   "metadata": {},
   "outputs": [],
   "source": [
    "os.environ[\"RAY_IGNORE_UNHANDLED_ERRORS\"] = \"1\""
   ]
  },
  {
   "cell_type": "code",
   "execution_count": 25,
   "id": "f6a21de7",
   "metadata": {},
   "outputs": [],
   "source": [
    "import logging\n",
    "import ray\n",
    "from codeflare_sdk import TokenAuthentication, Cluster, ClusterConfiguration\n",
    "from codeflare_sdk import generate_cert"
   ]
  },
  {
   "cell_type": "code",
   "execution_count": 27,
   "id": "637d953c-889e-4ce9-9b6a-085dec6bb0f6",
   "metadata": {},
   "outputs": [
    {
     "name": "stdout",
     "output_type": "stream",
     "text": [
      "Authenticated with certificate located at /etc/pki/tls/custom-certs/ca-bundle.crt\n"
     ]
    },
    {
     "data": {
      "text/plain": [
       "'Logged into https://api.crc.testing:6443'"
      ]
     },
     "execution_count": 27,
     "metadata": {},
     "output_type": "execute_result"
    }
   ],
   "source": [
    "auth = TokenAuthentication(\n",
    "    token = \"sha256~Z9HYJBKFL-QIR36cYA0Hbq3u_ZoHOkggYJgKTyKJy8Q\", # execute ocp whoami -t on the authenticated cluster to obtain the token\n",
    "    server = \"https://api.crc.testing:6443\",\n",
    "    skip_tls = False\n",
    ")\n",
    "auth.login()"
   ]
  },
  {
   "cell_type": "code",
   "execution_count": 29,
   "id": "836bfa13-5762-4b4f-b02e-a35b6b87b144",
   "metadata": {},
   "outputs": [],
   "source": [
    "# Create required TLS cert and export the environment variables to enable TLS\n",
    "generate_cert.generate_tls_cert('raycluster-complete', 'raycluster2')"
   ]
  },
  {
   "cell_type": "code",
   "execution_count": 30,
   "id": "8f03d999-7915-4535-b1c4-c1995f86fa54",
   "metadata": {},
   "outputs": [],
   "source": [
    "generate_cert.export_env('raycluster-complete', 'raycluster2')"
   ]
  },
  {
   "cell_type": "code",
   "execution_count": 52,
   "id": "54a390d5-0e88-44b0-8fc8-81088070fa2b",
   "metadata": {},
   "outputs": [
    {
     "data": {
      "application/vnd.jupyter.widget-view+json": {
       "model_id": "0bd14967541845c2961891ad7bf039ec",
       "version_major": 2,
       "version_minor": 0
      },
      "text/html": [
       "<div class=\"lm-Widget p-Widget lm-Panel p-Panel jp-Cell-outputWrapper\">\n",
       "    <div style=\"margin-left: 50px;display: flex;flex-direction: row;align-items: center\">\n",
       "        <div class=\"jp-RenderedHTMLCommon\" style=\"display: flex; flex-direction: row;\">\n",
       "  <svg viewBox=\"0 0 567 224\" fill=\"none\" xmlns=\"http://www.w3.org/2000/svg\" style=\"height: 3em;\">\n",
       "    <g clip-path=\"url(#clip0_4338_178347)\">\n",
       "        <path d=\"M341.29 165.561H355.29L330.13 129.051C345.63 123.991 354.21 112.051 354.21 94.2307C354.21 71.3707 338.72 58.1807 311.88 58.1807H271V165.561H283.27V131.661H311.8C314.25 131.661 316.71 131.501 319.01 131.351L341.25 165.561H341.29ZM283.29 119.851V70.0007H311.82C331.3 70.0007 342.34 78.2907 342.34 94.5507C342.34 111.271 331.34 119.861 311.82 119.861L283.29 119.851ZM451.4 138.411L463.4 165.561H476.74L428.74 58.1807H416L367.83 165.561H380.83L392.83 138.411H451.4ZM446.19 126.601H398L422 72.1407L446.24 126.601H446.19ZM526.11 128.741L566.91 58.1807H554.35L519.99 114.181L485.17 58.1807H472.44L514.01 129.181V165.541H526.13V128.741H526.11Z\" fill=\"var(--jp-ui-font-color0)\"/>\n",
       "        <path d=\"M82.35 104.44C84.0187 97.8827 87.8248 92.0678 93.1671 87.9146C98.5094 83.7614 105.083 81.5067 111.85 81.5067C118.617 81.5067 125.191 83.7614 130.533 87.9146C135.875 92.0678 139.681 97.8827 141.35 104.44H163.75C164.476 101.562 165.622 98.8057 167.15 96.2605L127.45 56.5605C121.071 60.3522 113.526 61.6823 106.235 60.3005C98.9443 58.9187 92.4094 54.9203 87.8602 49.0574C83.3109 43.1946 81.0609 35.8714 81.5332 28.4656C82.0056 21.0599 85.1679 14.0819 90.4252 8.8446C95.6824 3.60726 102.672 0.471508 110.08 0.0272655C117.487 -0.416977 124.802 1.86091 130.647 6.4324C136.493 11.0039 140.467 17.5539 141.821 24.8501C143.175 32.1463 141.816 39.6859 138 46.0505L177.69 85.7505C182.31 82.9877 187.58 81.4995 192.962 81.4375C198.345 81.3755 203.648 82.742 208.33 85.3976C213.012 88.0532 216.907 91.9029 219.616 96.5544C222.326 101.206 223.753 106.492 223.753 111.875C223.753 117.258 222.326 122.545 219.616 127.197C216.907 131.848 213.012 135.698 208.33 138.353C203.648 141.009 198.345 142.375 192.962 142.313C187.58 142.251 182.31 140.763 177.69 138L138 177.7C141.808 184.071 143.155 191.614 141.79 198.91C140.424 206.205 136.44 212.75 130.585 217.313C124.731 221.875 117.412 224.141 110.004 223.683C102.596 223.226 95.6103 220.077 90.3621 214.828C85.1139 209.58 81.9647 202.595 81.5072 195.187C81.0497 187.779 83.3154 180.459 87.878 174.605C92.4405 168.751 98.9853 164.766 106.281 163.401C113.576 162.035 121.119 163.383 127.49 167.19L167.19 127.49C165.664 124.941 164.518 122.182 163.79 119.3H141.39C139.721 125.858 135.915 131.673 130.573 135.826C125.231 139.98 118.657 142.234 111.89 142.234C105.123 142.234 98.5494 139.98 93.2071 135.826C87.8648 131.673 84.0587 125.858 82.39 119.3H60C58.1878 126.495 53.8086 132.78 47.6863 136.971C41.5641 141.163 34.1211 142.972 26.7579 142.059C19.3947 141.146 12.6191 137.574 7.70605 132.014C2.79302 126.454 0.0813599 119.29 0.0813599 111.87C0.0813599 104.451 2.79302 97.2871 7.70605 91.7272C12.6191 86.1673 19.3947 82.5947 26.7579 81.6817C34.1211 80.7686 41.5641 82.5781 47.6863 86.7696C53.8086 90.9611 58.1878 97.2456 60 104.44H82.35ZM100.86 204.32C103.407 206.868 106.759 208.453 110.345 208.806C113.93 209.159 117.527 208.258 120.522 206.256C123.517 204.254 125.725 201.276 126.771 197.828C127.816 194.38 127.633 190.677 126.253 187.349C124.874 184.021 122.383 181.274 119.205 179.577C116.027 177.88 112.359 177.337 108.826 178.042C105.293 178.746 102.113 180.654 99.8291 183.44C97.5451 186.226 96.2979 189.718 96.3 193.32C96.2985 195.364 96.7006 197.388 97.4831 199.275C98.2656 201.163 99.4132 202.877 100.86 204.32ZM204.32 122.88C206.868 120.333 208.453 116.981 208.806 113.396C209.159 109.811 208.258 106.214 206.256 103.219C204.254 100.223 201.275 98.0151 197.827 96.97C194.38 95.9249 190.676 96.1077 187.348 97.4873C184.02 98.8669 181.274 101.358 179.577 104.536C177.879 107.714 177.337 111.382 178.041 114.915C178.746 118.448 180.653 121.627 183.439 123.911C186.226 126.195 189.717 127.443 193.32 127.44C195.364 127.443 197.388 127.042 199.275 126.259C201.163 125.476 202.878 124.328 204.32 122.88ZM122.88 19.4205C120.333 16.8729 116.981 15.2876 113.395 14.9347C109.81 14.5817 106.213 15.483 103.218 17.4849C100.223 19.4868 98.0146 22.4654 96.9696 25.9131C95.9245 29.3608 96.1073 33.0642 97.4869 36.3922C98.8665 39.7202 101.358 42.4668 104.535 44.1639C107.713 45.861 111.381 46.4036 114.914 45.6992C118.447 44.9949 121.627 43.0871 123.911 40.301C126.195 37.515 127.442 34.0231 127.44 30.4205C127.44 28.3772 127.038 26.3539 126.255 24.4664C125.473 22.5788 124.326 20.8642 122.88 19.4205ZM19.42 100.86C16.8725 103.408 15.2872 106.76 14.9342 110.345C14.5813 113.93 15.4826 117.527 17.4844 120.522C19.4863 123.518 22.4649 125.726 25.9127 126.771C29.3604 127.816 33.0638 127.633 36.3918 126.254C39.7198 124.874 42.4664 122.383 44.1635 119.205C45.8606 116.027 46.4032 112.359 45.6988 108.826C44.9944 105.293 43.0866 102.114 40.3006 99.8296C37.5145 97.5455 34.0227 96.2983 30.42 96.3005C26.2938 96.3018 22.337 97.9421 19.42 100.86ZM100.86 100.86C98.3125 103.408 96.7272 106.76 96.3742 110.345C96.0213 113.93 96.9226 117.527 98.9244 120.522C100.926 123.518 103.905 125.726 107.353 126.771C110.8 127.816 114.504 127.633 117.832 126.254C121.16 124.874 123.906 122.383 125.604 119.205C127.301 116.027 127.843 112.359 127.139 108.826C126.434 105.293 124.527 102.114 121.741 99.8296C118.955 97.5455 115.463 96.2983 111.86 96.3005C109.817 96.299 107.793 96.701 105.905 97.4835C104.018 98.2661 102.303 99.4136 100.86 100.86Z\" fill=\"#00AEEF\"/>\n",
       "    </g>\n",
       "    <defs>\n",
       "        <clipPath id=\"clip0_4338_178347\">\n",
       "            <rect width=\"566.93\" height=\"223.75\" fill=\"white\"/>\n",
       "        </clipPath>\n",
       "    </defs>\n",
       "  </svg>\n",
       "</div>\n",
       "\n",
       "        <table class=\"jp-RenderedHTMLCommon\" style=\"border-collapse: collapse;color: var(--jp-ui-font-color1);font-size: var(--jp-ui-font-size1);\">\n",
       "    <tr>\n",
       "        <td style=\"text-align: left\"><b>Python version:</b></td>\n",
       "        <td style=\"text-align: left\"><b>3.9.15</b></td>\n",
       "    </tr>\n",
       "    <tr>\n",
       "        <td style=\"text-align: left\"><b>Ray version:</b></td>\n",
       "        <td style=\"text-align: left\"><b>2.6.3</b></td>\n",
       "    </tr>\n",
       "    <tr>\n",
       "    <td style=\"text-align: left\"><b>Dashboard:</b></td>\n",
       "    <td style=\"text-align: left\"><b><a href=\"http://10.217.0.58:8265\" target=\"_blank\">http://10.217.0.58:8265</a></b></td>\n",
       "</tr>\n",
       "\n",
       "</table>\n",
       "\n",
       "    </div>\n",
       "</div>\n"
      ],
      "text/plain": [
       "ClientContext(dashboard_url='10.217.0.58:8265', python_version='3.9.15', ray_version='2.6.3', ray_commit='8a434b4ee7cd48e60fa1531315d39901fac5d79e', protocol_version='2023-06-27', _num_clients=1, _context_to_restore=<ray.util.client._ClientContext object at 0x7f9a0ed8d640>)"
      ]
     },
     "execution_count": 52,
     "metadata": {},
     "output_type": "execute_result"
    }
   ],
   "source": [
    "ray_endpoint = 'ray://raycluster-complete-head-svc.raycluster2.svc.cluster.local:10001' # ensure your ray cluster URL is correct\n",
    "ray.shutdown()\n",
    "ray.init(address=ray_endpoint, logging_level=logging.ERROR, log_to_driver=False)"
   ]
  },
  {
   "cell_type": "code",
   "execution_count": 53,
   "id": "2feb4e80-3604-410b-bf9f-ab369ddc4b27",
   "metadata": {},
   "outputs": [],
   "source": [
    "import tf2onnx"
   ]
  },
  {
   "cell_type": "code",
   "execution_count": 54,
   "id": "08a8887f-6c0b-45e4-a6c7-a00ffce405cb",
   "metadata": {},
   "outputs": [],
   "source": [
    "import mlflow"
   ]
  },
  {
   "cell_type": "code",
   "execution_count": 55,
   "id": "8217b546-0eb2-44e7-88f2-15d2774aca95",
   "metadata": {},
   "outputs": [],
   "source": [
    "from ray.air.integrations.mlflow import setup_mlflow"
   ]
  },
  {
   "cell_type": "code",
   "execution_count": 63,
   "id": "7815b44b",
   "metadata": {},
   "outputs": [],
   "source": [
    "@ray.remote\n",
    "def createRemoteModel(layerSize, loops, target_loss, measure_metrics,\n",
    "                y_train, X_train, y_test, X_test, targetScaler, labelSet):\n",
    "        \n",
    "    mlflow_exp_name = f'mlaspnew-1-{labelSet}-{loops}'\n",
    "    mlflow_ray_config = None\n",
    "    mlflow_ray = setup_mlflow(config=mlflow_ray_config,\n",
    "                              tracking_uri=MLFLOW_URI,\n",
    "                              registry_uri=MLFLOW_URI,\n",
    "                              create_experiment_if_not_exists=True,\n",
    "                              rank_zero_only=False,\n",
    "                             experiment_name=mlflow_exp_name)\n",
    "    \n",
    "    print(f'Creating model using {loops} hidden layers of size = {layerSize} on set = {labelSet}.\\n')\n",
    "    model = Sequential()\n",
    "    model.add(Dense(layerSize, kernel_initializer='normal',\n",
    "                    input_dim=inputSize, activation='relu'))\n",
    "    for j in range(loops):\n",
    "        model.add(Dense(layerSize, \n",
    "                        kernel_initializer='normal', activation='relu'))\n",
    "    model.add(BatchNormalization())\n",
    "    model.add(Dense(1, kernel_initializer='normal', \n",
    "                    activation='linear'))\n",
    "\n",
    "    optmzr=Adam(learning_rate=0.001)    \n",
    "    model.compile(optimizer=optmzr, loss=target_loss, metrics=measure_metrics)\n",
    "\n",
    "    model_h5_name = 'mlp_' + str(layerSize)+ '_' + str(loops) + '_model_std_' + labelSet + '.keras'\n",
    "    checkpoint_nn_std = ModelCheckpoint(model_h5_name,\n",
    "                             monitor='val_loss',\n",
    "                             verbose=verboseLevel,\n",
    "                             save_best_only=True,\n",
    "                             mode='min')\n",
    "    callbacks_list_nn_std = [checkpoint_nn_std, reduce_lr]\n",
    "\n",
    "    history_MLP_std = model.fit(X_train, y_train,\n",
    "                                batch_size=batchSize, \n",
    "                                validation_split=validationSplit, \n",
    "                                epochs=epochs, verbose=verboseLevel,\n",
    "                                callbacks=callbacks_list_nn_std)\n",
    "\n",
    "    #reload the best model!\n",
    "    model_new = load_model(model_h5_name)\n",
    "    #Predict\n",
    "    y_pred_scaled = model_new.predict(X_test)\n",
    "    #Evaluate metrics\n",
    "    y_pred = targetScaler.inverse_transform(y_pred_scaled)\n",
    "    r2_score = metrics.r2_score(y_test, y_pred)\n",
    "    mae = metrics.mean_absolute_error(y_test, y_pred)\n",
    "    mse = metrics.mean_squared_error(y_test, y_pred)\n",
    "    mape = metrics.mean_absolute_percentage_error(y_test, y_pred)\n",
    "    \n",
    "    fig=plt.figure(figsize=(20,10))\n",
    "    plt.scatter(range(y_test.shape[0]),y_test,label=\"Original Data\", alpha=0.6, c='red')\n",
    "    plt.scatter(range(y_pred.shape[0]),y_pred,label=\"Predicted Data\", \n",
    "                alpha=0.6, c='black')\n",
    "    plt.ylabel('Mean TPS')\n",
    "    plt.xlabel('Test Records')\n",
    "    plt.title('MLP StdScaler Model for X_test dataset prediction vs original')\n",
    "    plt.legend()    \n",
    "    with mlflow_ray.start_run(nested=True):\n",
    "        mlflow_ray.log_figure(fig,f\"{mlflow_exp_name}.png\")\n",
    "\n",
    "        mlflow_ray.log_param(\"batch_size\", batchSize)\n",
    "        mlflow_ray.log_param(\"layer_size\", layerSize)\n",
    "        mlflow_ray.log_param(\"hidden_layers\", loops)\n",
    "        mlflow_ray.log_param(\"activation_function\", \"relu\")\n",
    "        mlflow_ray.log_param(\"dense_kernel_initializer\", \"normal\")\n",
    "        mlflow_ray.log_param(\"epochs\", epochs)\n",
    "        mlflow_ray.log_param(\"learning_rate\", 0.001)\n",
    "        mlflow_ray.log_param(\"optimizer\", \"adam\")\n",
    "\n",
    "        mlflow_ray.log_metric(\"mae\", mae)\n",
    "        mlflow_ray.log_metric(\"mse\", mse)\n",
    "        mlflow_ray.log_metric(\"mape\", mape)\n",
    "        mlflow_ray.log_metric(\"r2_score\", r2_score)\n",
    "\n",
    "        model_onnx,_ = tf2onnx.convert.from_keras(model_new)\n",
    "        mlflow_ray.onnx.log_model(model_onnx, f\"model-{mlflow_exp_name}\")\n",
    "\n",
    "    row = [loops, r2_score, mae, mse, mape]\n",
    "\n",
    "    return row\n"
   ]
  },
  {
   "cell_type": "code",
   "execution_count": 64,
   "id": "c376c98e",
   "metadata": {
    "tags": []
   },
   "outputs": [
    {
     "name": "stdout",
     "output_type": "stream",
     "text": [
      "CPU times: user 8.8 ms, sys: 704 µs, total: 9.5 ms\n",
      "Wall time: 13.5 ms\n"
     ]
    }
   ],
   "source": [
    "%%time\n",
    "\n",
    "testResDataFrame2 = []\n",
    "layerSize = 64\n",
    "loops = 15\n",
    "\n",
    "\n",
    "for i in range(loops):\n",
    "    rowResult = createRemoteModel.remote(layerSize, i, \n",
    "                        target_loss, measure_metrics,\n",
    "                        y_train_scaled, X_train_scaled,\n",
    "                        y_test, X_test_scaled, \n",
    "                        targetStdScaler, labelSet='all_ray')\n",
    "    testResDataFrame2.append(rowResult)\n"
   ]
  },
  {
   "cell_type": "code",
   "execution_count": 65,
   "id": "6ec9db43-5d70-4421-b06c-3be7c0e5d848",
   "metadata": {},
   "outputs": [
    {
     "data": {
      "text/plain": [
       "[ClientObjectRef(4942ab37ee325960ffffffffffffffffffffffff0500000001000000),\n",
       " ClientObjectRef(0a95b5acadde928effffffffffffffffffffffff0500000001000000),\n",
       " ClientObjectRef(f9b2a1b2309c55c2ffffffffffffffffffffffff0500000001000000),\n",
       " ClientObjectRef(3eb11de787b259a9ffffffffffffffffffffffff0500000001000000),\n",
       " ClientObjectRef(f961cf6f8e5fc1a4ffffffffffffffffffffffff0500000001000000),\n",
       " ClientObjectRef(948b2608c769271dffffffffffffffffffffffff0500000001000000),\n",
       " ClientObjectRef(e8f371ad8e3a5950ffffffffffffffffffffffff0500000001000000),\n",
       " ClientObjectRef(cd38da7afea09ef5ffffffffffffffffffffffff0500000001000000),\n",
       " ClientObjectRef(27cabaab71837ed7ffffffffffffffffffffffff0500000001000000),\n",
       " ClientObjectRef(1e43e533a26b5130ffffffffffffffffffffffff0500000001000000),\n",
       " ClientObjectRef(2e21b231dcc5a8d8ffffffffffffffffffffffff0500000001000000),\n",
       " ClientObjectRef(c84140960968ec17ffffffffffffffffffffffff0500000001000000)]"
      ]
     },
     "execution_count": 65,
     "metadata": {},
     "output_type": "execute_result"
    }
   ],
   "source": [
    "testResDataFrame2"
   ]
  },
  {
   "cell_type": "code",
   "execution_count": 66,
   "id": "4f47a97e-eda0-482c-b0d3-7a4b4c3991c5",
   "metadata": {
    "tags": []
   },
   "outputs": [
    {
     "name": "stdout",
     "output_type": "stream",
     "text": [
      "CPU times: user 679 ms, sys: 186 ms, total: 866 ms\n",
      "Wall time: 1min 21s\n"
     ]
    }
   ],
   "source": [
    "%%time\n",
    "\n",
    "tResDF2 = ray.get(testResDataFrame2)"
   ]
  },
  {
   "cell_type": "code",
   "execution_count": 67,
   "id": "348862fa-65a6-4dd2-810c-9d3f6256a962",
   "metadata": {},
   "outputs": [],
   "source": [
    "colList2=colList.copy()"
   ]
  },
  {
   "cell_type": "code",
   "execution_count": 68,
   "id": "9f183e78",
   "metadata": {},
   "outputs": [],
   "source": [
    "df = pd.DataFrame(tResDF2, columns=colList2[0:5])"
   ]
  },
  {
   "cell_type": "code",
   "execution_count": 69,
   "id": "a9748269",
   "metadata": {},
   "outputs": [
    {
     "data": {
      "text/html": [
       "<div>\n",
       "<style scoped>\n",
       "    .dataframe tbody tr th:only-of-type {\n",
       "        vertical-align: middle;\n",
       "    }\n",
       "\n",
       "    .dataframe tbody tr th {\n",
       "        vertical-align: top;\n",
       "    }\n",
       "\n",
       "    .dataframe thead th {\n",
       "        text-align: right;\n",
       "    }\n",
       "</style>\n",
       "<table border=\"1\" class=\"dataframe\">\n",
       "  <thead>\n",
       "    <tr style=\"text-align: right;\">\n",
       "      <th></th>\n",
       "      <th>HiddenLayers</th>\n",
       "      <th>R2Score</th>\n",
       "      <th>MAE</th>\n",
       "      <th>MSE</th>\n",
       "      <th>MAPE</th>\n",
       "    </tr>\n",
       "  </thead>\n",
       "  <tbody>\n",
       "    <tr>\n",
       "      <th>0</th>\n",
       "      <td>0</td>\n",
       "      <td>0.996559</td>\n",
       "      <td>4.708219</td>\n",
       "      <td>28.681958</td>\n",
       "      <td>0.021544</td>\n",
       "    </tr>\n",
       "    <tr>\n",
       "      <th>1</th>\n",
       "      <td>1</td>\n",
       "      <td>0.991006</td>\n",
       "      <td>7.021760</td>\n",
       "      <td>74.964442</td>\n",
       "      <td>0.030689</td>\n",
       "    </tr>\n",
       "    <tr>\n",
       "      <th>2</th>\n",
       "      <td>2</td>\n",
       "      <td>0.998529</td>\n",
       "      <td>2.821829</td>\n",
       "      <td>12.263163</td>\n",
       "      <td>0.015488</td>\n",
       "    </tr>\n",
       "    <tr>\n",
       "      <th>3</th>\n",
       "      <td>3</td>\n",
       "      <td>0.997793</td>\n",
       "      <td>3.797377</td>\n",
       "      <td>18.392896</td>\n",
       "      <td>0.019340</td>\n",
       "    </tr>\n",
       "    <tr>\n",
       "      <th>4</th>\n",
       "      <td>4</td>\n",
       "      <td>0.996416</td>\n",
       "      <td>4.045427</td>\n",
       "      <td>29.874877</td>\n",
       "      <td>0.017653</td>\n",
       "    </tr>\n",
       "    <tr>\n",
       "      <th>5</th>\n",
       "      <td>5</td>\n",
       "      <td>0.992029</td>\n",
       "      <td>5.968824</td>\n",
       "      <td>66.441260</td>\n",
       "      <td>0.039482</td>\n",
       "    </tr>\n",
       "    <tr>\n",
       "      <th>6</th>\n",
       "      <td>6</td>\n",
       "      <td>0.993621</td>\n",
       "      <td>5.109886</td>\n",
       "      <td>53.171640</td>\n",
       "      <td>0.017621</td>\n",
       "    </tr>\n",
       "    <tr>\n",
       "      <th>7</th>\n",
       "      <td>7</td>\n",
       "      <td>0.990467</td>\n",
       "      <td>6.697634</td>\n",
       "      <td>79.458060</td>\n",
       "      <td>0.044023</td>\n",
       "    </tr>\n",
       "    <tr>\n",
       "      <th>8</th>\n",
       "      <td>8</td>\n",
       "      <td>0.995461</td>\n",
       "      <td>4.485712</td>\n",
       "      <td>37.832363</td>\n",
       "      <td>0.018324</td>\n",
       "    </tr>\n",
       "    <tr>\n",
       "      <th>9</th>\n",
       "      <td>9</td>\n",
       "      <td>0.996197</td>\n",
       "      <td>4.635323</td>\n",
       "      <td>31.697117</td>\n",
       "      <td>0.024205</td>\n",
       "    </tr>\n",
       "    <tr>\n",
       "      <th>10</th>\n",
       "      <td>10</td>\n",
       "      <td>0.994833</td>\n",
       "      <td>6.036945</td>\n",
       "      <td>43.072697</td>\n",
       "      <td>0.027186</td>\n",
       "    </tr>\n",
       "    <tr>\n",
       "      <th>11</th>\n",
       "      <td>11</td>\n",
       "      <td>0.996476</td>\n",
       "      <td>4.224637</td>\n",
       "      <td>29.373884</td>\n",
       "      <td>0.026662</td>\n",
       "    </tr>\n",
       "  </tbody>\n",
       "</table>\n",
       "</div>"
      ],
      "text/plain": [
       "    HiddenLayers   R2Score       MAE        MSE      MAPE\n",
       "0              0  0.996559  4.708219  28.681958  0.021544\n",
       "1              1  0.991006  7.021760  74.964442  0.030689\n",
       "2              2  0.998529  2.821829  12.263163  0.015488\n",
       "3              3  0.997793  3.797377  18.392896  0.019340\n",
       "4              4  0.996416  4.045427  29.874877  0.017653\n",
       "5              5  0.992029  5.968824  66.441260  0.039482\n",
       "6              6  0.993621  5.109886  53.171640  0.017621\n",
       "7              7  0.990467  6.697634  79.458060  0.044023\n",
       "8              8  0.995461  4.485712  37.832363  0.018324\n",
       "9              9  0.996197  4.635323  31.697117  0.024205\n",
       "10            10  0.994833  6.036945  43.072697  0.027186\n",
       "11            11  0.996476  4.224637  29.373884  0.026662"
      ]
     },
     "execution_count": 69,
     "metadata": {},
     "output_type": "execute_result"
    }
   ],
   "source": [
    "df"
   ]
  },
  {
   "cell_type": "code",
   "execution_count": 70,
   "id": "2285238e",
   "metadata": {},
   "outputs": [],
   "source": [
    "minMaeIDX_ray = df.loc[df['MAE']==df['MAE'].min()].index[0]"
   ]
  },
  {
   "cell_type": "code",
   "execution_count": 71,
   "id": "078966bc",
   "metadata": {},
   "outputs": [
    {
     "data": {
      "text/plain": [
       "HiddenLayers     2.000000\n",
       "R2Score          0.998529\n",
       "MAE              2.821829\n",
       "MSE             12.263163\n",
       "MAPE             0.015488\n",
       "Name: 2, dtype: float64"
      ]
     },
     "execution_count": 71,
     "metadata": {},
     "output_type": "execute_result"
    }
   ],
   "source": [
    "df.iloc[minMaeIDX_ray]"
   ]
  },
  {
   "cell_type": "code",
   "execution_count": 72,
   "id": "0c07e0cd",
   "metadata": {
    "tags": []
   },
   "outputs": [
    {
     "data": {
      "image/png": "[encoded data removed]",
      "text/plain": [
       "<Figure size 2000x1000 with 1 Axes>"
      ]
     },
     "metadata": {},
     "output_type": "display_data"
    }
   ],
   "source": [
    "#Plot train vs validation\n",
    "plt.figure(figsize=(20,10))\n",
    "#plt.plot(df['R2Score'])\n",
    "plt.plot(df['MAE'])\n",
    "#plt.plot(df['MSE'])\n",
    "plt.title('Training Scores MLP')\n",
    "plt.ylabel('Score')\n",
    "plt.xlabel('Iteration')\n",
    "plt.legend(['MAE'], loc='upper right')\n",
    "plt.show()"
   ]
  },
  {
   "cell_type": "code",
   "execution_count": 29,
   "id": "fc04a934",
   "metadata": {},
   "outputs": [
    {
     "data": {
      "text/plain": [
       "Index(['asyncResp', 'asyncRespThreads', 'cThreads', 'jacptQSize',\n",
       "       'jacptThreads', 'ltTargetSize', 'numConnections', 'timeoutSeconds'],\n",
       "      dtype='object')"
      ]
     },
     "execution_count": 29,
     "metadata": {},
     "output_type": "execute_result"
    }
   ],
   "source": [
    "X_test.columns"
   ]
  },
  {
   "cell_type": "code",
   "execution_count": 30,
   "id": "168e7a27-4151-4b8e-bcba-f288f632d376",
   "metadata": {},
   "outputs": [
    {
     "data": {
      "text/html": [
       "<div>\n",
       "<style scoped>\n",
       "    .dataframe tbody tr th:only-of-type {\n",
       "        vertical-align: middle;\n",
       "    }\n",
       "\n",
       "    .dataframe tbody tr th {\n",
       "        vertical-align: top;\n",
       "    }\n",
       "\n",
       "    .dataframe thead th {\n",
       "        text-align: right;\n",
       "    }\n",
       "</style>\n",
       "<table border=\"1\" class=\"dataframe\">\n",
       "  <thead>\n",
       "    <tr style=\"text-align: right;\">\n",
       "      <th></th>\n",
       "      <th>asyncResp</th>\n",
       "      <th>asyncRespThreads</th>\n",
       "      <th>cThreads</th>\n",
       "      <th>jacptQSize</th>\n",
       "      <th>jacptThreads</th>\n",
       "      <th>ltTargetSize</th>\n",
       "      <th>mean_tps</th>\n",
       "      <th>numConnections</th>\n",
       "      <th>timeoutSeconds</th>\n",
       "    </tr>\n",
       "    <tr>\n",
       "      <th>DateTime</th>\n",
       "      <th></th>\n",
       "      <th></th>\n",
       "      <th></th>\n",
       "      <th></th>\n",
       "      <th></th>\n",
       "      <th></th>\n",
       "      <th></th>\n",
       "      <th></th>\n",
       "      <th></th>\n",
       "    </tr>\n",
       "  </thead>\n",
       "  <tbody>\n",
       "    <tr>\n",
       "      <th>2022-09-28 15:25:25+00:00</th>\n",
       "      <td>True</td>\n",
       "      <td>21.0</td>\n",
       "      <td>277.0</td>\n",
       "      <td>1712.0</td>\n",
       "      <td>262.0</td>\n",
       "      <td>7.0</td>\n",
       "      <td>307.015227</td>\n",
       "      <td>31.0</td>\n",
       "      <td>5.0</td>\n",
       "    </tr>\n",
       "  </tbody>\n",
       "</table>\n",
       "</div>"
      ],
      "text/plain": [
       "                           asyncResp  asyncRespThreads  cThreads  jacptQSize  \\\n",
       "DateTime                                                                       \n",
       "2022-09-28 15:25:25+00:00       True              21.0     277.0      1712.0   \n",
       "\n",
       "                           jacptThreads  ltTargetSize    mean_tps  \\\n",
       "DateTime                                                            \n",
       "2022-09-28 15:25:25+00:00         262.0           7.0  307.015227   \n",
       "\n",
       "                           numConnections  timeoutSeconds  \n",
       "DateTime                                                   \n",
       "2022-09-28 15:25:25+00:00            31.0             5.0  "
      ]
     },
     "execution_count": 30,
     "metadata": {},
     "output_type": "execute_result"
    }
   ],
   "source": [
    "data.head(1)"
   ]
  },
  {
   "cell_type": "code",
   "execution_count": 31,
   "id": "4d8b24e8-a8e9-4a95-b7e8-46ba09ad38af",
   "metadata": {},
   "outputs": [],
   "source": [
    "record = [[True, 21, 277, 1712, 262, 7, 31, 5]]"
   ]
  },
  {
   "cell_type": "code",
   "execution_count": 32,
   "id": "f1546087",
   "metadata": {},
   "outputs": [],
   "source": [
    "test_rec = stdScaler.transform(record)"
   ]
  },
  {
   "cell_type": "code",
   "execution_count": 33,
   "id": "ccf21aff",
   "metadata": {},
   "outputs": [
    {
     "data": {
      "text/plain": [
       "array([[ 0.34815531, -0.16614866,  1.14391569, -0.53671704,  1.14391569,\n",
       "        -0.29012346,  0.90504761,  0.30039875]])"
      ]
     },
     "execution_count": 33,
     "metadata": {},
     "output_type": "execute_result"
    }
   ],
   "source": [
    "test_rec"
   ]
  },
  {
   "cell_type": "code",
   "execution_count": 34,
   "id": "a50cf02a",
   "metadata": {},
   "outputs": [],
   "source": [
    "test_model = load_model(testResDataFrame['H5FileName'][minMaeIDX])"
   ]
  },
  {
   "cell_type": "code",
   "execution_count": 35,
   "id": "ff8e6273-16be-4a4e-ba84-da3454406c97",
   "metadata": {},
   "outputs": [
    {
     "name": "stdout",
     "output_type": "stream",
     "text": [
      "1/1 [==============================] - 0s 74ms/step\n"
     ]
    }
   ],
   "source": [
    "test_pred = test_model.predict(test_rec)"
   ]
  },
  {
   "cell_type": "code",
   "execution_count": 36,
   "id": "ff876c31",
   "metadata": {},
   "outputs": [
    {
     "data": {
      "text/plain": [
       "array([[0.87971044]], dtype=float32)"
      ]
     },
     "execution_count": 36,
     "metadata": {},
     "output_type": "execute_result"
    }
   ],
   "source": [
    "test_pred"
   ]
  },
  {
   "cell_type": "code",
   "execution_count": 37,
   "id": "e1ccfdec",
   "metadata": {},
   "outputs": [
    {
     "data": {
      "text/plain": [
       "array([[304.62128]], dtype=float32)"
      ]
     },
     "execution_count": 37,
     "metadata": {},
     "output_type": "execute_result"
    }
   ],
   "source": [
    "targetStdScaler.inverse_transform(test_pred)"
   ]
  },
  {
   "cell_type": "markdown",
   "id": "d285a26a-d409-4565-a0c4-f78088b1bede",
   "metadata": {},
   "source": [
    "### Save the scalers for the inference calls"
   ]
  },
  {
   "cell_type": "code",
   "execution_count": 38,
   "id": "50071874",
   "metadata": {},
   "outputs": [
    {
     "data": {
      "text/plain": [
       "['target_scaler.pkl']"
      ]
     },
     "execution_count": 38,
     "metadata": {},
     "output_type": "execute_result"
    }
   ],
   "source": [
    "joblib.dump(targetStdScaler,'target_scaler.pkl')"
   ]
  },
  {
   "cell_type": "code",
   "execution_count": 39,
   "id": "8986b775",
   "metadata": {},
   "outputs": [
    {
     "data": {
      "text/plain": [
       "['standard_scaler.pkl']"
      ]
     },
     "execution_count": 39,
     "metadata": {},
     "output_type": "execute_result"
    }
   ],
   "source": [
    "joblib.dump(stdScaler,'standard_scaler.pkl')"
   ]
  },
  {
   "cell_type": "markdown",
   "id": "f194a30d-e138-4560-b138-be1350e48f72",
   "metadata": {},
   "source": [
    "### Export to ONNX to run on the RHODS model server"
   ]
  },
  {
   "cell_type": "code",
   "execution_count": 40,
   "id": "02097f7d",
   "metadata": {},
   "outputs": [
    {
     "name": "stderr",
     "output_type": "stream",
     "text": [
      "2025-05-01 01:27:31.690385: I tensorflow/core/grappler/devices.cc:66] Number of eligible GPUs (core count >= 8, compute capability >= 0.0): 0\n",
      "2025-05-01 01:27:31.690607: I tensorflow/core/grappler/clusters/single_machine.cc:358] Starting new session\n",
      "2025-05-01 01:27:31.748550: I tensorflow/core/grappler/devices.cc:66] Number of eligible GPUs (core count >= 8, compute capability >= 0.0): 0\n",
      "2025-05-01 01:27:31.749063: I tensorflow/core/grappler/clusters/single_machine.cc:358] Starting new session\n"
     ]
    }
   ],
   "source": [
    "model_onnx, _ = tf2onnx.convert.from_keras(test_model, output_path='tf_mlasp.onnx')"
   ]
  },
  {
   "cell_type": "markdown",
   "id": "f8893b44-8218-4c4a-83ee-7953c889344b",
   "metadata": {},
   "source": [
    "### Upload model to S3 bucket"
   ]
  },
  {
   "cell_type": "code",
   "execution_count": 41,
   "id": "3aacaca1-4b2e-4ed9-a4d1-156cb31477a1",
   "metadata": {},
   "outputs": [],
   "source": [
    "import boto3\n",
    "import botocore"
   ]
  },
  {
   "cell_type": "code",
   "execution_count": 42,
   "id": "18a16a30-4dc3-44e6-97b3-b5223e1a1825",
   "metadata": {},
   "outputs": [],
   "source": [
    "#S3 ODF GW client\n",
    "s3_odf = boto3.client(service_name = 's3',\n",
    "                      aws_access_key_id = aws_access_key_id,\n",
    "                      aws_secret_access_key = aws_secret_access_key,\n",
    "                      region_name = 'default',\n",
    "                      endpoint_url = endpoint_url,\n",
    "                      config = botocore.client.Config(signature_version = 's3'))"
   ]
  },
  {
   "cell_type": "code",
   "execution_count": 43,
   "id": "281f506d-4b61-4fbd-96b7-1ddc766aefa5",
   "metadata": {},
   "outputs": [],
   "source": [
    "s3_odf.upload_file('tf_mlasp.onnx', bucket_name, 'models/tf_mlasp.onnx')"
   ]
  },
  {
   "cell_type": "code",
   "execution_count": 73,
   "id": "b66b3213",
   "metadata": {},
   "outputs": [],
   "source": [
    "ray.shutdown()"
   ]
  },
  {
   "cell_type": "code",
   "execution_count": 44,
   "id": "88393ea4",
   "metadata": {},
   "outputs": [],
   "source": [
    "s3_odf.upload_file('lt_results_2022-10-01.csv', bucket_name, 'data/lt_results_2022-10-01.csv')"
   ]
  },
  {
   "cell_type": "code",
   "execution_count": null,
   "id": "879b4ff2-5eac-40f6-acc2-135b42ab52b4",
   "metadata": {},
   "outputs": [],
   "source": []
  }
 ],
 "metadata": {
  "kernelspec": {
   "display_name": "Python 3.9",
   "language": "python",
   "name": "python3"
  },
  "language_info": {
   "codemirror_mode": {
    "name": "ipython",
    "version": 3
   },
   "file_extension": ".py",
   "mimetype": "text/x-python",
   "name": "python",
   "nbconvert_exporter": "python",
   "pygments_lexer": "ipython3",
   "version": "3.9.18"
  }
 },
 "nbformat": 4,
 "nbformat_minor": 5
}
