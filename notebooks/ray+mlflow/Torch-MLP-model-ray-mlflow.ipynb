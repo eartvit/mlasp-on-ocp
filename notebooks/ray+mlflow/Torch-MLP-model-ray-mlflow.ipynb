{
 "cells": [
  {
   "cell_type": "code",
   "execution_count": 1,
   "id": "45554325-8f75-48c8-8ba9-aed45dcb08f1",
   "metadata": {},
   "outputs": [],
   "source": [
    "from sklearn import metrics\n",
    "import joblib\n",
    "import torch\n",
    "import torch.nn as nn\n",
    "\n",
    "import numpy as np\n",
    "import pandas as pd\n",
    "import matplotlib.pyplot as plt\n",
    "%matplotlib inline"
   ]
  },
  {
   "cell_type": "code",
   "execution_count": 2,
   "id": "79fb9192-e466-478b-a0c3-73d143cdf96e",
   "metadata": {},
   "outputs": [],
   "source": [
    "import pytz\n",
    "from datetime import timedelta, datetime\n",
    "local_tz = pytz.timezone('America/Toronto') # Set local timezone for InfluxDB based times calculations\n",
    "today=datetime.today().strftime('%Y-%m-%d')"
   ]
  },
  {
   "cell_type": "markdown",
   "id": "4f637e75-686a-4113-8ecf-7fa9481639c3",
   "metadata": {},
   "source": [
    "#### Note: if you did not create new data for the model training, a sample is provided in this repository. \n",
    "#### To use it, ensure that in the next cell the instruction with the file name lt_results_2022-10-01.csv in it is executed and not the one using \"today's\" date"
   ]
  },
  {
   "cell_type": "code",
   "execution_count": 3,
   "id": "9b1bf5a5-3e93-4c8c-b109-3efc57a08be5",
   "metadata": {},
   "outputs": [],
   "source": [
    "#data = pd.read_csv('lt_results_'+today+'.csv', index_col='DateTime', parse_dates=True)\n",
    "data = pd.read_csv('lt_results_2022-10-01.csv', index_col='DateTime', parse_dates=True)"
   ]
  },
  {
   "cell_type": "code",
   "execution_count": 4,
   "id": "80374cad-a6a8-4db0-8039-8b2670da9ae7",
   "metadata": {},
   "outputs": [
    {
     "data": {
      "text/html": [
       "<div>\n",
       "<style scoped>\n",
       "    .dataframe tbody tr th:only-of-type {\n",
       "        vertical-align: middle;\n",
       "    }\n",
       "\n",
       "    .dataframe tbody tr th {\n",
       "        vertical-align: top;\n",
       "    }\n",
       "\n",
       "    .dataframe thead th {\n",
       "        text-align: right;\n",
       "    }\n",
       "</style>\n",
       "<table border=\"1\" class=\"dataframe\">\n",
       "  <thead>\n",
       "    <tr style=\"text-align: right;\">\n",
       "      <th></th>\n",
       "      <th>asyncResp</th>\n",
       "      <th>asyncRespThreads</th>\n",
       "      <th>cThreads</th>\n",
       "      <th>jacptQSize</th>\n",
       "      <th>jacptThreads</th>\n",
       "      <th>ltTargetSize</th>\n",
       "      <th>mean_tps</th>\n",
       "      <th>numConnections</th>\n",
       "      <th>req2xx</th>\n",
       "      <th>testDurationSeconds</th>\n",
       "      <th>timeoutSeconds</th>\n",
       "    </tr>\n",
       "    <tr>\n",
       "      <th>DateTime</th>\n",
       "      <th></th>\n",
       "      <th></th>\n",
       "      <th></th>\n",
       "      <th></th>\n",
       "      <th></th>\n",
       "      <th></th>\n",
       "      <th></th>\n",
       "      <th></th>\n",
       "      <th></th>\n",
       "      <th></th>\n",
       "      <th></th>\n",
       "    </tr>\n",
       "  </thead>\n",
       "  <tbody>\n",
       "    <tr>\n",
       "      <th>2022-09-28 15:25:25+00:00</th>\n",
       "      <td>True</td>\n",
       "      <td>21.0</td>\n",
       "      <td>277.0</td>\n",
       "      <td>1712.0</td>\n",
       "      <td>262.0</td>\n",
       "      <td>7.0</td>\n",
       "      <td>307.015227</td>\n",
       "      <td>31.0</td>\n",
       "      <td>50679.0</td>\n",
       "      <td>165.0</td>\n",
       "      <td>5.0</td>\n",
       "    </tr>\n",
       "    <tr>\n",
       "      <th>2022-09-28 15:34:42+00:00</th>\n",
       "      <td>True</td>\n",
       "      <td>30.0</td>\n",
       "      <td>173.0</td>\n",
       "      <td>2788.0</td>\n",
       "      <td>158.0</td>\n",
       "      <td>1.0</td>\n",
       "      <td>347.427221</td>\n",
       "      <td>35.0</td>\n",
       "      <td>146793.0</td>\n",
       "      <td>423.0</td>\n",
       "      <td>5.0</td>\n",
       "    </tr>\n",
       "    <tr>\n",
       "      <th>2022-09-28 15:47:10+00:00</th>\n",
       "      <td>True</td>\n",
       "      <td>28.0</td>\n",
       "      <td>125.0</td>\n",
       "      <td>1411.0</td>\n",
       "      <td>110.0</td>\n",
       "      <td>15.0</td>\n",
       "      <td>138.693699</td>\n",
       "      <td>14.0</td>\n",
       "      <td>84757.0</td>\n",
       "      <td>611.0</td>\n",
       "      <td>5.0</td>\n",
       "    </tr>\n",
       "    <tr>\n",
       "      <th>2022-09-28 15:56:35+00:00</th>\n",
       "      <td>True</td>\n",
       "      <td>14.0</td>\n",
       "      <td>115.0</td>\n",
       "      <td>1176.0</td>\n",
       "      <td>100.0</td>\n",
       "      <td>12.0</td>\n",
       "      <td>158.212165</td>\n",
       "      <td>16.0</td>\n",
       "      <td>68515.0</td>\n",
       "      <td>433.0</td>\n",
       "      <td>5.0</td>\n",
       "    </tr>\n",
       "    <tr>\n",
       "      <th>2022-09-28 16:01:09+00:00</th>\n",
       "      <td>True</td>\n",
       "      <td>30.0</td>\n",
       "      <td>226.0</td>\n",
       "      <td>2296.0</td>\n",
       "      <td>211.0</td>\n",
       "      <td>12.0</td>\n",
       "      <td>245.806605</td>\n",
       "      <td>25.0</td>\n",
       "      <td>34173.0</td>\n",
       "      <td>139.0</td>\n",
       "      <td>5.0</td>\n",
       "    </tr>\n",
       "  </tbody>\n",
       "</table>\n",
       "</div>"
      ],
      "text/plain": [
       "                           asyncResp  asyncRespThreads  cThreads  jacptQSize  \\\n",
       "DateTime                                                                       \n",
       "2022-09-28 15:25:25+00:00       True              21.0     277.0      1712.0   \n",
       "2022-09-28 15:34:42+00:00       True              30.0     173.0      2788.0   \n",
       "2022-09-28 15:47:10+00:00       True              28.0     125.0      1411.0   \n",
       "2022-09-28 15:56:35+00:00       True              14.0     115.0      1176.0   \n",
       "2022-09-28 16:01:09+00:00       True              30.0     226.0      2296.0   \n",
       "\n",
       "                           jacptThreads  ltTargetSize    mean_tps  \\\n",
       "DateTime                                                            \n",
       "2022-09-28 15:25:25+00:00         262.0           7.0  307.015227   \n",
       "2022-09-28 15:34:42+00:00         158.0           1.0  347.427221   \n",
       "2022-09-28 15:47:10+00:00         110.0          15.0  138.693699   \n",
       "2022-09-28 15:56:35+00:00         100.0          12.0  158.212165   \n",
       "2022-09-28 16:01:09+00:00         211.0          12.0  245.806605   \n",
       "\n",
       "                           numConnections    req2xx  testDurationSeconds  \\\n",
       "DateTime                                                                   \n",
       "2022-09-28 15:25:25+00:00            31.0   50679.0                165.0   \n",
       "2022-09-28 15:34:42+00:00            35.0  146793.0                423.0   \n",
       "2022-09-28 15:47:10+00:00            14.0   84757.0                611.0   \n",
       "2022-09-28 15:56:35+00:00            16.0   68515.0                433.0   \n",
       "2022-09-28 16:01:09+00:00            25.0   34173.0                139.0   \n",
       "\n",
       "                           timeoutSeconds  \n",
       "DateTime                                   \n",
       "2022-09-28 15:25:25+00:00             5.0  \n",
       "2022-09-28 15:34:42+00:00             5.0  \n",
       "2022-09-28 15:47:10+00:00             5.0  \n",
       "2022-09-28 15:56:35+00:00             5.0  \n",
       "2022-09-28 16:01:09+00:00             5.0  "
      ]
     },
     "execution_count": 4,
     "metadata": {},
     "output_type": "execute_result"
    }
   ],
   "source": [
    "data.head()"
   ]
  },
  {
   "cell_type": "code",
   "execution_count": 5,
   "id": "9957d66c-fae7-49f5-9674-66e59d2f5d3b",
   "metadata": {},
   "outputs": [],
   "source": [
    "data = data.drop(columns=['req2xx', 'testDurationSeconds'])"
   ]
  },
  {
   "cell_type": "code",
   "execution_count": 6,
   "id": "436c7600-1b6d-4a9c-ad7a-8f661f6e108a",
   "metadata": {},
   "outputs": [
    {
     "data": {
      "text/plain": [
       "((74, 9), (9, 9))"
      ]
     },
     "execution_count": 6,
     "metadata": {},
     "output_type": "execute_result"
    }
   ],
   "source": [
    "from sklearn.model_selection import train_test_split\n",
    "\n",
    "X_train, X_test, y_train, y_test = train_test_split(data, data.mean_tps,\n",
    "                                                    test_size=0.1,\n",
    "                                                    random_state=0) # we are setting the seed here\n",
    "X_train.shape, X_test.shape"
   ]
  },
  {
   "cell_type": "code",
   "execution_count": 7,
   "id": "75d93507-0f5c-44dc-a45c-bc7aea1bdff4",
   "metadata": {},
   "outputs": [],
   "source": [
    "target_var = 'mean_tps'\n",
    "X_train = X_train.drop(target_var, axis=1)\n",
    "X_test = X_test.drop(target_var, axis=1)"
   ]
  },
  {
   "cell_type": "code",
   "execution_count": 8,
   "id": "0fdf4ad7-321a-408d-9b2e-85b0d8e9c4b5",
   "metadata": {},
   "outputs": [],
   "source": [
    "from sklearn.preprocessing import StandardScaler"
   ]
  },
  {
   "cell_type": "code",
   "execution_count": 9,
   "id": "3eeed1b5-6c07-468f-8285-28afa8a9f53f",
   "metadata": {},
   "outputs": [],
   "source": [
    "stdScaler = StandardScaler()\n",
    "targetStdScaler = StandardScaler()"
   ]
  },
  {
   "cell_type": "code",
   "execution_count": 10,
   "id": "b5834d0d-d4ef-4489-b336-ad2e2eb16bef",
   "metadata": {},
   "outputs": [],
   "source": [
    "X_train_scaled = stdScaler.fit_transform(X_train.values)\n",
    "y_train_scaled = targetStdScaler.fit_transform(y_train.values.reshape(-1,1))"
   ]
  },
  {
   "cell_type": "code",
   "execution_count": 11,
   "id": "50fcf64f-7cba-48cf-ae4b-c7adfcd20895",
   "metadata": {},
   "outputs": [],
   "source": [
    "X_test_scaled = stdScaler.transform(X_test.values)\n",
    "y_test_scaled = targetStdScaler.transform(y_test.values.reshape(-1,1))"
   ]
  },
  {
   "cell_type": "code",
   "execution_count": 12,
   "id": "8e93a29e-c6ed-4bb3-85f1-87377ecc8d91",
   "metadata": {},
   "outputs": [
    {
     "data": {
      "text/plain": [
       "<torch._C.Generator at 0x7fea9ac41410>"
      ]
     },
     "execution_count": 12,
     "metadata": {},
     "output_type": "execute_result"
    }
   ],
   "source": [
    "# Set fixed random number seed\n",
    "torch.manual_seed(42)"
   ]
  },
  {
   "cell_type": "code",
   "execution_count": 13,
   "id": "f0fc92ec-201d-4f4c-83c6-9a4c6da04302",
   "metadata": {},
   "outputs": [],
   "source": [
    "X_train_scaled = torch.FloatTensor(X_train_scaled)\n",
    "y_train_scaled = torch.FloatTensor(y_train_scaled)\n",
    "X_test_scaled = torch.FloatTensor(X_test_scaled)\n",
    "y_test_scaled = torch.FloatTensor(y_test_scaled)"
   ]
  },
  {
   "cell_type": "code",
   "execution_count": 14,
   "id": "ec1ef366-59de-4e16-ad6c-1dbc7004d6ec",
   "metadata": {},
   "outputs": [],
   "source": [
    "class MLPMLasp(nn.Module):\n",
    "    def __init__(self, input, layerSize, hidden, output):\n",
    "        super(MLPMLasp, self).__init__()\n",
    "        self.net = nn.Sequential()\n",
    "        #input layer\n",
    "        self.net.append(nn.Linear(input,layerSize))\n",
    "        self.net.append(nn.ReLU())\n",
    "        \n",
    "        #hidden layers in a loop\n",
    "        for i in range(hidden):\n",
    "            self.net.append(nn.Linear(layerSize,layerSize))\n",
    "            self.net.append(nn.ReLU())\n",
    "\n",
    "        #output\n",
    "        self.net.append(nn.Linear(layerSize,output))\n",
    "\n",
    "    def forward(self, x):\n",
    "        return self.net(x)"
   ]
  },
  {
   "cell_type": "code",
   "execution_count": 15,
   "id": "a07f0b6f-2da1-47e9-b671-679e21cf7d48",
   "metadata": {},
   "outputs": [],
   "source": [
    "epochs = 1000"
   ]
  },
  {
   "cell_type": "code",
   "execution_count": 16,
   "id": "8dbb45a5-fd25-413f-a87c-61d851d247f2",
   "metadata": {},
   "outputs": [],
   "source": [
    "inputSize = X_train_scaled.shape[1]\n",
    "colList = ['HiddenLayers', 'R2Score', 'MAE', 'MSE', 'MAPE', 'model', 'TrainLoses', 'TestLoses', 'TrainPredictions']"
   ]
  },
  {
   "cell_type": "code",
   "execution_count": 17,
   "id": "8517af96-bf8a-46f2-9172-21f490970a95",
   "metadata": {},
   "outputs": [],
   "source": [
    "# This function is the reference for creating and training the models inside the Jupyter notebook pod. We will evaluate it against the Ray cluster distributed one\n",
    "def createModel(testResultsFrame, inputSize, layerSize, loops, \n",
    "                y_train, X_train, y_test, X_test, \n",
    "                targetScaler, labelSet):\n",
    "    \n",
    "    print(f'Creating models using layer size = {layerSize} on set = {labelSet}.\\n')\n",
    "    for i in range(loops):\n",
    "        print(f'Create and training model with {i} hidden layers\\n')\n",
    "        model = MLPMLasp(inputSize, layerSize, i, 1)\n",
    "\n",
    "        criterion = nn.MSELoss()\n",
    "        optimizer = torch.optim.Adam(model.parameters(), lr=0.001)\n",
    "        \n",
    "        train_loses = np.zeros(epochs)\n",
    "        test_loses = np.zeros(epochs)\n",
    "\n",
    "        for epoch in range(epochs):\n",
    "            #forward and get a prediction\n",
    "            y_pred_train = model.forward(X_train)\n",
    "            #calculate the loss\n",
    "            loss = criterion(y_pred_train, y_train)\n",
    "            train_loses[epoch] = loss\n",
    "\n",
    "            #perform backpropagation\n",
    "            optimizer.zero_grad()\n",
    "            loss.backward()\n",
    "            optimizer.step()\n",
    "\n",
    "            #save the test loss to compare train vs test scores\n",
    "            y_eval = model.forward(X_test)\n",
    "            test_loss = criterion(y_eval, y_test)\n",
    "            test_loses[epoch] = test_loss\n",
    "    \n",
    "        with torch.no_grad():\n",
    "            y_pred_scaled = model.forward(X_test)\n",
    "            \n",
    "        #Evaluate metrics\n",
    "        y_pred = targetScaler.inverse_transform(y_pred_scaled)\n",
    "        r2_score = metrics.r2_score(y_test, y_pred_scaled)\n",
    "        mae = metrics.mean_absolute_error(y_test, y_pred_scaled)\n",
    "        mse = metrics.mean_squared_error(y_test, y_pred_scaled)\n",
    "        mape = metrics.mean_absolute_percentage_error(y_test, y_pred_scaled)\n",
    "        row = [i, r2_score, mae, mse, mape, model, train_loses, test_loses, y_pred]\n",
    "        df = pd.DataFrame(np.array(row, dtype=object).reshape(1, len(colList)), columns=colList)\n",
    "        testResultsFrame = pd.concat([testResultsFrame, df], ignore_index=True)\n",
    "\n",
    "        del(model)\n",
    "        \n",
    "    return testResultsFrame"
   ]
  },
  {
   "cell_type": "code",
   "execution_count": 18,
   "id": "d75f8272-0ba4-42ba-94e3-1bca953213c8",
   "metadata": {},
   "outputs": [
    {
     "name": "stdout",
     "output_type": "stream",
     "text": [
      "Creating models using layer size = 64 on set = all.\n",
      "\n",
      "Create and training model with 0 hidden layers\n",
      "\n",
      "Create and training model with 1 hidden layers\n",
      "\n",
      "Create and training model with 2 hidden layers\n",
      "\n",
      "Create and training model with 3 hidden layers\n",
      "\n",
      "Create and training model with 4 hidden layers\n",
      "\n",
      "Create and training model with 5 hidden layers\n",
      "\n",
      "Create and training model with 6 hidden layers\n",
      "\n",
      "Create and training model with 7 hidden layers\n",
      "\n",
      "Create and training model with 8 hidden layers\n",
      "\n",
      "Create and training model with 9 hidden layers\n",
      "\n",
      "Create and training model with 10 hidden layers\n",
      "\n",
      "Create and training model with 11 hidden layers\n",
      "\n",
      "Create and training model with 12 hidden layers\n",
      "\n",
      "Create and training model with 13 hidden layers\n",
      "\n",
      "Create and training model with 14 hidden layers\n",
      "\n",
      "CPU times: user 5min 57s, sys: 593 ms, total: 5min 58s\n",
      "Wall time: 23.1 s\n"
     ]
    }
   ],
   "source": [
    "%%time\n",
    "testResDataFrame = pd.DataFrame(columns=colList)\n",
    "layerSize = 64\n",
    "loops = 15\n",
    "testResDataFrame = createModel(testResDataFrame, inputSize, layerSize, loops, \n",
    "                               y_train_scaled, X_train_scaled,\n",
    "                               y_test_scaled, X_test_scaled, \n",
    "                               targetStdScaler, 'all')"
   ]
  },
  {
   "cell_type": "code",
   "execution_count": 19,
   "id": "675e5d0a-7902-4955-a2f3-a0db0f485580",
   "metadata": {},
   "outputs": [
    {
     "data": {
      "text/html": [
       "<div>\n",
       "<style scoped>\n",
       "    .dataframe tbody tr th:only-of-type {\n",
       "        vertical-align: middle;\n",
       "    }\n",
       "\n",
       "    .dataframe tbody tr th {\n",
       "        vertical-align: top;\n",
       "    }\n",
       "\n",
       "    .dataframe thead th {\n",
       "        text-align: right;\n",
       "    }\n",
       "</style>\n",
       "<table border=\"1\" class=\"dataframe\">\n",
       "  <thead>\n",
       "    <tr style=\"text-align: right;\">\n",
       "      <th></th>\n",
       "      <th>HiddenLayers</th>\n",
       "      <th>R2Score</th>\n",
       "      <th>MAE</th>\n",
       "      <th>MSE</th>\n",
       "      <th>MAPE</th>\n",
       "      <th>model</th>\n",
       "      <th>TrainLoses</th>\n",
       "      <th>TestLoses</th>\n",
       "      <th>TrainPredictions</th>\n",
       "    </tr>\n",
       "  </thead>\n",
       "  <tbody>\n",
       "    <tr>\n",
       "      <th>0</th>\n",
       "      <td>0</td>\n",
       "      <td>0.996209</td>\n",
       "      <td>0.047131</td>\n",
       "      <td>0.004371</td>\n",
       "      <td>0.090357</td>\n",
       "      <td>MLPMLasp(\\n  (net): Sequential(\\n    (0): Line...</td>\n",
       "      <td>[0.8329712748527527, 0.8146074414253235, 0.796...</td>\n",
       "      <td>[0.9622437953948975, 0.9450128078460693, 0.927...</td>\n",
       "      <td>[[238.79885950595994], [111.28539433240412], [...</td>\n",
       "    </tr>\n",
       "    <tr>\n",
       "      <th>1</th>\n",
       "      <td>1</td>\n",
       "      <td>0.999016</td>\n",
       "      <td>0.030408</td>\n",
       "      <td>0.001135</td>\n",
       "      <td>0.070947</td>\n",
       "      <td>MLPMLasp(\\n  (net): Sequential(\\n    (0): Line...</td>\n",
       "      <td>[1.0115268230438232, 0.9764190912246704, 0.942...</td>\n",
       "      <td>[1.16988205909729, 1.1316838264465332, 1.09475...</td>\n",
       "      <td>[[249.61725173694919], [108.76981501068141], [...</td>\n",
       "    </tr>\n",
       "    <tr>\n",
       "      <th>2</th>\n",
       "      <td>2</td>\n",
       "      <td>0.996618</td>\n",
       "      <td>0.046897</td>\n",
       "      <td>0.0039</td>\n",
       "      <td>0.069223</td>\n",
       "      <td>MLPMLasp(\\n  (net): Sequential(\\n    (0): Line...</td>\n",
       "      <td>[1.0144338607788086, 0.997641384601593, 0.9818...</td>\n",
       "      <td>[1.1503655910491943, 1.1350643634796143, 1.120...</td>\n",
       "      <td>[[246.95081341417392], [107.18838812939957], [...</td>\n",
       "    </tr>\n",
       "    <tr>\n",
       "      <th>3</th>\n",
       "      <td>3</td>\n",
       "      <td>0.997556</td>\n",
       "      <td>0.044787</td>\n",
       "      <td>0.002818</td>\n",
       "      <td>0.067852</td>\n",
       "      <td>MLPMLasp(\\n  (net): Sequential(\\n    (0): Line...</td>\n",
       "      <td>[1.0142695903778076, 1.003928780555725, 0.9943...</td>\n",
       "      <td>[1.2047852277755737, 1.196412205696106, 1.1874...</td>\n",
       "      <td>[[249.7666120421708], [108.49012264316366], [2...</td>\n",
       "    </tr>\n",
       "    <tr>\n",
       "      <th>4</th>\n",
       "      <td>4</td>\n",
       "      <td>0.993084</td>\n",
       "      <td>0.058102</td>\n",
       "      <td>0.007975</td>\n",
       "      <td>0.093419</td>\n",
       "      <td>MLPMLasp(\\n  (net): Sequential(\\n    (0): Line...</td>\n",
       "      <td>[1.00376558303833, 0.9957173466682434, 0.98831...</td>\n",
       "      <td>[1.14998197555542, 1.1446360349655151, 1.13963...</td>\n",
       "      <td>[[240.77148020434967], [111.91520636975078], [...</td>\n",
       "    </tr>\n",
       "    <tr>\n",
       "      <th>5</th>\n",
       "      <td>5</td>\n",
       "      <td>0.996317</td>\n",
       "      <td>0.048491</td>\n",
       "      <td>0.004248</td>\n",
       "      <td>0.068721</td>\n",
       "      <td>MLPMLasp(\\n  (net): Sequential(\\n    (0): Line...</td>\n",
       "      <td>[1.0003077983856201, 0.9964674711227417, 0.992...</td>\n",
       "      <td>[1.1541595458984375, 1.1509029865264893, 1.146...</td>\n",
       "      <td>[[241.97816851801494], [102.43631376048893], [...</td>\n",
       "    </tr>\n",
       "    <tr>\n",
       "      <th>6</th>\n",
       "      <td>6</td>\n",
       "      <td>0.998361</td>\n",
       "      <td>0.031195</td>\n",
       "      <td>0.00189</td>\n",
       "      <td>0.047571</td>\n",
       "      <td>MLPMLasp(\\n  (net): Sequential(\\n    (0): Line...</td>\n",
       "      <td>[1.0031685829162598, 1.001373291015625, 0.9997...</td>\n",
       "      <td>[1.1818121671676636, 1.1771587133407593, 1.173...</td>\n",
       "      <td>[[243.25766076406646], [107.56929757393293], [...</td>\n",
       "    </tr>\n",
       "    <tr>\n",
       "      <th>7</th>\n",
       "      <td>7</td>\n",
       "      <td>0.997067</td>\n",
       "      <td>0.045451</td>\n",
       "      <td>0.003382</td>\n",
       "      <td>0.088504</td>\n",
       "      <td>MLPMLasp(\\n  (net): Sequential(\\n    (0): Line...</td>\n",
       "      <td>[1.0065275430679321, 1.0040221214294434, 1.002...</td>\n",
       "      <td>[1.1888537406921387, 1.1837648153305054, 1.179...</td>\n",
       "      <td>[[238.00551669659785], [109.41897453976962], [...</td>\n",
       "    </tr>\n",
       "    <tr>\n",
       "      <th>8</th>\n",
       "      <td>8</td>\n",
       "      <td>0.993858</td>\n",
       "      <td>0.06678</td>\n",
       "      <td>0.007083</td>\n",
       "      <td>0.132922</td>\n",
       "      <td>MLPMLasp(\\n  (net): Sequential(\\n    (0): Line...</td>\n",
       "      <td>[1.0320676565170288, 1.0274311304092407, 1.023...</td>\n",
       "      <td>[1.1547813415527344, 1.1538567543029785, 1.153...</td>\n",
       "      <td>[[236.84862549736624], [107.62054967751438], [...</td>\n",
       "    </tr>\n",
       "    <tr>\n",
       "      <th>9</th>\n",
       "      <td>9</td>\n",
       "      <td>0.996977</td>\n",
       "      <td>0.050105</td>\n",
       "      <td>0.003487</td>\n",
       "      <td>0.081678</td>\n",
       "      <td>MLPMLasp(\\n  (net): Sequential(\\n    (0): Line...</td>\n",
       "      <td>[1.011833906173706, 1.009243369102478, 1.00697...</td>\n",
       "      <td>[1.153963327407837, 1.154741644859314, 1.15579...</td>\n",
       "      <td>[[250.5669536217088], [104.6848490487397], [27...</td>\n",
       "    </tr>\n",
       "    <tr>\n",
       "      <th>10</th>\n",
       "      <td>10</td>\n",
       "      <td>0.996081</td>\n",
       "      <td>0.055187</td>\n",
       "      <td>0.004519</td>\n",
       "      <td>0.086949</td>\n",
       "      <td>MLPMLasp(\\n  (net): Sequential(\\n    (0): Line...</td>\n",
       "      <td>[1.000002145767212, 1.0000749826431274, 0.9999...</td>\n",
       "      <td>[1.166379690170288, 1.168143391609192, 1.16995...</td>\n",
       "      <td>[[241.29169868384028], [107.66501140945265], [...</td>\n",
       "    </tr>\n",
       "    <tr>\n",
       "      <th>11</th>\n",
       "      <td>11</td>\n",
       "      <td>0.9954</td>\n",
       "      <td>0.058022</td>\n",
       "      <td>0.005304</td>\n",
       "      <td>0.099871</td>\n",
       "      <td>MLPMLasp(\\n  (net): Sequential(\\n    (0): Line...</td>\n",
       "      <td>[1.0001399517059326, 1.0000123977661133, 1.000...</td>\n",
       "      <td>[1.1676279306411743, 1.1663638353347778, 1.167...</td>\n",
       "      <td>[[239.96365781426076], [105.62309598193256], [...</td>\n",
       "    </tr>\n",
       "    <tr>\n",
       "      <th>12</th>\n",
       "      <td>12</td>\n",
       "      <td>0.993871</td>\n",
       "      <td>0.059941</td>\n",
       "      <td>0.007068</td>\n",
       "      <td>0.080659</td>\n",
       "      <td>MLPMLasp(\\n  (net): Sequential(\\n    (0): Line...</td>\n",
       "      <td>[1.007809042930603, 1.0056828260421753, 1.0038...</td>\n",
       "      <td>[1.1934075355529785, 1.1883193254470825, 1.183...</td>\n",
       "      <td>[[249.3015754671641], [105.99210707376578], [2...</td>\n",
       "    </tr>\n",
       "    <tr>\n",
       "      <th>13</th>\n",
       "      <td>13</td>\n",
       "      <td>0.997814</td>\n",
       "      <td>0.042938</td>\n",
       "      <td>0.00252</td>\n",
       "      <td>0.093962</td>\n",
       "      <td>MLPMLasp(\\n  (net): Sequential(\\n    (0): Line...</td>\n",
       "      <td>[1.0007585287094116, 1.000206470489502, 1.0000...</td>\n",
       "      <td>[1.1654595136642456, 1.1684002876281738, 1.171...</td>\n",
       "      <td>[[239.66280191064502], [108.63805139615454], [...</td>\n",
       "    </tr>\n",
       "    <tr>\n",
       "      <th>14</th>\n",
       "      <td>14</td>\n",
       "      <td>0.993074</td>\n",
       "      <td>0.070148</td>\n",
       "      <td>0.007987</td>\n",
       "      <td>0.108287</td>\n",
       "      <td>MLPMLasp(\\n  (net): Sequential(\\n    (0): Line...</td>\n",
       "      <td>[1.000067949295044, 1.0000017881393433, 1.0000...</td>\n",
       "      <td>[1.1684184074401855, 1.1671929359436035, 1.167...</td>\n",
       "      <td>[[238.57857528915775], [108.17030627365284], [...</td>\n",
       "    </tr>\n",
       "  </tbody>\n",
       "</table>\n",
       "</div>"
      ],
      "text/plain": [
       "   HiddenLayers   R2Score       MAE       MSE      MAPE  \\\n",
       "0             0  0.996209  0.047131  0.004371  0.090357   \n",
       "1             1  0.999016  0.030408  0.001135  0.070947   \n",
       "2             2  0.996618  0.046897    0.0039  0.069223   \n",
       "3             3  0.997556  0.044787  0.002818  0.067852   \n",
       "4             4  0.993084  0.058102  0.007975  0.093419   \n",
       "5             5  0.996317  0.048491  0.004248  0.068721   \n",
       "6             6  0.998361  0.031195   0.00189  0.047571   \n",
       "7             7  0.997067  0.045451  0.003382  0.088504   \n",
       "8             8  0.993858   0.06678  0.007083  0.132922   \n",
       "9             9  0.996977  0.050105  0.003487  0.081678   \n",
       "10           10  0.996081  0.055187  0.004519  0.086949   \n",
       "11           11    0.9954  0.058022  0.005304  0.099871   \n",
       "12           12  0.993871  0.059941  0.007068  0.080659   \n",
       "13           13  0.997814  0.042938   0.00252  0.093962   \n",
       "14           14  0.993074  0.070148  0.007987  0.108287   \n",
       "\n",
       "                                                model  \\\n",
       "0   MLPMLasp(\\n  (net): Sequential(\\n    (0): Line...   \n",
       "1   MLPMLasp(\\n  (net): Sequential(\\n    (0): Line...   \n",
       "2   MLPMLasp(\\n  (net): Sequential(\\n    (0): Line...   \n",
       "3   MLPMLasp(\\n  (net): Sequential(\\n    (0): Line...   \n",
       "4   MLPMLasp(\\n  (net): Sequential(\\n    (0): Line...   \n",
       "5   MLPMLasp(\\n  (net): Sequential(\\n    (0): Line...   \n",
       "6   MLPMLasp(\\n  (net): Sequential(\\n    (0): Line...   \n",
       "7   MLPMLasp(\\n  (net): Sequential(\\n    (0): Line...   \n",
       "8   MLPMLasp(\\n  (net): Sequential(\\n    (0): Line...   \n",
       "9   MLPMLasp(\\n  (net): Sequential(\\n    (0): Line...   \n",
       "10  MLPMLasp(\\n  (net): Sequential(\\n    (0): Line...   \n",
       "11  MLPMLasp(\\n  (net): Sequential(\\n    (0): Line...   \n",
       "12  MLPMLasp(\\n  (net): Sequential(\\n    (0): Line...   \n",
       "13  MLPMLasp(\\n  (net): Sequential(\\n    (0): Line...   \n",
       "14  MLPMLasp(\\n  (net): Sequential(\\n    (0): Line...   \n",
       "\n",
       "                                           TrainLoses  \\\n",
       "0   [0.8329712748527527, 0.8146074414253235, 0.796...   \n",
       "1   [1.0115268230438232, 0.9764190912246704, 0.942...   \n",
       "2   [1.0144338607788086, 0.997641384601593, 0.9818...   \n",
       "3   [1.0142695903778076, 1.003928780555725, 0.9943...   \n",
       "4   [1.00376558303833, 0.9957173466682434, 0.98831...   \n",
       "5   [1.0003077983856201, 0.9964674711227417, 0.992...   \n",
       "6   [1.0031685829162598, 1.001373291015625, 0.9997...   \n",
       "7   [1.0065275430679321, 1.0040221214294434, 1.002...   \n",
       "8   [1.0320676565170288, 1.0274311304092407, 1.023...   \n",
       "9   [1.011833906173706, 1.009243369102478, 1.00697...   \n",
       "10  [1.000002145767212, 1.0000749826431274, 0.9999...   \n",
       "11  [1.0001399517059326, 1.0000123977661133, 1.000...   \n",
       "12  [1.007809042930603, 1.0056828260421753, 1.0038...   \n",
       "13  [1.0007585287094116, 1.000206470489502, 1.0000...   \n",
       "14  [1.000067949295044, 1.0000017881393433, 1.0000...   \n",
       "\n",
       "                                            TestLoses  \\\n",
       "0   [0.9622437953948975, 0.9450128078460693, 0.927...   \n",
       "1   [1.16988205909729, 1.1316838264465332, 1.09475...   \n",
       "2   [1.1503655910491943, 1.1350643634796143, 1.120...   \n",
       "3   [1.2047852277755737, 1.196412205696106, 1.1874...   \n",
       "4   [1.14998197555542, 1.1446360349655151, 1.13963...   \n",
       "5   [1.1541595458984375, 1.1509029865264893, 1.146...   \n",
       "6   [1.1818121671676636, 1.1771587133407593, 1.173...   \n",
       "7   [1.1888537406921387, 1.1837648153305054, 1.179...   \n",
       "8   [1.1547813415527344, 1.1538567543029785, 1.153...   \n",
       "9   [1.153963327407837, 1.154741644859314, 1.15579...   \n",
       "10  [1.166379690170288, 1.168143391609192, 1.16995...   \n",
       "11  [1.1676279306411743, 1.1663638353347778, 1.167...   \n",
       "12  [1.1934075355529785, 1.1883193254470825, 1.183...   \n",
       "13  [1.1654595136642456, 1.1684002876281738, 1.171...   \n",
       "14  [1.1684184074401855, 1.1671929359436035, 1.167...   \n",
       "\n",
       "                                     TrainPredictions  \n",
       "0   [[238.79885950595994], [111.28539433240412], [...  \n",
       "1   [[249.61725173694919], [108.76981501068141], [...  \n",
       "2   [[246.95081341417392], [107.18838812939957], [...  \n",
       "3   [[249.7666120421708], [108.49012264316366], [2...  \n",
       "4   [[240.77148020434967], [111.91520636975078], [...  \n",
       "5   [[241.97816851801494], [102.43631376048893], [...  \n",
       "6   [[243.25766076406646], [107.56929757393293], [...  \n",
       "7   [[238.00551669659785], [109.41897453976962], [...  \n",
       "8   [[236.84862549736624], [107.62054967751438], [...  \n",
       "9   [[250.5669536217088], [104.6848490487397], [27...  \n",
       "10  [[241.29169868384028], [107.66501140945265], [...  \n",
       "11  [[239.96365781426076], [105.62309598193256], [...  \n",
       "12  [[249.3015754671641], [105.99210707376578], [2...  \n",
       "13  [[239.66280191064502], [108.63805139615454], [...  \n",
       "14  [[238.57857528915775], [108.17030627365284], [...  "
      ]
     },
     "execution_count": 19,
     "metadata": {},
     "output_type": "execute_result"
    }
   ],
   "source": [
    "testResDataFrame"
   ]
  },
  {
   "cell_type": "code",
   "execution_count": 20,
   "id": "bf9b51ff-13ed-4041-a65f-66c92369164d",
   "metadata": {},
   "outputs": [
    {
     "data": {
      "image/png": "[encoded data removed]",
      "text/plain": [
       "<Figure size 2000x1000 with 1 Axes>"
      ]
     },
     "metadata": {},
     "output_type": "display_data"
    }
   ],
   "source": [
    "#Plot train vs validation\n",
    "plt.figure(figsize=(20,10))\n",
    "#plt.plot(testResDataFrame['R2Score'])\n",
    "plt.plot(testResDataFrame['MAE'])\n",
    "#plt.plot(testResDataFrame['MSE'])\n",
    "plt.title('Training Scores MLP')\n",
    "plt.ylabel('Score')\n",
    "plt.xlabel('Iteration')\n",
    "plt.legend(['MAE'], loc='upper right')\n",
    "plt.show()"
   ]
  },
  {
   "cell_type": "code",
   "execution_count": 21,
   "id": "b83b5e66-cbae-416b-830b-9147b00521c1",
   "metadata": {},
   "outputs": [],
   "source": [
    "# Determine the IDX value where the MAE is smallest\n",
    "minMaeIDX = testResDataFrame.loc[testResDataFrame['MAE']==testResDataFrame['MAE'].min()].index[0]"
   ]
  },
  {
   "cell_type": "code",
   "execution_count": 22,
   "id": "fb84cf95-e1e2-494e-9791-e39c0f956b1c",
   "metadata": {},
   "outputs": [
    {
     "data": {
      "text/plain": [
       "HiddenLayers                                                        1\n",
       "R2Score                                                      0.999016\n",
       "MAE                                                          0.030408\n",
       "MSE                                                          0.001135\n",
       "MAPE                                                         0.070947\n",
       "model               MLPMLasp(\\n  (net): Sequential(\\n    (0): Line...\n",
       "TrainLoses          [1.0115268230438232, 0.9764190912246704, 0.942...\n",
       "TestLoses           [1.16988205909729, 1.1316838264465332, 1.09475...\n",
       "TrainPredictions    [[249.61725173694919], [108.76981501068141], [...\n",
       "Name: 1, dtype: object"
      ]
     },
     "execution_count": 22,
     "metadata": {},
     "output_type": "execute_result"
    }
   ],
   "source": [
    "testResDataFrame.iloc[minMaeIDX]"
   ]
  },
  {
   "cell_type": "code",
   "execution_count": 23,
   "id": "36ac8967-4a55-4eab-b2b8-1a4824eb9707",
   "metadata": {},
   "outputs": [
    {
     "data": {
      "image/png": "[encoded data removed]",
      "text/plain": [
       "<Figure size 2000x1000 with 1 Axes>"
      ]
     },
     "metadata": {},
     "output_type": "display_data"
    }
   ],
   "source": [
    "y_pred_MLP_std = testResDataFrame['TrainPredictions'][minMaeIDX]\n",
    "# Plot prediction vs original\n",
    "plt.figure(figsize=(20,10))\n",
    "plt.scatter(range(y_test.shape[0]),y_test,label=\"Original Data\", alpha=0.6, c='red')\n",
    "plt.scatter(range(y_pred_MLP_std.shape[0]),y_pred_MLP_std,label=\"Predicted Data\", \n",
    "            alpha=0.6, c='black')\n",
    "plt.ylabel('Mean TPS')\n",
    "plt.xlabel('Test Records')\n",
    "plt.title('MLP Std Model for X_test dataset prediction vs original')\n",
    "plt.legend()\n",
    "plt.show()"
   ]
  },
  {
   "cell_type": "code",
   "execution_count": 24,
   "id": "22a0e944-5206-4804-aa48-3e3daea4573a",
   "metadata": {},
   "outputs": [
    {
     "data": {
      "image/png": "[encoded data removed]",
      "text/plain": [
       "<Figure size 2000x1000 with 1 Axes>"
      ]
     },
     "metadata": {},
     "output_type": "display_data"
    }
   ],
   "source": [
    "train_loses = testResDataFrame['TrainLoses'][minMaeIDX]\n",
    "test_loses = testResDataFrame['TestLoses'][minMaeIDX]\n",
    "#Plot train vs validation\n",
    "plt.figure(figsize=(20,10))\n",
    "plt.plot(train_loses)\n",
    "plt.plot(test_loses)\n",
    "plt.title('Test vs Train loss')\n",
    "plt.ylabel('Loss')\n",
    "plt.xlabel('Epoch')\n",
    "plt.legend(['train', 'test'], loc='upper right')\n",
    "plt.show()"
   ]
  },
  {
   "cell_type": "code",
   "execution_count": 25,
   "id": "deeb4d54-aa38-4b06-b276-c0a8b0a1da41",
   "metadata": {},
   "outputs": [],
   "source": [
    "MLFLOW_URI='http://mlflow-server.mlflow-strangiato.svc.cluster.local:8080/'\n",
    "#MLFLOW_URI='http://localhost:8080/'"
   ]
  },
  {
   "cell_type": "code",
   "execution_count": 26,
   "id": "88f0c47d-54ac-4bf3-96ad-f2faaa3f6444",
   "metadata": {},
   "outputs": [],
   "source": [
    "import os\n",
    "os.environ[\"RAY_IGNORE_UNHANDLED_ERRORS\"] = \"1\""
   ]
  },
  {
   "cell_type": "code",
   "execution_count": 27,
   "id": "d6df4ff5-c566-494c-96f0-921e330a9468",
   "metadata": {},
   "outputs": [],
   "source": [
    "import logging\n",
    "import ray"
   ]
  },
  {
   "cell_type": "code",
   "execution_count": 28,
   "id": "d716937e-355b-46e3-9b1a-24aab229a946",
   "metadata": {},
   "outputs": [],
   "source": [
    "ray_endpoint = 'ray://raycluster-complete-head-svc.raycluster.svc.cluster.local:10001'"
   ]
  },
  {
   "cell_type": "code",
   "execution_count": 29,
   "id": "c3ce65a5-208d-4e97-98e9-dc0cdf11deb8",
   "metadata": {},
   "outputs": [],
   "source": [
    "ray.shutdown()"
   ]
  },
  {
   "cell_type": "code",
   "execution_count": 30,
   "id": "6a67fb6b-4edd-4ce1-b376-4e745c46615a",
   "metadata": {},
   "outputs": [
    {
     "data": {
      "application/vnd.jupyter.widget-view+json": {
       "model_id": "4fcc9f62b85e47f4a9cb5ed369b50098",
       "version_major": 2,
       "version_minor": 0
      },
      "text/html": [
       "<div class=\"lm-Widget p-Widget lm-Panel p-Panel jp-Cell-outputWrapper\">\n",
       "    <div style=\"margin-left: 50px;display: flex;flex-direction: row;align-items: center\">\n",
       "        <div class=\"jp-RenderedHTMLCommon\" style=\"display: flex; flex-direction: row;\">\n",
       "  <svg viewBox=\"0 0 567 224\" fill=\"none\" xmlns=\"http://www.w3.org/2000/svg\" style=\"height: 3em;\">\n",
       "    <g clip-path=\"url(#clip0_4338_178347)\">\n",
       "        <path d=\"M341.29 165.561H355.29L330.13 129.051C345.63 123.991 354.21 112.051 354.21 94.2307C354.21 71.3707 338.72 58.1807 311.88 58.1807H271V165.561H283.27V131.661H311.8C314.25 131.661 316.71 131.501 319.01 131.351L341.25 165.561H341.29ZM283.29 119.851V70.0007H311.82C331.3 70.0007 342.34 78.2907 342.34 94.5507C342.34 111.271 331.34 119.861 311.82 119.861L283.29 119.851ZM451.4 138.411L463.4 165.561H476.74L428.74 58.1807H416L367.83 165.561H380.83L392.83 138.411H451.4ZM446.19 126.601H398L422 72.1407L446.24 126.601H446.19ZM526.11 128.741L566.91 58.1807H554.35L519.99 114.181L485.17 58.1807H472.44L514.01 129.181V165.541H526.13V128.741H526.11Z\" fill=\"var(--jp-ui-font-color0)\"/>\n",
       "        <path d=\"M82.35 104.44C84.0187 97.8827 87.8248 92.0678 93.1671 87.9146C98.5094 83.7614 105.083 81.5067 111.85 81.5067C118.617 81.5067 125.191 83.7614 130.533 87.9146C135.875 92.0678 139.681 97.8827 141.35 104.44H163.75C164.476 101.562 165.622 98.8057 167.15 96.2605L127.45 56.5605C121.071 60.3522 113.526 61.6823 106.235 60.3005C98.9443 58.9187 92.4094 54.9203 87.8602 49.0574C83.3109 43.1946 81.0609 35.8714 81.5332 28.4656C82.0056 21.0599 85.1679 14.0819 90.4252 8.8446C95.6824 3.60726 102.672 0.471508 110.08 0.0272655C117.487 -0.416977 124.802 1.86091 130.647 6.4324C136.493 11.0039 140.467 17.5539 141.821 24.8501C143.175 32.1463 141.816 39.6859 138 46.0505L177.69 85.7505C182.31 82.9877 187.58 81.4995 192.962 81.4375C198.345 81.3755 203.648 82.742 208.33 85.3976C213.012 88.0532 216.907 91.9029 219.616 96.5544C222.326 101.206 223.753 106.492 223.753 111.875C223.753 117.258 222.326 122.545 219.616 127.197C216.907 131.848 213.012 135.698 208.33 138.353C203.648 141.009 198.345 142.375 192.962 142.313C187.58 142.251 182.31 140.763 177.69 138L138 177.7C141.808 184.071 143.155 191.614 141.79 198.91C140.424 206.205 136.44 212.75 130.585 217.313C124.731 221.875 117.412 224.141 110.004 223.683C102.596 223.226 95.6103 220.077 90.3621 214.828C85.1139 209.58 81.9647 202.595 81.5072 195.187C81.0497 187.779 83.3154 180.459 87.878 174.605C92.4405 168.751 98.9853 164.766 106.281 163.401C113.576 162.035 121.119 163.383 127.49 167.19L167.19 127.49C165.664 124.941 164.518 122.182 163.79 119.3H141.39C139.721 125.858 135.915 131.673 130.573 135.826C125.231 139.98 118.657 142.234 111.89 142.234C105.123 142.234 98.5494 139.98 93.2071 135.826C87.8648 131.673 84.0587 125.858 82.39 119.3H60C58.1878 126.495 53.8086 132.78 47.6863 136.971C41.5641 141.163 34.1211 142.972 26.7579 142.059C19.3947 141.146 12.6191 137.574 7.70605 132.014C2.79302 126.454 0.0813599 119.29 0.0813599 111.87C0.0813599 104.451 2.79302 97.2871 7.70605 91.7272C12.6191 86.1673 19.3947 82.5947 26.7579 81.6817C34.1211 80.7686 41.5641 82.5781 47.6863 86.7696C53.8086 90.9611 58.1878 97.2456 60 104.44H82.35ZM100.86 204.32C103.407 206.868 106.759 208.453 110.345 208.806C113.93 209.159 117.527 208.258 120.522 206.256C123.517 204.254 125.725 201.276 126.771 197.828C127.816 194.38 127.633 190.677 126.253 187.349C124.874 184.021 122.383 181.274 119.205 179.577C116.027 177.88 112.359 177.337 108.826 178.042C105.293 178.746 102.113 180.654 99.8291 183.44C97.5451 186.226 96.2979 189.718 96.3 193.32C96.2985 195.364 96.7006 197.388 97.4831 199.275C98.2656 201.163 99.4132 202.877 100.86 204.32ZM204.32 122.88C206.868 120.333 208.453 116.981 208.806 113.396C209.159 109.811 208.258 106.214 206.256 103.219C204.254 100.223 201.275 98.0151 197.827 96.97C194.38 95.9249 190.676 96.1077 187.348 97.4873C184.02 98.8669 181.274 101.358 179.577 104.536C177.879 107.714 177.337 111.382 178.041 114.915C178.746 118.448 180.653 121.627 183.439 123.911C186.226 126.195 189.717 127.443 193.32 127.44C195.364 127.443 197.388 127.042 199.275 126.259C201.163 125.476 202.878 124.328 204.32 122.88ZM122.88 19.4205C120.333 16.8729 116.981 15.2876 113.395 14.9347C109.81 14.5817 106.213 15.483 103.218 17.4849C100.223 19.4868 98.0146 22.4654 96.9696 25.9131C95.9245 29.3608 96.1073 33.0642 97.4869 36.3922C98.8665 39.7202 101.358 42.4668 104.535 44.1639C107.713 45.861 111.381 46.4036 114.914 45.6992C118.447 44.9949 121.627 43.0871 123.911 40.301C126.195 37.515 127.442 34.0231 127.44 30.4205C127.44 28.3772 127.038 26.3539 126.255 24.4664C125.473 22.5788 124.326 20.8642 122.88 19.4205ZM19.42 100.86C16.8725 103.408 15.2872 106.76 14.9342 110.345C14.5813 113.93 15.4826 117.527 17.4844 120.522C19.4863 123.518 22.4649 125.726 25.9127 126.771C29.3604 127.816 33.0638 127.633 36.3918 126.254C39.7198 124.874 42.4664 122.383 44.1635 119.205C45.8606 116.027 46.4032 112.359 45.6988 108.826C44.9944 105.293 43.0866 102.114 40.3006 99.8296C37.5145 97.5455 34.0227 96.2983 30.42 96.3005C26.2938 96.3018 22.337 97.9421 19.42 100.86ZM100.86 100.86C98.3125 103.408 96.7272 106.76 96.3742 110.345C96.0213 113.93 96.9226 117.527 98.9244 120.522C100.926 123.518 103.905 125.726 107.353 126.771C110.8 127.816 114.504 127.633 117.832 126.254C121.16 124.874 123.906 122.383 125.604 119.205C127.301 116.027 127.843 112.359 127.139 108.826C126.434 105.293 124.527 102.114 121.741 99.8296C118.955 97.5455 115.463 96.2983 111.86 96.3005C109.817 96.299 107.793 96.701 105.905 97.4835C104.018 98.2661 102.303 99.4136 100.86 100.86Z\" fill=\"#00AEEF\"/>\n",
       "    </g>\n",
       "    <defs>\n",
       "        <clipPath id=\"clip0_4338_178347\">\n",
       "            <rect width=\"566.93\" height=\"223.75\" fill=\"white\"/>\n",
       "        </clipPath>\n",
       "    </defs>\n",
       "  </svg>\n",
       "</div>\n",
       "\n",
       "        <table class=\"jp-RenderedHTMLCommon\" style=\"border-collapse: collapse;color: var(--jp-ui-font-color1);font-size: var(--jp-ui-font-size1);\">\n",
       "    <tr>\n",
       "        <td style=\"text-align: left\"><b>Python version:</b></td>\n",
       "        <td style=\"text-align: left\"><b>3.11.6</b></td>\n",
       "    </tr>\n",
       "    <tr>\n",
       "        <td style=\"text-align: left\"><b>Ray version:</b></td>\n",
       "        <td style=\"text-align: left\"><b>2.9.0</b></td>\n",
       "    </tr>\n",
       "    <tr>\n",
       "    <td style=\"text-align: left\"><b>Dashboard:</b></td>\n",
       "    <td style=\"text-align: left\"><b><a href=\"http://127.0.0.1:8265\" target=\"_blank\">http://127.0.0.1:8265</a></b></td>\n",
       "</tr>\n",
       "\n",
       "</table>\n",
       "\n",
       "    </div>\n",
       "</div>\n"
      ],
      "text/plain": [
       "RayContext(dashboard_url='127.0.0.1:8265', python_version='3.11.6', ray_version='2.9.0', ray_commit='9be5a16e3ccad0710bba08d0f75e9ff774ae6880', protocol_version=None)"
      ]
     },
     "execution_count": 30,
     "metadata": {},
     "output_type": "execute_result"
    }
   ],
   "source": [
    "ray.init(address=ray_endpoint, logging_level=logging.ERROR, log_to_driver=False)\n",
    "#ray.init(logging_level=logging.ERROR, log_to_driver=False)"
   ]
  },
  {
   "cell_type": "code",
   "execution_count": 31,
   "id": "6fdd0083-3b45-4ba9-be73-59486f27b067",
   "metadata": {},
   "outputs": [],
   "source": [
    "import onnx\n",
    "import onnxruntime"
   ]
  },
  {
   "cell_type": "code",
   "execution_count": 32,
   "id": "ab76ab4b-f926-45ad-921f-0042bc1c5464",
   "metadata": {},
   "outputs": [],
   "source": [
    "import mlflow"
   ]
  },
  {
   "cell_type": "code",
   "execution_count": 33,
   "id": "32ccb0e3-083c-458e-a141-f95e4309a08f",
   "metadata": {},
   "outputs": [],
   "source": [
    "from ray.air.integrations.mlflow import setup_mlflow"
   ]
  },
  {
   "cell_type": "code",
   "execution_count": 34,
   "id": "406e895b-de5d-440b-98dd-5384735e9d4c",
   "metadata": {},
   "outputs": [],
   "source": [
    "@ray.remote\n",
    "def createRemoteModel(inputSize, layerSize, hiddenSize, \n",
    "                y_train, X_train, y_test, X_test, \n",
    "                targetScaler, labelSet):\n",
    "\n",
    "    mlflow_exp_name = f'mlasp-1-{labelSet}-{hiddenSize}'\n",
    "    mlflow_ray_config = None\n",
    "    mlflow_ray = setup_mlflow(config=mlflow_ray_config,\n",
    "                              tracking_uri=MLFLOW_URI,\n",
    "                              registry_uri=MLFLOW_URI,\n",
    "                              create_experiment_if_not_exists=True,\n",
    "                              rank_zero_only=False,\n",
    "                             experiment_name=mlflow_exp_name)\n",
    "    \n",
    "    print(f'Create and training model with {hiddenSize} hidden layers using layer size = {layerSize} on set = {labelSet}.\\n')\n",
    "    model = MLPMLasp(inputSize, layerSize, hiddenSize, 1)\n",
    "\n",
    "    criterion = nn.MSELoss()\n",
    "    optimizer = torch.optim.Adam(model.parameters(), lr=0.001)\n",
    "    \n",
    "    train_loses = np.zeros(epochs)\n",
    "    test_loses = np.zeros(epochs)\n",
    "\n",
    "    for epoch in range(epochs):\n",
    "        #forward and get a prediction\n",
    "        y_pred_train = model.forward(X_train)\n",
    "        #calculate the loss\n",
    "        loss = criterion(y_pred_train, y_train)\n",
    "        train_loses[epoch] = loss\n",
    "\n",
    "        #perform backpropagation\n",
    "        optimizer.zero_grad()\n",
    "        loss.backward()\n",
    "        optimizer.step()\n",
    "\n",
    "        #save the test loss if you want to compare train vs test scores\n",
    "        y_eval = model.forward(X_test)\n",
    "        test_loss = criterion(y_eval, y_test)\n",
    "        test_loses[epoch] = test_loss\n",
    "\n",
    "    with torch.no_grad():\n",
    "        y_pred_scaled = model.forward(X_test)\n",
    "    \n",
    "    #Evaluate metrics\n",
    "    y_pred = targetScaler.inverse_transform(y_pred_scaled)\n",
    "    y_test_orig = targetScaler.inverse_transform(y_test)\n",
    "    r2_score = metrics.r2_score(y_test, y_pred_scaled)\n",
    "    mae = metrics.mean_absolute_error(y_test, y_pred_scaled)\n",
    "    mse = metrics.mean_squared_error(y_test, y_pred_scaled)\n",
    "    mape = metrics.mean_absolute_percentage_error(y_test, y_pred_scaled)\n",
    "    \n",
    "    row = [i, r2_score, mae, mse, mape, model, train_loses, test_loses, y_pred]\n",
    "    \n",
    "    fig=plt.figure(figsize=(20,10))\n",
    "    plt.scatter(range(y_test_orig.shape[0]),y_test_orig,label=\"Original Data\", alpha=0.6, c='red')\n",
    "    plt.scatter(range(y_pred.shape[0]),y_pred,label=\"Predicted Data\", \n",
    "                alpha=0.6, c='black')\n",
    "    plt.ylabel('Mean TPS')\n",
    "    plt.xlabel('Test Records')\n",
    "    plt.title('MLP StdScaler Model for X_test dataset prediction vs original')\n",
    "    plt.legend()    \n",
    "\n",
    "    mlflow_ray.log_figure(fig,f\"{mlflow_exp_name}.png\")\n",
    "    \n",
    "    mlflow_ray.log_param(\"batch_size\", 32)\n",
    "    mlflow_ray.log_param(\"layer_size\", layerSize)\n",
    "    mlflow_ray.log_param(\"hidden_layers\", loops)\n",
    "    mlflow_ray.log_param(\"activation_function\", \"relu\")\n",
    "    mlflow_ray.log_param(\"dense_kernel_initializer\", \"torchnormal\")\n",
    "    mlflow_ray.log_param(\"epochs\", epochs)\n",
    "    mlflow_ray.log_param(\"learning_rate\", 0.001)\n",
    "    mlflow_ray.log_param(\"optimizer\", \"adam\")\n",
    "\n",
    "    mlflow_ray.log_metric(\"mae\", mae)\n",
    "    mlflow_ray.log_metric(\"mse\", mse)\n",
    "    mlflow_ray.log_metric(\"mape\", mape)\n",
    "    mlflow_ray.log_metric(\"r2_score\", r2_score)\n",
    "\n",
    "    model_onnx = torch.onnx.dynamo_export(model, X_train[0])\n",
    "    mlflow_ray.onnx.log_model(model_onnx.model_proto, f\"model-{mlflow_exp_name}\")\n",
    "\n",
    "    row = [hiddenSize, r2_score, mae, mse, mape]\n",
    "    del(model)\n",
    "\n",
    "    return row"
   ]
  },
  {
   "cell_type": "code",
   "execution_count": 35,
   "id": "9b30b1eb-e528-4baa-9304-ad7ddcc5447b",
   "metadata": {},
   "outputs": [
    {
     "name": "stdout",
     "output_type": "stream",
     "text": [
      "CPU times: user 21.6 ms, sys: 6.76 ms, total: 28.4 ms\n",
      "Wall time: 18.9 ms\n"
     ]
    }
   ],
   "source": [
    "%%time\n",
    "\n",
    "testResDataFrame2 = []\n",
    "layerSize = 64\n",
    "loops = 15\n",
    "\n",
    "for i in range(loops):\n",
    "    rowResult = createRemoteModel.remote(inputSize, layerSize, i, \n",
    "                        y_train_scaled, X_train_scaled,\n",
    "                        y_test_scaled, X_test_scaled, \n",
    "                        targetStdScaler, labelSet='all_ray')\n",
    "    testResDataFrame2.append(rowResult)"
   ]
  },
  {
   "cell_type": "code",
   "execution_count": 36,
   "id": "712fbf5c-b1a7-4c83-989d-239460e10d3c",
   "metadata": {},
   "outputs": [
    {
     "data": {
      "text/plain": [
       "[ObjectRef(c8ef45ccd0112571ffffffffffffffffffffffff0100000001000000),\n",
       " ObjectRef(16310a0f0a45af5cffffffffffffffffffffffff0100000001000000),\n",
       " ObjectRef(c2668a65bda616c1ffffffffffffffffffffffff0100000001000000),\n",
       " ObjectRef(32d950ec0ccf9d2affffffffffffffffffffffff0100000001000000),\n",
       " ObjectRef(e0dc174c83599034ffffffffffffffffffffffff0100000001000000),\n",
       " ObjectRef(f4402ec78d3a2607ffffffffffffffffffffffff0100000001000000),\n",
       " ObjectRef(f91b78d7db9a6593ffffffffffffffffffffffff0100000001000000),\n",
       " ObjectRef(82891771158d68c1ffffffffffffffffffffffff0100000001000000),\n",
       " ObjectRef(8849b62d89cb30f9ffffffffffffffffffffffff0100000001000000),\n",
       " ObjectRef(80e22aed7718a125ffffffffffffffffffffffff0100000001000000),\n",
       " ObjectRef(359ec6ce30d3ca2dffffffffffffffffffffffff0100000001000000),\n",
       " ObjectRef(1e8ff6d236132784ffffffffffffffffffffffff0100000001000000),\n",
       " ObjectRef(85748392bcd969ccffffffffffffffffffffffff0100000001000000),\n",
       " ObjectRef(d695f922effe6d99ffffffffffffffffffffffff0100000001000000),\n",
       " ObjectRef(2751d69548dba956ffffffffffffffffffffffff0100000001000000)]"
      ]
     },
     "execution_count": 36,
     "metadata": {},
     "output_type": "execute_result"
    }
   ],
   "source": [
    "testResDataFrame2"
   ]
  },
  {
   "cell_type": "code",
   "execution_count": 37,
   "id": "5e103dbd-4a6d-41d8-b5b2-5638606a3b72",
   "metadata": {},
   "outputs": [
    {
     "name": "stdout",
     "output_type": "stream",
     "text": [
      "CPU times: user 22.4 ms, sys: 13.7 ms, total: 36.1 ms\n",
      "Wall time: 8.74 s\n"
     ]
    }
   ],
   "source": [
    "%%time\n",
    "\n",
    "tResDF2 = ray.get(testResDataFrame2)"
   ]
  },
  {
   "cell_type": "code",
   "execution_count": 38,
   "id": "16a6ca12-c6c4-4d46-ae81-f3653516fe02",
   "metadata": {},
   "outputs": [],
   "source": [
    "ray.shutdown()"
   ]
  },
  {
   "cell_type": "code",
   "execution_count": 39,
   "id": "2b806634-531a-4f67-9064-ab6d113a2124",
   "metadata": {},
   "outputs": [],
   "source": [
    "colList2=colList.copy()"
   ]
  },
  {
   "cell_type": "code",
   "execution_count": 40,
   "id": "eef01906-34c7-4d31-9161-4397cdf9049a",
   "metadata": {},
   "outputs": [],
   "source": [
    "df = pd.DataFrame(tResDF2, columns=colList2[0:5])"
   ]
  },
  {
   "cell_type": "code",
   "execution_count": 41,
   "id": "00b76c0d-7588-4492-a42e-3a378b693509",
   "metadata": {},
   "outputs": [
    {
     "data": {
      "text/html": [
       "<div>\n",
       "<style scoped>\n",
       "    .dataframe tbody tr th:only-of-type {\n",
       "        vertical-align: middle;\n",
       "    }\n",
       "\n",
       "    .dataframe tbody tr th {\n",
       "        vertical-align: top;\n",
       "    }\n",
       "\n",
       "    .dataframe thead th {\n",
       "        text-align: right;\n",
       "    }\n",
       "</style>\n",
       "<table border=\"1\" class=\"dataframe\">\n",
       "  <thead>\n",
       "    <tr style=\"text-align: right;\">\n",
       "      <th></th>\n",
       "      <th>HiddenLayers</th>\n",
       "      <th>R2Score</th>\n",
       "      <th>MAE</th>\n",
       "      <th>MSE</th>\n",
       "      <th>MAPE</th>\n",
       "    </tr>\n",
       "  </thead>\n",
       "  <tbody>\n",
       "    <tr>\n",
       "      <th>0</th>\n",
       "      <td>0</td>\n",
       "      <td>0.996570</td>\n",
       "      <td>0.050200</td>\n",
       "      <td>0.003956</td>\n",
       "      <td>0.089772</td>\n",
       "    </tr>\n",
       "    <tr>\n",
       "      <th>1</th>\n",
       "      <td>1</td>\n",
       "      <td>0.996330</td>\n",
       "      <td>0.057317</td>\n",
       "      <td>0.004232</td>\n",
       "      <td>0.127071</td>\n",
       "    </tr>\n",
       "    <tr>\n",
       "      <th>2</th>\n",
       "      <td>2</td>\n",
       "      <td>0.992061</td>\n",
       "      <td>0.065260</td>\n",
       "      <td>0.009155</td>\n",
       "      <td>0.122597</td>\n",
       "    </tr>\n",
       "    <tr>\n",
       "      <th>3</th>\n",
       "      <td>3</td>\n",
       "      <td>0.995105</td>\n",
       "      <td>0.056847</td>\n",
       "      <td>0.005644</td>\n",
       "      <td>0.126042</td>\n",
       "    </tr>\n",
       "    <tr>\n",
       "      <th>4</th>\n",
       "      <td>4</td>\n",
       "      <td>0.990530</td>\n",
       "      <td>0.083588</td>\n",
       "      <td>0.010921</td>\n",
       "      <td>0.181601</td>\n",
       "    </tr>\n",
       "    <tr>\n",
       "      <th>5</th>\n",
       "      <td>5</td>\n",
       "      <td>0.997546</td>\n",
       "      <td>0.038416</td>\n",
       "      <td>0.002830</td>\n",
       "      <td>0.048340</td>\n",
       "    </tr>\n",
       "    <tr>\n",
       "      <th>6</th>\n",
       "      <td>6</td>\n",
       "      <td>0.996571</td>\n",
       "      <td>0.042661</td>\n",
       "      <td>0.003954</td>\n",
       "      <td>0.088185</td>\n",
       "    </tr>\n",
       "    <tr>\n",
       "      <th>7</th>\n",
       "      <td>7</td>\n",
       "      <td>0.997321</td>\n",
       "      <td>0.040987</td>\n",
       "      <td>0.003090</td>\n",
       "      <td>0.079195</td>\n",
       "    </tr>\n",
       "    <tr>\n",
       "      <th>8</th>\n",
       "      <td>8</td>\n",
       "      <td>0.997425</td>\n",
       "      <td>0.044777</td>\n",
       "      <td>0.002969</td>\n",
       "      <td>0.087702</td>\n",
       "    </tr>\n",
       "    <tr>\n",
       "      <th>9</th>\n",
       "      <td>9</td>\n",
       "      <td>0.995643</td>\n",
       "      <td>0.058798</td>\n",
       "      <td>0.005025</td>\n",
       "      <td>0.086857</td>\n",
       "    </tr>\n",
       "    <tr>\n",
       "      <th>10</th>\n",
       "      <td>10</td>\n",
       "      <td>0.994049</td>\n",
       "      <td>0.069445</td>\n",
       "      <td>0.006862</td>\n",
       "      <td>0.099472</td>\n",
       "    </tr>\n",
       "    <tr>\n",
       "      <th>11</th>\n",
       "      <td>11</td>\n",
       "      <td>0.995357</td>\n",
       "      <td>0.053772</td>\n",
       "      <td>0.005354</td>\n",
       "      <td>0.108089</td>\n",
       "    </tr>\n",
       "    <tr>\n",
       "      <th>12</th>\n",
       "      <td>12</td>\n",
       "      <td>0.994516</td>\n",
       "      <td>0.063431</td>\n",
       "      <td>0.006324</td>\n",
       "      <td>0.171883</td>\n",
       "    </tr>\n",
       "    <tr>\n",
       "      <th>13</th>\n",
       "      <td>13</td>\n",
       "      <td>0.997888</td>\n",
       "      <td>0.034172</td>\n",
       "      <td>0.002435</td>\n",
       "      <td>0.062971</td>\n",
       "    </tr>\n",
       "    <tr>\n",
       "      <th>14</th>\n",
       "      <td>14</td>\n",
       "      <td>0.996488</td>\n",
       "      <td>0.051736</td>\n",
       "      <td>0.004051</td>\n",
       "      <td>0.094556</td>\n",
       "    </tr>\n",
       "  </tbody>\n",
       "</table>\n",
       "</div>"
      ],
      "text/plain": [
       "    HiddenLayers   R2Score       MAE       MSE      MAPE\n",
       "0              0  0.996570  0.050200  0.003956  0.089772\n",
       "1              1  0.996330  0.057317  0.004232  0.127071\n",
       "2              2  0.992061  0.065260  0.009155  0.122597\n",
       "3              3  0.995105  0.056847  0.005644  0.126042\n",
       "4              4  0.990530  0.083588  0.010921  0.181601\n",
       "5              5  0.997546  0.038416  0.002830  0.048340\n",
       "6              6  0.996571  0.042661  0.003954  0.088185\n",
       "7              7  0.997321  0.040987  0.003090  0.079195\n",
       "8              8  0.997425  0.044777  0.002969  0.087702\n",
       "9              9  0.995643  0.058798  0.005025  0.086857\n",
       "10            10  0.994049  0.069445  0.006862  0.099472\n",
       "11            11  0.995357  0.053772  0.005354  0.108089\n",
       "12            12  0.994516  0.063431  0.006324  0.171883\n",
       "13            13  0.997888  0.034172  0.002435  0.062971\n",
       "14            14  0.996488  0.051736  0.004051  0.094556"
      ]
     },
     "execution_count": 41,
     "metadata": {},
     "output_type": "execute_result"
    }
   ],
   "source": [
    "df"
   ]
  },
  {
   "cell_type": "code",
   "execution_count": 42,
   "id": "4d0f8ec4-f1f9-4e97-bd5b-7a12645709eb",
   "metadata": {},
   "outputs": [],
   "source": [
    "minMaeIDX_ray = df.loc[df['MAE']==df['MAE'].min()].index[0]"
   ]
  },
  {
   "cell_type": "code",
   "execution_count": 43,
   "id": "2e61fc31-128e-482f-b482-385946e2d284",
   "metadata": {},
   "outputs": [
    {
     "data": {
      "text/plain": [
       "HiddenLayers    13.000000\n",
       "R2Score          0.997888\n",
       "MAE              0.034172\n",
       "MSE              0.002435\n",
       "MAPE             0.062971\n",
       "Name: 13, dtype: float64"
      ]
     },
     "execution_count": 43,
     "metadata": {},
     "output_type": "execute_result"
    }
   ],
   "source": [
    "df.iloc[minMaeIDX_ray]"
   ]
  },
  {
   "cell_type": "code",
   "execution_count": 44,
   "id": "3b6a7615-ab1c-43ec-9c39-9551d1f5c120",
   "metadata": {},
   "outputs": [
    {
     "data": {
      "image/png": "[encoded data removed]",
      "text/plain": [
       "<Figure size 2000x1000 with 1 Axes>"
      ]
     },
     "metadata": {},
     "output_type": "display_data"
    }
   ],
   "source": [
    "#Plot train vs validation\n",
    "plt.figure(figsize=(20,10))\n",
    "#plt.plot(df['R2Score'])\n",
    "plt.plot(df['MAE'])\n",
    "#plt.plot(df['MSE'])\n",
    "plt.title('Training Scores MLP')\n",
    "plt.ylabel('Score')\n",
    "plt.xlabel('Iteration')\n",
    "plt.legend(['MAE'], loc='upper right')\n",
    "plt.show()"
   ]
  },
  {
   "cell_type": "code",
   "execution_count": 45,
   "id": "4fa84600-a72f-44cb-b118-bae15a88377a",
   "metadata": {},
   "outputs": [
    {
     "data": {
      "text/plain": [
       "Index(['asyncResp', 'asyncRespThreads', 'cThreads', 'jacptQSize',\n",
       "       'jacptThreads', 'ltTargetSize', 'numConnections', 'timeoutSeconds'],\n",
       "      dtype='object')"
      ]
     },
     "execution_count": 45,
     "metadata": {},
     "output_type": "execute_result"
    }
   ],
   "source": [
    "X_test.columns"
   ]
  },
  {
   "cell_type": "code",
   "execution_count": 46,
   "id": "a312405a-05b5-4ac7-acaa-558113126424",
   "metadata": {},
   "outputs": [
    {
     "data": {
      "text/html": [
       "<div>\n",
       "<style scoped>\n",
       "    .dataframe tbody tr th:only-of-type {\n",
       "        vertical-align: middle;\n",
       "    }\n",
       "\n",
       "    .dataframe tbody tr th {\n",
       "        vertical-align: top;\n",
       "    }\n",
       "\n",
       "    .dataframe thead th {\n",
       "        text-align: right;\n",
       "    }\n",
       "</style>\n",
       "<table border=\"1\" class=\"dataframe\">\n",
       "  <thead>\n",
       "    <tr style=\"text-align: right;\">\n",
       "      <th></th>\n",
       "      <th>asyncResp</th>\n",
       "      <th>asyncRespThreads</th>\n",
       "      <th>cThreads</th>\n",
       "      <th>jacptQSize</th>\n",
       "      <th>jacptThreads</th>\n",
       "      <th>ltTargetSize</th>\n",
       "      <th>mean_tps</th>\n",
       "      <th>numConnections</th>\n",
       "      <th>timeoutSeconds</th>\n",
       "    </tr>\n",
       "    <tr>\n",
       "      <th>DateTime</th>\n",
       "      <th></th>\n",
       "      <th></th>\n",
       "      <th></th>\n",
       "      <th></th>\n",
       "      <th></th>\n",
       "      <th></th>\n",
       "      <th></th>\n",
       "      <th></th>\n",
       "      <th></th>\n",
       "    </tr>\n",
       "  </thead>\n",
       "  <tbody>\n",
       "    <tr>\n",
       "      <th>2022-09-28 15:25:25+00:00</th>\n",
       "      <td>True</td>\n",
       "      <td>21.0</td>\n",
       "      <td>277.0</td>\n",
       "      <td>1712.0</td>\n",
       "      <td>262.0</td>\n",
       "      <td>7.0</td>\n",
       "      <td>307.015227</td>\n",
       "      <td>31.0</td>\n",
       "      <td>5.0</td>\n",
       "    </tr>\n",
       "  </tbody>\n",
       "</table>\n",
       "</div>"
      ],
      "text/plain": [
       "                           asyncResp  asyncRespThreads  cThreads  jacptQSize  \\\n",
       "DateTime                                                                       \n",
       "2022-09-28 15:25:25+00:00       True              21.0     277.0      1712.0   \n",
       "\n",
       "                           jacptThreads  ltTargetSize    mean_tps  \\\n",
       "DateTime                                                            \n",
       "2022-09-28 15:25:25+00:00         262.0           7.0  307.015227   \n",
       "\n",
       "                           numConnections  timeoutSeconds  \n",
       "DateTime                                                   \n",
       "2022-09-28 15:25:25+00:00            31.0             5.0  "
      ]
     },
     "execution_count": 46,
     "metadata": {},
     "output_type": "execute_result"
    }
   ],
   "source": [
    "data.head(1)"
   ]
  },
  {
   "cell_type": "code",
   "execution_count": 47,
   "id": "25f8c1b1-7659-4e05-bd87-a3170d1bd32c",
   "metadata": {},
   "outputs": [],
   "source": [
    "record = [[True, 21, 277, 1712, 262, 7, 31, 5]]"
   ]
  },
  {
   "cell_type": "code",
   "execution_count": 48,
   "id": "c7e9f096-e0ad-4ad4-826d-89a168fac930",
   "metadata": {},
   "outputs": [],
   "source": [
    "test_rec = stdScaler.transform(record)"
   ]
  },
  {
   "cell_type": "code",
   "execution_count": 49,
   "id": "b54f1a2b-e189-4aec-be47-e789bc7c328b",
   "metadata": {},
   "outputs": [],
   "source": [
    "test_rec = torch.FloatTensor(test_rec)"
   ]
  },
  {
   "cell_type": "code",
   "execution_count": 50,
   "id": "ccdd1362-c865-4d05-85a9-6af58eb5dd31",
   "metadata": {},
   "outputs": [
    {
     "data": {
      "text/plain": [
       "tensor([[ 0.3482, -0.1661,  1.1439, -0.5367,  1.1439, -0.2901,  0.9050,  0.3004]])"
      ]
     },
     "execution_count": 50,
     "metadata": {},
     "output_type": "execute_result"
    }
   ],
   "source": [
    "test_rec"
   ]
  },
  {
   "cell_type": "code",
   "execution_count": 51,
   "id": "24226c1f-ec59-44eb-b64a-b1c4adc78c26",
   "metadata": {},
   "outputs": [],
   "source": [
    "ml_model = testResDataFrame['model'][minMaeIDX]"
   ]
  },
  {
   "cell_type": "code",
   "execution_count": 52,
   "id": "9d179b8b-0840-4f71-9aa1-75608e840f93",
   "metadata": {},
   "outputs": [
    {
     "data": {
      "text/plain": [
       "array([[307.02674017]])"
      ]
     },
     "execution_count": 52,
     "metadata": {},
     "output_type": "execute_result"
    }
   ],
   "source": [
    "with torch.no_grad():\n",
    "    y_pred_scaled = ml_model.forward(test_rec)\n",
    "\n",
    "y_pred = targetStdScaler.inverse_transform(y_pred_scaled)\n",
    "y_pred"
   ]
  },
  {
   "cell_type": "markdown",
   "id": "a29cd797-e15f-43ea-ad70-e6b0dde39270",
   "metadata": {},
   "source": [
    "### Save the scalers for the inference calls"
   ]
  },
  {
   "cell_type": "code",
   "execution_count": 53,
   "id": "fe882678-e78f-4b9e-9707-ab0a9e16e7a0",
   "metadata": {},
   "outputs": [
    {
     "data": {
      "text/plain": [
       "['target_scaler.pkl']"
      ]
     },
     "execution_count": 53,
     "metadata": {},
     "output_type": "execute_result"
    }
   ],
   "source": [
    "joblib.dump(targetStdScaler,'target_scaler.pkl')"
   ]
  },
  {
   "cell_type": "code",
   "execution_count": 54,
   "id": "21964a3b-33c8-43fc-bcac-cd9c663d5b79",
   "metadata": {},
   "outputs": [
    {
     "data": {
      "text/plain": [
       "['standard_scaler.pkl']"
      ]
     },
     "execution_count": 54,
     "metadata": {},
     "output_type": "execute_result"
    }
   ],
   "source": [
    "joblib.dump(stdScaler,'standard_scaler.pkl')"
   ]
  },
  {
   "cell_type": "code",
   "execution_count": 55,
   "id": "b29d5365-d4fa-44bc-93db-0935482fefa9",
   "metadata": {},
   "outputs": [],
   "source": [
    "torch.onnx.export(ml_model, test_rec, 'torch_mlasp.onnx')"
   ]
  },
  {
   "cell_type": "code",
   "execution_count": null,
   "id": "feee2ed0-0853-45a8-8d7b-15769afb404a",
   "metadata": {},
   "outputs": [],
   "source": []
  }
 ],
 "metadata": {
  "kernelspec": {
   "display_name": "PyTorch",
   "language": "python",
   "name": "torch"
  },
  "language_info": {
   "codemirror_mode": {
    "name": "ipython",
    "version": 3
   },
   "file_extension": ".py",
   "mimetype": "text/x-python",
   "name": "python",
   "nbconvert_exporter": "python",
   "pygments_lexer": "ipython3",
   "version": "3.11.6"
  }
 },
 "nbformat": 4,
 "nbformat_minor": 5
}
