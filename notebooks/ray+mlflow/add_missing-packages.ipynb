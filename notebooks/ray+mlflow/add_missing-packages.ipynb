{
 "cells": [
  {
   "cell_type": "code",
   "execution_count": null,
   "id": "f06a9bc3-baa5-41dc-a935-cd9ecc94e08c",
   "metadata": {},
   "outputs": [],
   "source": [
    "!pip3 install influxdb"
   ]
  },
  {
   "cell_type": "code",
   "execution_count": null,
   "id": "d81b958b-aed1-4a06-a956-f9d40e2635fb",
   "metadata": {},
   "outputs": [],
   "source": [
    "!pip install prometheus-api"
   ]
  },
  {
   "cell_type": "code",
   "execution_count": null,
   "id": "84984547-8816-46b8-bd52-1a9309f4a080",
   "metadata": {},
   "outputs": [],
   "source": [
    "!pip install prometheus-api-client\n",
    "!pip install prometheus-client"
   ]
  },
  {
   "cell_type": "code",
   "execution_count": null,
   "id": "bd2f8bd5-cd9e-46d4-9c5d-259b29153dbd",
   "metadata": {},
   "outputs": [],
   "source": [
    "!pip install ray==\"2.6.3\""
   ]
  },
  {
   "cell_type": "code",
   "execution_count": null,
   "id": "e0bd9f6b-fa72-4651-92da-7a1817f30ffa",
   "metadata": {},
   "outputs": [],
   "source": [
    "!pip install mlflow==\"2.6.0\""
   ]
  }
 ],
 "metadata": {
  "kernelspec": {
   "display_name": "Python 3 (ipykernel)",
   "language": "python",
   "name": "python3"
  },
  "language_info": {
   "codemirror_mode": {
    "name": "ipython",
    "version": 3
   },
   "file_extension": ".py",
   "mimetype": "text/x-python",
   "name": "python",
   "nbconvert_exporter": "python",
   "pygments_lexer": "ipython3",
   "version": "3.11.4"
  }
 },
 "nbformat": 4,
 "nbformat_minor": 5
}
