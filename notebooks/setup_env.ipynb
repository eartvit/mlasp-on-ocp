{
 "cells": [
  {
   "cell_type": "code",
   "execution_count": null,
   "id": "b9c67f4d-f169-467f-8509-c8571bcf5416",
   "metadata": {},
   "outputs": [],
   "source": [
    "!pip3 install influxdb\n",
    "#!pip3 install pandas==1.3.3\n",
    "!pip3 install matplotlib"
   ]
  },
  {
   "cell_type": "code",
   "execution_count": null,
   "id": "34de2c2b-cd77-44f3-a40c-f0012af6a330",
   "metadata": {},
   "outputs": [],
   "source": [
    "!pip install ray==\"2.4.0\""
   ]
  },
  {
   "cell_type": "code",
   "execution_count": null,
   "id": "0cfde312-be69-473a-87ee-924db81bfd9d",
   "metadata": {},
   "outputs": [],
   "source": [
    "!pip3 install tf2onnx"
   ]
  },
  {
   "cell_type": "code",
   "execution_count": null,
   "id": "8d7b0856-812a-4a5f-a886-4053f39a0cdf",
   "metadata": {},
   "outputs": [],
   "source": [
    "!pip install protobuf==\"3.19.6\""
   ]
  },
  {
   "cell_type": "code",
   "execution_count": null,
   "id": "7c7489ba-bc76-4d75-ac34-14fac421e8ad",
   "metadata": {},
   "outputs": [],
   "source": [
    "!pip install kfp_tekton"
   ]
  },
  {
   "cell_type": "code",
   "execution_count": null,
   "id": "614bb2a9-5b38-451c-b910-82cd20040c6c",
   "metadata": {},
   "outputs": [],
   "source": []
  }
 ],
 "metadata": {
  "kernelspec": {
   "display_name": "Python 3",
   "language": "python",
   "name": "python3"
  },
  "language_info": {
   "codemirror_mode": {
    "name": "ipython",
    "version": 3
   },
   "file_extension": ".py",
   "mimetype": "text/x-python",
   "name": "python",
   "nbconvert_exporter": "python",
   "pygments_lexer": "ipython3",
   "version": "3.8.13"
  }
 },
 "nbformat": 4,
 "nbformat_minor": 5
}
