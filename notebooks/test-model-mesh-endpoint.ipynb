{
 "cells": [
  {
   "cell_type": "code",
   "execution_count": null,
   "id": "0fe85686-f4e7-4260-8e4e-786a4f68d685",
   "metadata": {},
   "outputs": [],
   "source": [
    "import json\n",
    "import requests\n",
    "import joblib\n",
    "\n",
    "stdScaler = joblib.load('standard_scaler.pkl')\n",
    "target_scaler = joblib.load('target_scaler.pkl')\n",
    "# ml_service_endpoint = 'https://mlasp-mlasp-datascience.apps.cluster-ffqgg.ffqgg.sandbox1386.opentlc.com/v2/models/mlasp/infer'\n",
    "ml_service_endpoint = \"https://mlasp2-mlasp-datascience.apps.cluster-ffqgg.ffqgg.sandbox1386.opentlc.com/v2/models/mlasp2/infer\"\n",
    "record = [[True, 21, 277, 1712, 262, 7, 31, 5]]\n",
    "\n",
    "test_rec = stdScaler.transform(record).tolist()\n",
    "\n",
    "message = {\n",
    "    \"inputs\":[\n",
    "        {\n",
    "            \"name\":\"dense_input\",\n",
    "            \"shape\":[\n",
    "                1,\n",
    "                8\n",
    "            ],\n",
    "            \"datatype\":\"FP32\",\n",
    "            \"data\":test_rec\n",
    "        }\n",
    "    ]        \n",
    "}\n",
    "\n",
    "headers = {\n",
    "    'content-type': 'application/json'\n",
    "}    \n",
    "\n",
    "resp = requests.post(url=ml_service_endpoint, json=message, verify=False, headers=headers)"
   ]
  },
  {
   "cell_type": "code",
   "execution_count": null,
   "id": "76e0bee7-798f-44a9-b8f5-def7a68d6a42",
   "metadata": {},
   "outputs": [],
   "source": [
    "resp.json()"
   ]
  },
  {
   "cell_type": "code",
   "execution_count": null,
   "id": "d06ce802-1285-46de-8eca-cb4f66bb0954",
   "metadata": {},
   "outputs": [],
   "source": [
    "y_pred_scaled = resp.json()['outputs'][0]['data']"
   ]
  },
  {
   "cell_type": "code",
   "execution_count": null,
   "id": "c0b51f4c-aa26-484d-b360-b6488a31a509",
   "metadata": {},
   "outputs": [],
   "source": [
    "y_pred = target_scaler.inverse_transform([y_pred_scaled])[0]\n",
    "\n",
    "print(y_pred)"
   ]
  },
  {
   "cell_type": "code",
   "execution_count": null,
   "id": "3a3d3566-6baf-4d18-90be-3a2259a0e936",
   "metadata": {},
   "outputs": [],
   "source": []
  }
 ],
 "metadata": {
  "kernelspec": {
   "display_name": "Python 3.9",
   "language": "python",
   "name": "python3"
  },
  "language_info": {
   "codemirror_mode": {
    "name": "ipython",
    "version": 3
   },
   "file_extension": ".py",
   "mimetype": "text/x-python",
   "name": "python",
   "nbconvert_exporter": "python",
   "pygments_lexer": "ipython3",
   "version": "3.9.18"
  }
 },
 "nbformat": 4,
 "nbformat_minor": 5
}
