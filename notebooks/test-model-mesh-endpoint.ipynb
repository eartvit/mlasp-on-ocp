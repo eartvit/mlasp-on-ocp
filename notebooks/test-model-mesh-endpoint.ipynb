{
 "cells": [
  {
   "cell_type": "code",
   "execution_count": 1,
   "id": "0fe85686-f4e7-4260-8e4e-786a4f68d685",
   "metadata": {},
   "outputs": [
    {
     "name": "stdout",
     "output_type": "stream",
     "text": [
      "311.73781097991974\n"
     ]
    },
    {
     "name": "stderr",
     "output_type": "stream",
     "text": [
      "/opt/app-root/lib64/python3.8/site-packages/urllib3/connectionpool.py:1045: InsecureRequestWarning: Unverified HTTPS request is being made to host 'mlasp-mlasp.apps.cluster-gk26z.gk26z.sandbox3165.opentlc.com'. Adding certificate verification is strongly advised. See: https://urllib3.readthedocs.io/en/1.26.x/advanced-usage.html#ssl-warnings\n",
      "  warnings.warn(\n"
     ]
    }
   ],
   "source": [
    "import json\n",
    "import requests\n",
    "import joblib\n",
    "\n",
    "stdScaler = joblib.load('standard_scaler.pkl')\n",
    "target_scaler = joblib.load('target_scaler.pkl')\n",
    "ml_service_endpoint = 'https://mlasp-mlasp.apps.cluster-gk26z.gk26z.sandbox3165.opentlc.com/v2/models/mlasp/infer'\n",
    "record = [[True, 21, 277, 1712, 262, 7, 31, 5]]\n",
    "\n",
    "test_rec = stdScaler.transform(record).tolist()\n",
    "\n",
    "message = {\n",
    "    \"inputs\":[\n",
    "        {\n",
    "            \"name\":\"dense_input\",\n",
    "            \"shape\":[\n",
    "                1,\n",
    "                8\n",
    "            ],\n",
    "            \"datatype\":\"FP32\",\n",
    "            \"data\":test_rec\n",
    "        }\n",
    "    ]        \n",
    "}\n",
    "\n",
    "headers = {\n",
    "    'content-type': 'application/json'\n",
    "}    \n",
    "\n",
    "resp = requests.post(url=ml_service_endpoint, json=message, verify=False, headers=headers)\n",
    "\n",
    "y_pred_scaled = resp.json()['outputs'][0]['data'][0]\n",
    "\n",
    "y_pred = target_scaler.inverse_transform([y_pred_scaled])[0]\n",
    "\n",
    "print(y_pred)"
   ]
  }
 ],
 "metadata": {
  "kernelspec": {
   "display_name": "Python 3",
   "language": "python",
   "name": "python3"
  },
  "language_info": {
   "codemirror_mode": {
    "name": "ipython",
    "version": 3
   },
   "file_extension": ".py",
   "mimetype": "text/x-python",
   "name": "python",
   "nbconvert_exporter": "python",
   "pygments_lexer": "ipython3",
   "version": "3.8.13"
  }
 },
 "nbformat": 4,
 "nbformat_minor": 5
}
